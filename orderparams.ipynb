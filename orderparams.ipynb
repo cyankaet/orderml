{
  "nbformat": 4,
  "nbformat_minor": 0,
  "metadata": {
    "colab": {
      "name": "orderparams.ipynb",
      "provenance": [],
      "collapsed_sections": [],
      "include_colab_link": true
    },
    "kernelspec": {
      "name": "python3",
      "display_name": "Python 3"
    }
  },
  "cells": [
    {
      "cell_type": "markdown",
      "metadata": {
        "id": "view-in-github",
        "colab_type": "text"
      },
      "source": [
        "<a href=\"https://colab.research.google.com/github/cyankaet/orderml/blob/master/orderparams.ipynb\" target=\"_parent\"><img src=\"https://colab.research.google.com/assets/colab-badge.svg\" alt=\"Open In Colab\"/></a>"
      ]
    },
    {
      "cell_type": "code",
      "metadata": {
        "id": "vhAwAv3mIqi6",
        "colab_type": "code",
        "colab": {
          "base_uri": "https://localhost:8080/",
          "height": 121
        },
        "outputId": "d33c9290-9838-49e3-ed03-29067784aa10"
      },
      "source": [
        "from google.colab import drive\n",
        "drive.mount('/content/drive')"
      ],
      "execution_count": null,
      "outputs": [
        {
          "output_type": "stream",
          "text": [
            "Go to this URL in a browser: https://accounts.google.com/o/oauth2/auth?client_id=947318989803-6bn6qk8qdgf4n4g3pfee6491hc0brc4i.apps.googleusercontent.com&redirect_uri=urn%3aietf%3awg%3aoauth%3a2.0%3aoob&response_type=code&scope=email%20https%3a%2f%2fwww.googleapis.com%2fauth%2fdocs.test%20https%3a%2f%2fwww.googleapis.com%2fauth%2fdrive%20https%3a%2f%2fwww.googleapis.com%2fauth%2fdrive.photos.readonly%20https%3a%2f%2fwww.googleapis.com%2fauth%2fpeopleapi.readonly\n",
            "\n",
            "Enter your authorization code:\n",
            "··········\n",
            "Mounted at /content/drive\n"
          ],
          "name": "stdout"
        }
      ]
    },
    {
      "cell_type": "code",
      "metadata": {
        "id": "n01CukBTI5ap",
        "colab_type": "code",
        "colab": {
          "base_uri": "https://localhost:8080/",
          "height": 34
        },
        "outputId": "7f14f5b2-df2f-4a48-b09b-d94b171aafaf"
      },
      "source": [
        "cd /content/drive/My Drive/orderml"
      ],
      "execution_count": null,
      "outputs": [
        {
          "output_type": "stream",
          "text": [
            "/content/drive/My Drive/orderml\n"
          ],
          "name": "stdout"
        }
      ]
    },
    {
      "cell_type": "markdown",
      "metadata": {
        "id": "WJAddrOsKy5p",
        "colab_type": "text"
      },
      "source": [
        "Any other drive folder is, hint, probably not the correct one! Navigate to where your orderml folder is in your drive. This code should work for a top-level folder."
      ]
    },
    {
      "cell_type": "markdown",
      "metadata": {
        "id": "SzWecICK2xmS",
        "colab_type": "text"
      },
      "source": [
        "Check you're in the right folder.\n",
        "\n"
      ]
    },
    {
      "cell_type": "code",
      "metadata": {
        "id": "72eeojpzJ-4m",
        "colab_type": "code",
        "colab": {
          "base_uri": "https://localhost:8080/",
          "height": 34
        },
        "outputId": "ff36ad16-e83f-4e9e-d5d4-c8b7408d730c"
      },
      "source": [
        "ls"
      ],
      "execution_count": null,
      "outputs": [
        {
          "output_type": "stream",
          "text": [
            "\u001b[0m\u001b[01;34mlogs\u001b[0m/  \u001b[01;34mmodels\u001b[0m/  orderparams.ipynb  OrderPresentation.gslides\n"
          ],
          "name": "stdout"
        }
      ]
    },
    {
      "cell_type": "markdown",
      "metadata": {
        "id": "lHYd9d6T3NJd",
        "colab_type": "text"
      },
      "source": [
        "Install non-default packages here."
      ]
    },
    {
      "cell_type": "code",
      "metadata": {
        "id": "1R8OvQpoJ3BD",
        "colab_type": "code",
        "colab": {
          "base_uri": "https://localhost:8080/",
          "height": 793
        },
        "outputId": "b2a65bc2-6276-4a56-8687-e76d12ed15aa"
      },
      "source": [
        "!pip install bumps\n",
        "!pip install gym\n",
        "%tensorflow_version 1.x\n",
        "!pip install stable-baselines[mpi]==2.10.0"
      ],
      "execution_count": null,
      "outputs": [
        {
          "output_type": "stream",
          "text": [
            "Collecting bumps\n",
            "\u001b[?25l  Downloading https://files.pythonhosted.org/packages/08/ec/a0f67cabd2c1b354382030c88b50b123b68c0bb8784726cae9171d6dead9/bumps-0.7.16.tar.gz (515kB)\n",
            "\r\u001b[K     |▋                               | 10kB 18.3MB/s eta 0:00:01\r\u001b[K     |█▎                              | 20kB 1.7MB/s eta 0:00:01\r\u001b[K     |██                              | 30kB 2.2MB/s eta 0:00:01\r\u001b[K     |██▌                             | 40kB 2.5MB/s eta 0:00:01\r\u001b[K     |███▏                            | 51kB 2.0MB/s eta 0:00:01\r\u001b[K     |███▉                            | 61kB 2.2MB/s eta 0:00:01\r\u001b[K     |████▌                           | 71kB 2.4MB/s eta 0:00:01\r\u001b[K     |█████                           | 81kB 2.7MB/s eta 0:00:01\r\u001b[K     |█████▊                          | 92kB 2.9MB/s eta 0:00:01\r\u001b[K     |██████▍                         | 102kB 2.8MB/s eta 0:00:01\r\u001b[K     |███████                         | 112kB 2.8MB/s eta 0:00:01\r\u001b[K     |███████▋                        | 122kB 2.8MB/s eta 0:00:01\r\u001b[K     |████████▎                       | 133kB 2.8MB/s eta 0:00:01\r\u001b[K     |█████████                       | 143kB 2.8MB/s eta 0:00:01\r\u001b[K     |█████████▌                      | 153kB 2.8MB/s eta 0:00:01\r\u001b[K     |██████████▏                     | 163kB 2.8MB/s eta 0:00:01\r\u001b[K     |██████████▉                     | 174kB 2.8MB/s eta 0:00:01\r\u001b[K     |███████████▍                    | 184kB 2.8MB/s eta 0:00:01\r\u001b[K     |████████████                    | 194kB 2.8MB/s eta 0:00:01\r\u001b[K     |████████████▊                   | 204kB 2.8MB/s eta 0:00:01\r\u001b[K     |█████████████▍                  | 215kB 2.8MB/s eta 0:00:01\r\u001b[K     |██████████████                  | 225kB 2.8MB/s eta 0:00:01\r\u001b[K     |██████████████▋                 | 235kB 2.8MB/s eta 0:00:01\r\u001b[K     |███████████████▎                | 245kB 2.8MB/s eta 0:00:01\r\u001b[K     |███████████████▉                | 256kB 2.8MB/s eta 0:00:01\r\u001b[K     |████████████████▌               | 266kB 2.8MB/s eta 0:00:01\r\u001b[K     |█████████████████▏              | 276kB 2.8MB/s eta 0:00:01\r\u001b[K     |█████████████████▉              | 286kB 2.8MB/s eta 0:00:01\r\u001b[K     |██████████████████▍             | 296kB 2.8MB/s eta 0:00:01\r\u001b[K     |███████████████████             | 307kB 2.8MB/s eta 0:00:01\r\u001b[K     |███████████████████▊            | 317kB 2.8MB/s eta 0:00:01\r\u001b[K     |████████████████████▎           | 327kB 2.8MB/s eta 0:00:01\r\u001b[K     |█████████████████████           | 337kB 2.8MB/s eta 0:00:01\r\u001b[K     |█████████████████████▋          | 348kB 2.8MB/s eta 0:00:01\r\u001b[K     |██████████████████████▎         | 358kB 2.8MB/s eta 0:00:01\r\u001b[K     |██████████████████████▉         | 368kB 2.8MB/s eta 0:00:01\r\u001b[K     |███████████████████████▌        | 378kB 2.8MB/s eta 0:00:01\r\u001b[K     |████████████████████████▏       | 389kB 2.8MB/s eta 0:00:01\r\u001b[K     |████████████████████████▊       | 399kB 2.8MB/s eta 0:00:01\r\u001b[K     |█████████████████████████▍      | 409kB 2.8MB/s eta 0:00:01\r\u001b[K     |██████████████████████████      | 419kB 2.8MB/s eta 0:00:01\r\u001b[K     |██████████████████████████▊     | 430kB 2.8MB/s eta 0:00:01\r\u001b[K     |███████████████████████████▎    | 440kB 2.8MB/s eta 0:00:01\r\u001b[K     |████████████████████████████    | 450kB 2.8MB/s eta 0:00:01\r\u001b[K     |████████████████████████████▋   | 460kB 2.8MB/s eta 0:00:01\r\u001b[K     |█████████████████████████████▏  | 471kB 2.8MB/s eta 0:00:01\r\u001b[K     |█████████████████████████████▉  | 481kB 2.8MB/s eta 0:00:01\r\u001b[K     |██████████████████████████████▌ | 491kB 2.8MB/s eta 0:00:01\r\u001b[K     |███████████████████████████████▏| 501kB 2.8MB/s eta 0:00:01\r\u001b[K     |███████████████████████████████▊| 512kB 2.8MB/s eta 0:00:01\r\u001b[K     |████████████████████████████████| 522kB 2.8MB/s \n",
            "\u001b[?25hRequirement already satisfied: six in /usr/local/lib/python3.6/dist-packages (from bumps) (1.15.0)\n",
            "Building wheels for collected packages: bumps\n",
            "  Building wheel for bumps (setup.py) ... \u001b[?25l\u001b[?25hdone\n",
            "  Created wheel for bumps: filename=bumps-0.7.16-cp36-none-any.whl size=546174 sha256=86155fccefe512b390a7ff0f3bad442cb6c5b44ac6300ea99ed7351c89c3222e\n",
            "  Stored in directory: /root/.cache/pip/wheels/41/f7/17/a898c85754ad1c6d7de087e28809af7989b81f14f200547de3\n",
            "Successfully built bumps\n",
            "Installing collected packages: bumps\n",
            "Successfully installed bumps-0.7.16\n",
            "Requirement already satisfied: gym in /usr/local/lib/python3.6/dist-packages (0.17.2)\n",
            "Requirement already satisfied: pyglet<=1.5.0,>=1.4.0 in /usr/local/lib/python3.6/dist-packages (from gym) (1.5.0)\n",
            "Requirement already satisfied: numpy>=1.10.4 in /usr/local/lib/python3.6/dist-packages (from gym) (1.18.5)\n",
            "Requirement already satisfied: scipy in /usr/local/lib/python3.6/dist-packages (from gym) (1.4.1)\n",
            "Requirement already satisfied: cloudpickle<1.4.0,>=1.2.0 in /usr/local/lib/python3.6/dist-packages (from gym) (1.3.0)\n",
            "Requirement already satisfied: future in /usr/local/lib/python3.6/dist-packages (from pyglet<=1.5.0,>=1.4.0->gym) (0.16.0)\n",
            "TensorFlow 1.x selected.\n",
            "Collecting stable-baselines[mpi]==2.10.0\n",
            "\u001b[?25l  Downloading https://files.pythonhosted.org/packages/e5/fe/db8159d4d79109c6c8942abe77c7ba6b6e008c32ae55870a35e73fa10db3/stable_baselines-2.10.0-py3-none-any.whl (248kB)\n",
            "\u001b[K     |████████████████████████████████| 256kB 2.7MB/s \n",
            "\u001b[?25hRequirement already satisfied: matplotlib in /usr/local/lib/python3.6/dist-packages (from stable-baselines[mpi]==2.10.0) (3.2.2)\n",
            "Requirement already satisfied: pandas in /usr/local/lib/python3.6/dist-packages (from stable-baselines[mpi]==2.10.0) (1.0.5)\n",
            "Requirement already satisfied: joblib in /usr/local/lib/python3.6/dist-packages (from stable-baselines[mpi]==2.10.0) (0.16.0)\n",
            "Requirement already satisfied: opencv-python in /usr/local/lib/python3.6/dist-packages (from stable-baselines[mpi]==2.10.0) (4.1.2.30)\n",
            "Requirement already satisfied: cloudpickle>=0.5.5 in /usr/local/lib/python3.6/dist-packages (from stable-baselines[mpi]==2.10.0) (1.3.0)\n",
            "Requirement already satisfied: numpy in /usr/local/lib/python3.6/dist-packages (from stable-baselines[mpi]==2.10.0) (1.18.5)\n",
            "Requirement already satisfied: scipy in /usr/local/lib/python3.6/dist-packages (from stable-baselines[mpi]==2.10.0) (1.4.1)\n",
            "Requirement already satisfied: gym[atari,classic_control]>=0.11 in /usr/local/lib/python3.6/dist-packages (from stable-baselines[mpi]==2.10.0) (0.17.2)\n",
            "Requirement already satisfied: mpi4py; extra == \"mpi\" in /tensorflow-1.15.2/python3.6 (from stable-baselines[mpi]==2.10.0) (3.0.3)\n",
            "Requirement already satisfied: pyparsing!=2.0.4,!=2.1.2,!=2.1.6,>=2.0.1 in /usr/local/lib/python3.6/dist-packages (from matplotlib->stable-baselines[mpi]==2.10.0) (2.4.7)\n",
            "Requirement already satisfied: kiwisolver>=1.0.1 in /usr/local/lib/python3.6/dist-packages (from matplotlib->stable-baselines[mpi]==2.10.0) (1.2.0)\n",
            "Requirement already satisfied: python-dateutil>=2.1 in /usr/local/lib/python3.6/dist-packages (from matplotlib->stable-baselines[mpi]==2.10.0) (2.8.1)\n",
            "Requirement already satisfied: cycler>=0.10 in /usr/local/lib/python3.6/dist-packages (from matplotlib->stable-baselines[mpi]==2.10.0) (0.10.0)\n",
            "Requirement already satisfied: pytz>=2017.2 in /usr/local/lib/python3.6/dist-packages (from pandas->stable-baselines[mpi]==2.10.0) (2018.9)\n",
            "Requirement already satisfied: pyglet<=1.5.0,>=1.4.0 in /usr/local/lib/python3.6/dist-packages (from gym[atari,classic_control]>=0.11->stable-baselines[mpi]==2.10.0) (1.5.0)\n",
            "Requirement already satisfied: atari-py~=0.2.0; extra == \"atari\" in /usr/local/lib/python3.6/dist-packages (from gym[atari,classic_control]>=0.11->stable-baselines[mpi]==2.10.0) (0.2.6)\n",
            "Requirement already satisfied: Pillow; extra == \"atari\" in /usr/local/lib/python3.6/dist-packages (from gym[atari,classic_control]>=0.11->stable-baselines[mpi]==2.10.0) (7.0.0)\n",
            "Requirement already satisfied: six>=1.5 in /usr/local/lib/python3.6/dist-packages (from python-dateutil>=2.1->matplotlib->stable-baselines[mpi]==2.10.0) (1.15.0)\n",
            "Requirement already satisfied: future in /usr/local/lib/python3.6/dist-packages (from pyglet<=1.5.0,>=1.4.0->gym[atari,classic_control]>=0.11->stable-baselines[mpi]==2.10.0) (0.16.0)\n",
            "Installing collected packages: stable-baselines\n",
            "  Found existing installation: stable-baselines 2.2.1\n",
            "    Uninstalling stable-baselines-2.2.1:\n",
            "      Successfully uninstalled stable-baselines-2.2.1\n",
            "Successfully installed stable-baselines-2.10.0\n"
          ],
          "name": "stdout"
        }
      ]
    },
    {
      "cell_type": "markdown",
      "metadata": {
        "id": "yEG6I1fe3Y3i",
        "colab_type": "text"
      },
      "source": [
        "\"Compile\" important methods."
      ]
    },
    {
      "cell_type": "code",
      "metadata": {
        "id": "G0YgXQgt2ubR",
        "colab_type": "code",
        "colab": {}
      },
      "source": [
        "class OrderMethods():\n",
        "\n",
        "    def bsol(temp,p):\n",
        "        Tn,Jt,Nf,Bk=p\n",
        "        t=4.0*(Jt/(Jt+1.0))*Tn/temp\n",
        "        if (Tn<=0) or (Jt<=0) or temp>=Tn:\n",
        "            xout=0.0\n",
        "        else:\n",
        "            xout=optimize.brentq(OrderMethods.bfun,0.0,t,args=(temp,p),xtol=1e-6)\n",
        "\n",
        "        return xout\n",
        "\n",
        "\n",
        "    def bfun(x,T,p):\n",
        "        Tn,Jt,Nf,Bk=p\n",
        "        if x==0.0:\n",
        "            B=-1.0 # so that it wont find solution at zero\n",
        "        else:\n",
        "            B=(x-3*OrderMethods.brill(Jt,x)*(Jt/(Jt+1))*(Tn/T))\n",
        "        return B\n",
        "\n",
        "    def brill(j,x):\n",
        "        temp=(2*j+1.0)/2/j\n",
        "        if x==0:\n",
        "            Br=0.0\n",
        "        else:\n",
        "            Br=temp/np.tanh(temp*x)-1.0/np.tanh(x/2/j)/2/j\n",
        "        return Br\n",
        "\n",
        "    def Intensity(T,p):\n",
        "        Tn,Jt,Nf,Bk=p\n",
        "        br=OrderMethods.brill(Jt,OrderMethods.bsol(T,p))\n",
        "        bout=Bk+Nf*br**2\n",
        "        return bout\n",
        "\n",
        "    def orderparameter(T, Tn, Jt, Nf, Bk):\n",
        "        p=[Tn, Jt, Nf, Bk]\n",
        "        I=[]\n",
        "        for t in T:\n",
        "            I.append(OrderMethods.Intensity(t,p))\n",
        "        return np.array(I)\n",
        "\n",
        "    def fit(model):\n",
        "        # nllfs = []\n",
        "        # zin = []\n",
        "        # for tns in np.arange(50,200, 5):\n",
        "        #     #print(\"zs\", zs)\n",
        "        #     model.Tn.value = tns\n",
        "        #     model.update()\n",
        "        #     schi=model.nllf()\n",
        "        #     nllfs.append(schi)\n",
        "        #     zin.append(tns)\n",
        "        # plt.scatter(zin, nllfs)\n",
        "        # plt.xlabel(\"tn in\")\n",
        "        # plt.ylabel(\"chi\") \n",
        "        # plt.show()\n",
        "        # plt.close()\n",
        "\n",
        "        # model.Tn.value = 200\n",
        "        # model.update()\n",
        "\n",
        "        problem = FitProblem(model)\n",
        "        result = fitters.fit(problem, method='lm')\n",
        "        for p, v in zip(problem._parameters, result.dx):\n",
        "            p.dx = v\n",
        "        return result.x, result.dx, problem.chisq(), problem._parameters\n",
        "        "
      ],
      "execution_count": 26,
      "outputs": []
    },
    {
      "cell_type": "markdown",
      "metadata": {
        "id": "O0brrG7g3dih",
        "colab_type": "text"
      },
      "source": [
        "Execute main class."
      ]
    },
    {
      "cell_type": "code",
      "metadata": {
        "id": "hFAYvmv4I6_F",
        "colab_type": "code",
        "colab": {}
      },
      "source": [
        "import sys\n",
        "import numpy as np\n",
        "import pylab as plt\n",
        "import scipy.optimize as optimize\n",
        "from bumps.names import *\n",
        "import bumps.fitters as fitters\n",
        "import gym.spaces as spaces\n",
        "import gym\n",
        "\n",
        "class OrderEnv(gym.Env):\n",
        "\n",
        "    def __init__(self):\n",
        "        self.reward_scale = 100\n",
        "        self.episodeNum = 0\n",
        "        self.steps = 0\n",
        "        self.T = np.array([])\n",
        "        self.Bk = .3\n",
        "        self.error = []\n",
        "\n",
        "        self.fixedTn = 160\n",
        "        self.fixedNf = 330\n",
        "        self.fixedJt = .885\n",
        "\n",
        "        # self.observation_space = spaces.Box(low = np.array([3]), high = np.array([340]))\n",
        "        # self.action_space = spaces.Box(low = np.array([3]), high = np.array([340]))\n",
        "        self.action_space = spaces.Discrete(7)\n",
        "        self.action_options = [1, 5, 10, 15, 20, 25, 30]\n",
        "        self.curTemp = 3\n",
        "        self.x = 150 #startTn value\n",
        "\n",
        "        #logging arrays and vars\n",
        "        self.rewards = [] #interepisodic\n",
        "        self.chisqds = []\n",
        "        self.transTemps = []\n",
        "        self.Jts = []\n",
        "        self.Nfs = []\n",
        "        self.totReward = 0 \n",
        "        self.info = {}     \n",
        "\n",
        "    def step(self, action): \n",
        "        \n",
        "        print(\"stepping: \", self.episodeNum)\n",
        "        print(\"ACTION            : \", action)\n",
        "\n",
        "        self.curTemp += self.action_options[action]\n",
        "        #self.curTemp = action\n",
        "        self.curTemp = self.round_to(self.curTemp, 0.5)\n",
        "        print(\"curtemp: \", self.curTemp)\n",
        "\n",
        "        self.steps += 1\n",
        "        reward = -self.reward_scale\n",
        "        self.T = np.append(self.T, self.curTemp)\n",
        "        print(\"Temperature: \", self.T)\n",
        "        \n",
        "        if self.steps > 3:\n",
        "            self.I = self.getData(self.T, self.Bk)\n",
        "            #self.I = OrderMethods.getData(self.T, self.Bk)\n",
        "            print(\"Intensity: \", self.I)\n",
        "            self.error= np.sqrt(self.I)\n",
        "            M = Curve(OrderMethods.orderparameter, self.T, self.I, self.error, Tn = 200, Jt = .2, Nf = 216, Bk = self.Bk)\n",
        "            M.Tn.range(10, 400)\n",
        "            M.Jt.range(0.4, 2)\n",
        "            M.Nf.range(100,500)\n",
        "\n",
        "            self.x, dx, chisq, params = OrderMethods.fit(M)\n",
        "            self.Nf = self.x[1]\n",
        "            self.Jt = self.x[0]\n",
        "            self.x = self.x[2]\n",
        "            print(\"ORDER PARAM RESULT (X2):\", self.x)\n",
        "            print(\"THE JT RESULT {X0}:\", self.Jt)\n",
        "            print(\"THE NF RESULT {X1}:\", self.Nf)\n",
        "\n",
        "            dx = params[0].dx\n",
        "\n",
        "            print(\"chisqds: \", chisq)\n",
        "            print(\"BUT ARE WE SURE?:\", dx)\n",
        "\n",
        "            plt.plot(self.T, self.I, 'ro')\n",
        "            plt.show()\n",
        "            plt.close()\n",
        "\n",
        "            # if(action > 0.5):\n",
        "            #   reward += 1000\n",
        "\n",
        "            if chisq < 2 :\n",
        "                  reward += 100\n",
        "\n",
        "            self.chisqds.append(chisq)\n",
        "            self.transTemps.append(self.x)\n",
        "            self.Jts.append(self.Jt)\n",
        "            self.Nfs.append(self.Nf)\n",
        "\n",
        "        print(\"highHIIIIGHHHHHH: \", (340-self.curTemp))\n",
        "        print(\"rewaRD:: \", reward)\n",
        "\n",
        "        self.totReward += reward\n",
        "        self.state = np.array([self.curTemp])\n",
        "        delta = abs(340 - self.curTemp)\n",
        "\n",
        "        if (self.steps > 3 and chisq < 0.05 and dx < 10000000): #less than or equal to?\n",
        "            reward += 200\n",
        "            print(\"terminated: excellent conditions\")\n",
        "            terminal = True\n",
        "            self.log()\n",
        "\n",
        "        elif (self.curTemp >= 340):\n",
        "            print(\"terminated: over max temp\")\n",
        "            terminal = True\n",
        "            self.log()\n",
        "        elif (self.steps > 100):\n",
        "            print(\"terminated: too long\")\n",
        "            terminal = True\n",
        "            self.log()\n",
        "        else:\n",
        "            terminal = False\n",
        "        \n",
        "        print(\"returned state:\", self.state)\n",
        "        o = self.observation_space \n",
        "        print(\"observation space: \", o.shape)\n",
        "        return self.state, reward, terminal, self.info\n",
        "\n",
        "\n",
        "    def reset(self):\n",
        "        print(\"reset\")\n",
        "        self.steps = 0\n",
        "        self.T = np.array([])\n",
        "        self.I = []\n",
        "        self.chisqds = []\n",
        "        self.transTemps = []\n",
        "        self.Jts = []\n",
        "        self.Nfs = []\n",
        "        self.totReward = 0\n",
        "        self.curTemp = 3\n",
        "        self.state = np.array([self.curTemp])\n",
        "\n",
        "        return self.state #starting state\n",
        "\n",
        "    def log(self):\n",
        "        self.episodeNum += 1\n",
        "\n",
        "        filename = \"logs/chis/chiLog-\" + str(self.episodeNum) + \".npy\"\n",
        "        np.savetxt(filename, self.chisqds)\n",
        "\n",
        "        filename = \"logs/temps/tnLog-\" + str(self.episodeNum) + \".npy\"\n",
        "        np.savetxt(filename, self.transTemps)\n",
        "\n",
        "        filename = \"logs/jt/jtLog-\" + str(self.episodeNum) + \".npy\"\n",
        "        np.savetxt(filename, self.Jts)\n",
        "\n",
        "        filename = \"logs/nf/nfLog-\" + str(self.episodeNum) + \".npy\"\n",
        "        np.savetxt(filename, self.Nfs)\n",
        "\n",
        "        self.rewards.append(self.totReward)\n",
        "        filename = \"logs/runrewards.npy\"\n",
        "        np.savetxt(filename, self.rewards)\n",
        "\n",
        "    # @property\n",
        "    # def action_space(self):\n",
        "    #     return spaces.Box(low = np.array([0.5]), high = np.array([340 - self.curTemp]))\n",
        "    #     # return spaces.Box(low = np.array([self.curTemp + 0.5]), high = np.array([340]))\n",
        "\n",
        "    @property \n",
        "    def observation_space(self):\n",
        "        return spaces.Box(low=3.0, high=340.0, shape=(self.steps + 1,), dtype=np.float32)\n",
        "\n",
        "    def round_to(self, n, precision):\n",
        "        correction = 0.5 if n >= 0 else -0.5\n",
        "        return int( n/precision+correction ) * precision\n",
        "\n",
        "    def getData(self, T, Bk):\n",
        "        return OrderMethods.orderparameter(T, self.fixedTn, self.fixedJt, self.fixedNf, Bk)\n",
        "\n",
        "    def setTn(self, Tn):\n",
        "        self.fixedTn = Tn\n",
        "    \n",
        "    def setNf(self, Nf):\n",
        "        self.fixedNf = Nf\n",
        "\n",
        "    def setJt(self, Jt):\n",
        "        self.fixedJt = Jt\n",
        "\n",
        "    def getTn(self):\n",
        "        return self.x\n",
        "\n",
        "    def getNf(self):\n",
        "        return self.Nf\n",
        "\n",
        "    def getJt(self):\n",
        "        return self.Jt"
      ],
      "execution_count": 31,
      "outputs": []
    },
    {
      "cell_type": "code",
      "metadata": {
        "id": "cwwovwfwMiFL",
        "colab_type": "code",
        "colab": {}
      },
      "source": [
        "from stable_baselines.common.env_checker import check_env\n",
        "env = OrderEnv()\n",
        "# If the environment don't follow the interface, an error will be thrown\n",
        "check_env(env, warn=True)"
      ],
      "execution_count": null,
      "outputs": []
    },
    {
      "cell_type": "code",
      "metadata": {
        "id": "PQfLBE28SNDr",
        "colab_type": "code",
        "colab": {}
      },
      "source": [
        "from stable_baselines import PPO2, A2C\n",
        "from stable_baselines.common.cmd_util import make_vec_env\n",
        "\n",
        "# Instantiate the env\n",
        "env = OrderEnv()\n",
        "# wrap it\n",
        "env = make_vec_env(lambda: env, n_envs=1) #retrieve?"
      ],
      "execution_count": 29,
      "outputs": []
    },
    {
      "cell_type": "markdown",
      "metadata": {
        "id": "K_NZ1QplARNn",
        "colab_type": "text"
      },
      "source": [
        "Train a new model."
      ]
    },
    {
      "cell_type": "code",
      "metadata": {
        "id": "zRV4Q7FVUKB6",
        "colab_type": "code",
        "colab": {}
      },
      "source": [
        "model = PPO2('MlpPolicy', env, verbose=1).learn(15000)"
      ],
      "execution_count": null,
      "outputs": []
    },
    {
      "cell_type": "code",
      "metadata": {
        "id": "BCW6SORy7AI_",
        "colab_type": "code",
        "colab": {}
      },
      "source": [
        "model.save(\"models/\")"
      ],
      "execution_count": null,
      "outputs": []
    },
    {
      "cell_type": "markdown",
      "metadata": {
        "id": "_h0b0sT39MV5",
        "colab_type": "text"
      },
      "source": [
        "Restart the training from a saved model."
      ]
    },
    {
      "cell_type": "code",
      "metadata": {
        "id": "6pdu1hWT8cv-",
        "colab_type": "code",
        "colab": {}
      },
      "source": [
        "model = PPO2.load(\"models/3245_first_attempt\", env)  #if needed, instatiate env above\n",
        "model = model.learn(500)"
      ],
      "execution_count": null,
      "outputs": []
    },
    {
      "cell_type": "markdown",
      "metadata": {
        "id": "H9wIsWk99FGq",
        "colab_type": "text"
      },
      "source": [
        "Test the trained agent."
      ]
    },
    {
      "cell_type": "code",
      "metadata": {
        "id": "BJbeiF0RUN-p",
        "colab_type": "code",
        "colab": {
          "base_uri": "https://localhost:8080/",
          "height": 1000
        },
        "outputId": "d4a2d435-d419-4e3c-82bf-84f616d37289"
      },
      "source": [
        "from stable_baselines import PPO2, A2C\n",
        "from stable_baselines.common.cmd_util import make_vec_env\n",
        "\n",
        "successes = {}\n",
        "\n",
        "model = PPO2.load(\"models/3245_first_attempt\") #if you're 'playing' a saved model\n",
        "for tns in np.arange(100,200, 10):\n",
        "    env = OrderEnv() \n",
        "    env.setTn(tns)\n",
        "    # wrap it\n",
        "    vec_env = make_vec_env(lambda: env, n_envs=1) \n",
        "    finalTn = 0\n",
        "\n",
        "    obs = vec_env.reset()\n",
        "    n_steps = 20\n",
        "    for step in range(n_steps):\n",
        "      action, _ = model.predict(obs, deterministic=True)\n",
        "      print(\"Step {}\".format(step + 1))\n",
        "      print(\"Action: \", action)\n",
        "      obs, reward, done, info = vec_env.step(action)\n",
        "      print('obs=', obs, 'reward=', reward, 'done=', done)\n",
        "      if done:\n",
        "        print(\"second gettn:   \", env.getTn())\n",
        "        finalTn = env.getTn()\n",
        "        print(\"Goal reached!\", \"reward=\", reward)\n",
        "        break\n",
        "\n",
        "    if abs(finalTn - tns) < 0.1:\n",
        "      print(\"Success for tn: \", tns)\n",
        "      successes[tns] = 1\n",
        "    else:\n",
        "      print(\"Fail for tn:\", tns)\n",
        "      successes[tns] = 0\n",
        "\n",
        "for key, value in successes.items():\n",
        "    print(key, ' : ', value)"
      ],
      "execution_count": 37,
      "outputs": [
        {
          "output_type": "stream",
          "text": [
            "Loading a model without an environment, this model cannot be trained until it has a valid environment.\n",
            "reset\n",
            "Step 1\n",
            "Action:  [6]\n",
            "stepping:  0\n",
            "ACTION            :  6\n",
            "curtemp:  33.0\n",
            "Temperature:  [33.]\n",
            "highHIIIIGHHHHHH:  307.0\n",
            "rewaRD::  -100\n",
            "returned state: [33.]\n",
            "observation space:  (2,)\n",
            "obs= [[33.]] reward= [-100.] done= [False]\n",
            "Step 2\n",
            "Action:  [6]\n",
            "stepping:  0\n",
            "ACTION            :  6\n",
            "curtemp:  63.0\n",
            "Temperature:  [33. 63.]\n",
            "highHIIIIGHHHHHH:  277.0\n",
            "rewaRD::  -100\n",
            "returned state: [63.]\n",
            "observation space:  (3,)\n",
            "obs= [[63.]] reward= [-100.] done= [False]\n",
            "Step 3\n",
            "Action:  [6]\n",
            "stepping:  0\n",
            "ACTION            :  6\n",
            "curtemp:  93.0\n",
            "Temperature:  [33. 63. 93.]\n",
            "highHIIIIGHHHHHH:  247.0\n",
            "rewaRD::  -100\n",
            "returned state: [93.]\n",
            "observation space:  (4,)\n",
            "obs= [[93.]] reward= [-100.] done= [False]\n",
            "Step 4\n",
            "Action:  [6]\n",
            "stepping:  0\n",
            "ACTION            :  6\n",
            "curtemp:  123.0\n",
            "Temperature:  [ 33.  63.  93. 123.]\n",
            "Intensity:  [3.23997235e+02 2.46507857e+02 6.02319199e+01 3.00000000e-01]\n",
            "ORDER PARAM RESULT (X2): 188.25928530973508\n",
            "THE JT RESULT {X0}: 1.9999505911672992\n",
            "THE NF RESULT {X1}: 205.3319542819123\n",
            "chisqds:  56535.22986366286\n",
            "BUT ARE WE SURE?: 8.516386189548378e-10\n"
          ],
          "name": "stdout"
        },
        {
          "output_type": "display_data",
          "data": {
            "image/png": "[encoded data removed]",
            "text/plain": [
              "<Figure size 432x288 with 1 Axes>"
            ]
          },
          "metadata": {
            "tags": [],
            "needs_background": "light"
          }
        },
        {
          "output_type": "stream",
          "text": [
            "highHIIIIGHHHHHH:  217.0\n",
            "rewaRD::  -100\n",
            "returned state: [123.]\n",
            "observation space:  (5,)\n",
            "obs= [[123.]] reward= [-100.] done= [False]\n",
            "Step 5\n",
            "Action:  [6]\n",
            "stepping:  0\n",
            "ACTION            :  6\n",
            "curtemp:  153.0\n",
            "Temperature:  [ 33.  63.  93. 123. 153.]\n",
            "Intensity:  [3.23997235e+02 2.46507857e+02 6.02319199e+01 3.00000000e-01\n",
            " 3.00000000e-01]\n",
            "ORDER PARAM RESULT (X2): 194.84580800906008\n",
            "THE JT RESULT {X0}: 1.9998611543811622\n",
            "THE NF RESULT {X1}: 208.11844936236199\n",
            "chisqds:  45183.42788658793\n",
            "BUT ARE WE SURE?: 9.251989122670268e-10\n"
          ],
          "name": "stdout"
        },
        {
          "output_type": "display_data",
          "data": {
            "image/png": "[encoded data removed]",
            "text/plain": [
              "<Figure size 432x288 with 1 Axes>"
            ]
          },
          "metadata": {
            "tags": [],
            "needs_background": "light"
          }
        },
        {
          "output_type": "stream",
          "text": [
            "highHIIIIGHHHHHH:  187.0\n",
            "rewaRD::  -100\n",
            "returned state: [153.]\n",
            "observation space:  (6,)\n",
            "obs= [[153.]] reward= [-100.] done= [False]\n",
            "Step 6\n",
            "Action:  [6]\n",
            "stepping:  0\n",
            "ACTION            :  6\n",
            "curtemp:  183.0\n",
            "Temperature:  [ 33.  63.  93. 123. 153. 183.]\n",
            "Intensity:  [3.23997235e+02 2.46507857e+02 6.02319199e+01 3.00000000e-01\n",
            " 3.00000000e-01 3.00000000e-01]\n",
            "ORDER PARAM RESULT (X2): 188.47382734127325\n",
            "THE JT RESULT {X0}: 1.9998691659137653\n",
            "THE NF RESULT {X1}: 181.11513907325482\n",
            "chisqds:  20253.8669498603\n",
            "BUT ARE WE SURE?: 1.040260176914606e-09\n"
          ],
          "name": "stdout"
        },
        {
          "output_type": "display_data",
          "data": {
            "image/png": "[encoded data removed]",
            "text/plain": [
              "<Figure size 432x288 with 1 Axes>"
            ]
          },
          "metadata": {
            "tags": [],
            "needs_background": "light"
          }
        },
        {
          "output_type": "stream",
          "text": [
            "highHIIIIGHHHHHH:  157.0\n",
            "rewaRD::  -100\n",
            "returned state: [183.]\n",
            "observation space:  (7,)\n",
            "obs= [[183.]] reward= [-100.] done= [False]\n",
            "Step 7\n",
            "Action:  [6]\n",
            "stepping:  0\n",
            "ACTION            :  6\n",
            "curtemp:  213.0\n",
            "Temperature:  [ 33.  63.  93. 123. 153. 183. 213.]\n",
            "Intensity:  [3.23997235e+02 2.46507857e+02 6.02319199e+01 3.00000000e-01\n",
            " 3.00000000e-01 3.00000000e-01 3.00000000e-01]\n",
            "ORDER PARAM RESULT (X2): 185.10173555106297\n",
            "THE JT RESULT {X0}: 1.9999826431914172\n",
            "THE NF RESULT {X1}: 165.265924223555\n",
            "chisqds:  11654.464396115745\n",
            "BUT ARE WE SURE?: 1.1558926895228878e-09\n"
          ],
          "name": "stdout"
        },
        {
          "output_type": "display_data",
          "data": {
            "image/png": "[encoded data removed]",
            "text/plain": [
              "<Figure size 432x288 with 1 Axes>"
            ]
          },
          "metadata": {
            "tags": [],
            "needs_background": "light"
          }
        },
        {
          "output_type": "stream",
          "text": [
            "highHIIIIGHHHHHH:  127.0\n",
            "rewaRD::  -100\n",
            "returned state: [213.]\n",
            "observation space:  (8,)\n",
            "obs= [[213.]] reward= [-100.] done= [False]\n",
            "Step 8\n",
            "Action:  [6]\n",
            "stepping:  0\n",
            "ACTION            :  6\n",
            "curtemp:  243.0\n",
            "Temperature:  [ 33.  63.  93. 123. 153. 183. 213. 243.]\n",
            "Intensity:  [3.23997235e+02 2.46507857e+02 6.02319199e+01 3.00000000e-01\n",
            " 3.00000000e-01 3.00000000e-01 3.00000000e-01 3.00000000e-01]\n",
            "ORDER PARAM RESULT (X2): 185.42669498147592\n",
            "THE JT RESULT {X0}: 1.999850784873936\n",
            "THE NF RESULT {X1}: 166.40734453417463\n",
            "chisqds:  9528.549068009104\n",
            "BUT ARE WE SURE?: 1.2714002642768965e-09\n"
          ],
          "name": "stdout"
        },
        {
          "output_type": "display_data",
          "data": {
            "image/png": "[encoded data removed]",
            "text/plain": [
              "<Figure size 432x288 with 1 Axes>"
            ]
          },
          "metadata": {
            "tags": [],
            "needs_background": "light"
          }
        },
        {
          "output_type": "stream",
          "text": [
            "highHIIIIGHHHHHH:  97.0\n",
            "rewaRD::  -100\n",
            "returned state: [243.]\n",
            "observation space:  (9,)\n",
            "obs= [[243.]] reward= [-100.] done= [False]\n",
            "Step 9\n",
            "Action:  [6]\n",
            "stepping:  0\n",
            "ACTION            :  6\n",
            "curtemp:  273.0\n",
            "Temperature:  [ 33.  63.  93. 123. 153. 183. 213. 243. 273.]\n",
            "Intensity:  [3.23997235e+02 2.46507857e+02 6.02319199e+01 3.00000000e-01\n",
            " 3.00000000e-01 3.00000000e-01 3.00000000e-01 3.00000000e-01\n",
            " 3.00000000e-01]\n",
            "ORDER PARAM RESULT (X2): 185.87038812564853\n",
            "THE JT RESULT {X0}: 1.9998939864001233\n",
            "THE NF RESULT {X1}: 167.05515422719432\n",
            "chisqds:  8089.9452409338255\n",
            "BUT ARE WE SURE?: 1.3870146457754689e-09\n"
          ],
          "name": "stdout"
        },
        {
          "output_type": "display_data",
          "data": {
            "image/png": "[encoded data removed]",
            "text/plain": [
              "<Figure size 432x288 with 1 Axes>"
            ]
          },
          "metadata": {
            "tags": [],
            "needs_background": "light"
          }
        },
        {
          "output_type": "stream",
          "text": [
            "highHIIIIGHHHHHH:  67.0\n",
            "rewaRD::  -100\n",
            "returned state: [273.]\n",
            "observation space:  (10,)\n",
            "obs= [[273.]] reward= [-100.] done= [False]\n",
            "Step 10\n",
            "Action:  [6]\n",
            "stepping:  0\n",
            "ACTION            :  6\n",
            "curtemp:  303.0\n",
            "Temperature:  [ 33.  63.  93. 123. 153. 183. 213. 243. 273. 303.]\n",
            "Intensity:  [3.23997235e+02 2.46507857e+02 6.02319199e+01 3.00000000e-01\n",
            " 3.00000000e-01 3.00000000e-01 3.00000000e-01 3.00000000e-01\n",
            " 3.00000000e-01 3.00000000e-01]\n",
            "ORDER PARAM RESULT (X2): 188.72102952865296\n",
            "THE JT RESULT {X0}: 1.9999411675930696\n",
            "THE NF RESULT {X1}: 180.00629592644836\n",
            "chisqds:  8625.561595238849\n",
            "BUT ARE WE SURE?: 1.5026537150107702e-09\n"
          ],
          "name": "stdout"
        },
        {
          "output_type": "display_data",
          "data": {
            "image/png": "[encoded data removed]",
            "text/plain": [
              "<Figure size 432x288 with 1 Axes>"
            ]
          },
          "metadata": {
            "tags": [],
            "needs_background": "light"
          }
        },
        {
          "output_type": "stream",
          "text": [
            "highHIIIIGHHHHHH:  37.0\n",
            "rewaRD::  -100\n",
            "returned state: [303.]\n",
            "observation space:  (11,)\n",
            "obs= [[303.]] reward= [-100.] done= [False]\n",
            "Step 11\n",
            "Action:  [6]\n",
            "stepping:  0\n",
            "ACTION            :  6\n",
            "curtemp:  333.0\n",
            "Temperature:  [ 33.  63.  93. 123. 153. 183. 213. 243. 273. 303. 333.]\n",
            "Intensity:  [3.23997235e+02 2.46507857e+02 6.02319199e+01 3.00000000e-01\n",
            " 3.00000000e-01 3.00000000e-01 3.00000000e-01 3.00000000e-01\n",
            " 3.00000000e-01 3.00000000e-01 3.00000000e-01]\n",
            "ORDER PARAM RESULT (X2): 191.35023076883536\n",
            "THE JT RESULT {X0}: 1.999964395555472\n",
            "THE NF RESULT {X1}: 191.0234314221731\n",
            "chisqds:  9044.157729998533\n",
            "BUT ARE WE SURE?: 1.618279559986231e-09\n"
          ],
          "name": "stdout"
        },
        {
          "output_type": "display_data",
          "data": {
            "image/png": "[encoded data removed]",
            "text/plain": [
              "<Figure size 432x288 with 1 Axes>"
            ]
          },
          "metadata": {
            "tags": [],
            "needs_background": "light"
          }
        },
        {
          "output_type": "stream",
          "text": [
            "highHIIIIGHHHHHH:  7.0\n",
            "rewaRD::  -100\n",
            "returned state: [333.]\n",
            "observation space:  (12,)\n",
            "obs= [[333.]] reward= [-100.] done= [False]\n",
            "Step 12\n",
            "Action:  [6]\n",
            "stepping:  0\n",
            "ACTION            :  6\n",
            "curtemp:  363.0\n",
            "Temperature:  [ 33.  63.  93. 123. 153. 183. 213. 243. 273. 303. 333. 363.]\n",
            "Intensity:  [3.23997235e+02 2.46507857e+02 6.02319199e+01 3.00000000e-01\n",
            " 3.00000000e-01 3.00000000e-01 3.00000000e-01 3.00000000e-01\n",
            " 3.00000000e-01 3.00000000e-01 3.00000000e-01 3.00000000e-01]\n",
            "ORDER PARAM RESULT (X2): 180.81589387974134\n",
            "THE JT RESULT {X0}: 1.9998702246770559\n",
            "THE NF RESULT {X1}: 164.8538028798958\n",
            "chisqds:  4627.987860412391\n",
            "BUT ARE WE SURE?: 1.7346274220467144e-09\n"
          ],
          "name": "stdout"
        },
        {
          "output_type": "display_data",
          "data": {
            "image/png": "[encoded data removed]",
            "text/plain": [
              "<Figure size 432x288 with 1 Axes>"
            ]
          },
          "metadata": {
            "tags": [],
            "needs_background": "light"
          }
        },
        {
          "output_type": "stream",
          "text": [
            "highHIIIIGHHHHHH:  -23.0\n",
            "rewaRD::  -100\n",
            "terminated: over max temp\n",
            "returned state: [363.]\n",
            "observation space:  (13,)\n",
            "reset\n",
            "obs= [[3.]] reward= [-100.] done= [ True]\n",
            "second gettn:    180.81589387974134\n",
            "Goal reached! reward= [-100.]\n",
            "Fail for tn: 100\n",
            "reset\n",
            "Step 1\n",
            "Action:  [6]\n",
            "stepping:  0\n",
            "ACTION            :  6\n",
            "curtemp:  33.0\n",
            "Temperature:  [33.]\n",
            "highHIIIIGHHHHHH:  307.0\n",
            "rewaRD::  -100\n",
            "returned state: [33.]\n",
            "observation space:  (2,)\n",
            "obs= [[33.]] reward= [-100.] done= [False]\n",
            "Step 2\n",
            "Action:  [6]\n",
            "stepping:  0\n",
            "ACTION            :  6\n",
            "curtemp:  63.0\n",
            "Temperature:  [33. 63.]\n",
            "highHIIIIGHHHHHH:  277.0\n",
            "rewaRD::  -100\n",
            "returned state: [63.]\n",
            "observation space:  (3,)\n",
            "obs= [[63.]] reward= [-100.] done= [False]\n",
            "Step 3\n",
            "Action:  [6]\n",
            "stepping:  0\n",
            "ACTION            :  6\n",
            "curtemp:  93.0\n",
            "Temperature:  [33. 63. 93.]\n",
            "highHIIIIGHHHHHH:  247.0\n",
            "rewaRD::  -100\n",
            "returned state: [93.]\n",
            "observation space:  (4,)\n",
            "obs= [[93.]] reward= [-100.] done= [False]\n",
            "Step 4\n",
            "Action:  [6]\n",
            "stepping:  0\n",
            "ACTION            :  6\n",
            "curtemp:  123.0\n",
            "Temperature:  [ 33.  63.  93. 123.]\n",
            "Intensity:  [3.26472537e+02 2.69361707e+02 1.24231350e+02 3.00000000e-01]\n",
            "ORDER PARAM RESULT (X2): 187.92597944604577\n",
            "THE JT RESULT {X0}: 1.9998129421324131\n",
            "THE NF RESULT {X1}: 205.02118969485937\n",
            "chisqds:  55918.73096246952\n",
            "BUT ARE WE SURE?: 8.990029566493459e-10\n"
          ],
          "name": "stdout"
        },
        {
          "output_type": "display_data",
          "data": {
            "image/png": "[encoded data removed]",
            "text/plain": [
              "<Figure size 432x288 with 1 Axes>"
            ]
          },
          "metadata": {
            "tags": [],
            "needs_background": "light"
          }
        },
        {
          "output_type": "stream",
          "text": [
            "highHIIIIGHHHHHH:  217.0\n",
            "rewaRD::  -100\n",
            "returned state: [123.]\n",
            "observation space:  (5,)\n",
            "obs= [[123.]] reward= [-100.] done= [False]\n",
            "Step 5\n",
            "Action:  [6]\n",
            "stepping:  0\n",
            "ACTION            :  6\n",
            "curtemp:  153.0\n",
            "Temperature:  [ 33.  63.  93. 123. 153.]\n",
            "Intensity:  [3.26472537e+02 2.69361707e+02 1.24231350e+02 3.00000000e-01\n",
            " 3.00000000e-01]\n",
            "ORDER PARAM RESULT (X2): 194.7573696827372\n",
            "THE JT RESULT {X0}: 1.9999234269241148\n",
            "THE NF RESULT {X1}: 208.04245349873204\n",
            "chisqds:  44984.2853715177\n",
            "BUT ARE WE SURE?: 9.202484679933448e-10\n"
          ],
          "name": "stdout"
        },
        {
          "output_type": "display_data",
          "data": {
            "image/png": "[encoded data removed]",
            "text/plain": [
              "<Figure size 432x288 with 1 Axes>"
            ]
          },
          "metadata": {
            "tags": [],
            "needs_background": "light"
          }
        },
        {
          "output_type": "stream",
          "text": [
            "highHIIIIGHHHHHH:  187.0\n",
            "rewaRD::  -100\n",
            "returned state: [153.]\n",
            "observation space:  (6,)\n",
            "obs= [[153.]] reward= [-100.] done= [False]\n",
            "Step 6\n",
            "Action:  [6]\n",
            "stepping:  0\n",
            "ACTION            :  6\n",
            "curtemp:  183.0\n",
            "Temperature:  [ 33.  63.  93. 123. 153. 183.]\n",
            "Intensity:  [3.26472537e+02 2.69361707e+02 1.24231350e+02 3.00000000e-01\n",
            " 3.00000000e-01 3.00000000e-01]\n",
            "ORDER PARAM RESULT (X2): 188.36756143430523\n",
            "THE JT RESULT {X0}: 1.9999695437004126\n",
            "THE NF RESULT {X1}: 180.94099009430778\n",
            "chisqds:  20126.229075044084\n",
            "BUT ARE WE SURE?: 1.0341883209175922e-09\n"
          ],
          "name": "stdout"
        },
        {
          "output_type": "display_data",
          "data": {
            "image/png": "[encoded data removed]",
            "text/plain": [
              "<Figure size 432x288 with 1 Axes>"
            ]
          },
          "metadata": {
            "tags": [],
            "needs_background": "light"
          }
        },
        {
          "output_type": "stream",
          "text": [
            "highHIIIIGHHHHHH:  157.0\n",
            "rewaRD::  -100\n",
            "returned state: [183.]\n",
            "observation space:  (7,)\n",
            "obs= [[183.]] reward= [-100.] done= [False]\n",
            "Step 7\n",
            "Action:  [6]\n",
            "stepping:  0\n",
            "ACTION            :  6\n",
            "curtemp:  213.0\n",
            "Temperature:  [ 33.  63.  93. 123. 153. 183. 213.]\n",
            "Intensity:  [3.26472537e+02 2.69361707e+02 1.24231350e+02 3.00000000e-01\n",
            " 3.00000000e-01 3.00000000e-01 3.00000000e-01]\n",
            "ORDER PARAM RESULT (X2): 185.00093619215016\n",
            "THE JT RESULT {X0}: 1.9998223650330873\n",
            "THE NF RESULT {X1}: 165.0374272470383\n",
            "chisqds:  11575.512538783962\n",
            "BUT ARE WE SURE?: 1.1489953105709538e-09\n"
          ],
          "name": "stdout"
        },
        {
          "output_type": "display_data",
          "data": {
            "image/png": "[encoded data removed]",
            "text/plain": [
              "<Figure size 432x288 with 1 Axes>"
            ]
          },
          "metadata": {
            "tags": [],
            "needs_background": "light"
          }
        },
        {
          "output_type": "stream",
          "text": [
            "highHIIIIGHHHHHH:  127.0\n",
            "rewaRD::  -100\n",
            "returned state: [213.]\n",
            "observation space:  (8,)\n",
            "obs= [[213.]] reward= [-100.] done= [False]\n",
            "Step 8\n",
            "Action:  [6]\n",
            "stepping:  0\n",
            "ACTION            :  6\n",
            "curtemp:  243.0\n",
            "Temperature:  [ 33.  63.  93. 123. 153. 183. 213. 243.]\n",
            "Intensity:  [3.26472537e+02 2.69361707e+02 1.24231350e+02 3.00000000e-01\n",
            " 3.00000000e-01 3.00000000e-01 3.00000000e-01 3.00000000e-01]\n",
            "ORDER PARAM RESULT (X2): 185.33651104443288\n",
            "THE JT RESULT {X0}: 1.9999568068347482\n",
            "THE NF RESULT {X1}: 166.27729872843625\n",
            "chisqds:  9477.2164639928\n",
            "BUT ARE WE SURE?: 1.2639821208362845e-09\n"
          ],
          "name": "stdout"
        },
        {
          "output_type": "display_data",
          "data": {
            "image/png": "[encoded data removed]",
            "text/plain": [
              "<Figure size 432x288 with 1 Axes>"
            ]
          },
          "metadata": {
            "tags": [],
            "needs_background": "light"
          }
        },
        {
          "output_type": "stream",
          "text": [
            "highHIIIIGHHHHHH:  97.0\n",
            "rewaRD::  -100\n",
            "returned state: [243.]\n",
            "observation space:  (9,)\n",
            "obs= [[243.]] reward= [-100.] done= [False]\n",
            "Step 9\n",
            "Action:  [6]\n",
            "stepping:  0\n",
            "ACTION            :  6\n",
            "curtemp:  273.0\n",
            "Temperature:  [ 33.  63.  93. 123. 153. 183. 213. 243. 273.]\n",
            "Intensity:  [3.26472537e+02 2.69361707e+02 1.24231350e+02 3.00000000e-01\n",
            " 3.00000000e-01 3.00000000e-01 3.00000000e-01 3.00000000e-01\n",
            " 3.00000000e-01]\n",
            "ORDER PARAM RESULT (X2): 185.77526893810068\n",
            "THE JT RESULT {X0}: 1.9999208119753948\n",
            "THE NF RESULT {X1}: 166.8803385389313\n",
            "chisqds:  8041.236231548995\n",
            "BUT ARE WE SURE?: 1.3788671934756276e-09\n"
          ],
          "name": "stdout"
        },
        {
          "output_type": "display_data",
          "data": {
            "image/png": "[encoded data removed]",
            "text/plain": [
              "<Figure size 432x288 with 1 Axes>"
            ]
          },
          "metadata": {
            "tags": [],
            "needs_background": "light"
          }
        },
        {
          "output_type": "stream",
          "text": [
            "highHIIIIGHHHHHH:  67.0\n",
            "rewaRD::  -100\n",
            "returned state: [273.]\n",
            "observation space:  (10,)\n",
            "obs= [[273.]] reward= [-100.] done= [False]\n",
            "Step 10\n",
            "Action:  [6]\n",
            "stepping:  0\n",
            "ACTION            :  6\n",
            "curtemp:  303.0\n",
            "Temperature:  [ 33.  63.  93. 123. 153. 183. 213. 243. 273. 303.]\n",
            "Intensity:  [3.26472537e+02 2.69361707e+02 1.24231350e+02 3.00000000e-01\n",
            " 3.00000000e-01 3.00000000e-01 3.00000000e-01 3.00000000e-01\n",
            " 3.00000000e-01 3.00000000e-01]\n",
            "ORDER PARAM RESULT (X2): 188.71391296742604\n",
            "THE JT RESULT {X0}: 1.9999891444535292\n",
            "THE NF RESULT {X1}: 180.20829046704998\n",
            "chisqds:  8627.772326167624\n",
            "BUT ARE WE SURE?: 1.4938445812205205e-09\n"
          ],
          "name": "stdout"
        },
        {
          "output_type": "display_data",
          "data": {
            "image/png": "[encoded data removed]",
            "text/plain": [
              "<Figure size 432x288 with 1 Axes>"
            ]
          },
          "metadata": {
            "tags": [],
            "needs_background": "light"
          }
        },
        {
          "output_type": "stream",
          "text": [
            "highHIIIIGHHHHHH:  37.0\n",
            "rewaRD::  -100\n",
            "returned state: [303.]\n",
            "observation space:  (11,)\n",
            "obs= [[303.]] reward= [-100.] done= [False]\n",
            "Step 11\n",
            "Action:  [6]\n",
            "stepping:  0\n",
            "ACTION            :  6\n",
            "curtemp:  333.0\n",
            "Temperature:  [ 33.  63.  93. 123. 153. 183. 213. 243. 273. 303. 333.]\n",
            "Intensity:  [3.26472537e+02 2.69361707e+02 1.24231350e+02 3.00000000e-01\n",
            " 3.00000000e-01 3.00000000e-01 3.00000000e-01 3.00000000e-01\n",
            " 3.00000000e-01 3.00000000e-01 3.00000000e-01]\n",
            "ORDER PARAM RESULT (X2): 191.3622232622733\n",
            "THE JT RESULT {X0}: 1.9998205445541162\n",
            "THE NF RESULT {X1}: 191.2842013132385\n",
            "chisqds:  9054.403836372392\n",
            "BUT ARE WE SURE?: 1.6086401108409577e-09\n"
          ],
          "name": "stdout"
        },
        {
          "output_type": "display_data",
          "data": {
            "image/png": "[encoded data removed]",
            "text/plain": [
              "<Figure size 432x288 with 1 Axes>"
            ]
          },
          "metadata": {
            "tags": [],
            "needs_background": "light"
          }
        },
        {
          "output_type": "stream",
          "text": [
            "highHIIIIGHHHHHH:  7.0\n",
            "rewaRD::  -100\n",
            "returned state: [333.]\n",
            "observation space:  (12,)\n",
            "obs= [[333.]] reward= [-100.] done= [False]\n",
            "Step 12\n",
            "Action:  [6]\n",
            "stepping:  0\n",
            "ACTION            :  6\n",
            "curtemp:  363.0\n",
            "Temperature:  [ 33.  63.  93. 123. 153. 183. 213. 243. 273. 303. 333. 363.]\n",
            "Intensity:  [3.26472537e+02 2.69361707e+02 1.24231350e+02 3.00000000e-01\n",
            " 3.00000000e-01 3.00000000e-01 3.00000000e-01 3.00000000e-01\n",
            " 3.00000000e-01 3.00000000e-01 3.00000000e-01 3.00000000e-01]\n",
            "ORDER PARAM RESULT (X2): 180.7115592094444\n",
            "THE JT RESULT {X0}: 1.9998594435586106\n",
            "THE NF RESULT {X1}: 164.99166583664632\n",
            "chisqds:  4615.395322296633\n",
            "BUT ARE WE SURE?: 1.7252651243596291e-09\n"
          ],
          "name": "stdout"
        },
        {
          "output_type": "display_data",
          "data": {
            "image/png": "[encoded data removed]",
            "text/plain": [
              "<Figure size 432x288 with 1 Axes>"
            ]
          },
          "metadata": {
            "tags": [],
            "needs_background": "light"
          }
        },
        {
          "output_type": "stream",
          "text": [
            "highHIIIIGHHHHHH:  -23.0\n",
            "rewaRD::  -100\n",
            "terminated: over max temp\n",
            "returned state: [363.]\n",
            "observation space:  (13,)\n",
            "reset\n",
            "obs= [[3.]] reward= [-100.] done= [ True]\n",
            "second gettn:    180.7115592094444\n",
            "Goal reached! reward= [-100.]\n",
            "Fail for tn: 110\n",
            "reset\n",
            "Step 1\n",
            "Action:  [6]\n",
            "stepping:  0\n",
            "ACTION            :  6\n",
            "curtemp:  33.0\n",
            "Temperature:  [33.]\n",
            "highHIIIIGHHHHHH:  307.0\n",
            "rewaRD::  -100\n",
            "returned state: [33.]\n",
            "observation space:  (2,)\n",
            "obs= [[33.]] reward= [-100.] done= [False]\n",
            "Step 2\n",
            "Action:  [6]\n",
            "stepping:  0\n",
            "ACTION            :  6\n",
            "curtemp:  63.0\n",
            "Temperature:  [33. 63.]\n",
            "highHIIIIGHHHHHH:  277.0\n",
            "rewaRD::  -100\n",
            "returned state: [63.]\n",
            "observation space:  (3,)\n",
            "obs= [[63.]] reward= [-100.] done= [False]\n",
            "Step 3\n",
            "Action:  [6]\n",
            "stepping:  0\n",
            "ACTION            :  6\n",
            "curtemp:  93.0\n",
            "Temperature:  [33. 63. 93.]\n",
            "highHIIIIGHHHHHH:  247.0\n",
            "rewaRD::  -100\n",
            "returned state: [93.]\n",
            "observation space:  (4,)\n",
            "obs= [[93.]] reward= [-100.] done= [False]\n",
            "Step 4\n",
            "Action:  [6]\n",
            "stepping:  0\n",
            "ACTION            :  6\n",
            "curtemp:  123.0\n",
            "Temperature:  [ 33.  63.  93. 123.]\n",
            "Intensity:  [3.27962977e+02 2.85397022e+02 1.70616372e+02 3.00000000e-01]\n",
            "ORDER PARAM RESULT (X2): 187.86523946969115\n",
            "THE JT RESULT {X0}: 1.9999165658486433\n",
            "THE NF RESULT {X1}: 204.96401507355844\n",
            "chisqds:  55829.3195492052\n",
            "BUT ARE WE SURE?: 4.834934587425302e-09\n"
          ],
          "name": "stdout"
        },
        {
          "output_type": "display_data",
          "data": {
            "image/png": "[encoded data removed]",
            "text/plain": [
              "<Figure size 432x288 with 1 Axes>"
            ]
          },
          "metadata": {
            "tags": [],
            "needs_background": "light"
          }
        },
        {
          "output_type": "stream",
          "text": [
            "highHIIIIGHHHHHH:  217.0\n",
            "rewaRD::  -100\n",
            "returned state: [123.]\n",
            "observation space:  (5,)\n",
            "obs= [[123.]] reward= [-100.] done= [False]\n",
            "Step 5\n",
            "Action:  [6]\n",
            "stepping:  0\n",
            "ACTION            :  6\n",
            "curtemp:  153.0\n",
            "Temperature:  [ 33.  63.  93. 123. 153.]\n",
            "Intensity:  [3.27962977e+02 2.85397022e+02 1.70616372e+02 3.00000000e-01\n",
            " 3.00000000e-01]\n",
            "ORDER PARAM RESULT (X2): 194.73611704906767\n",
            "THE JT RESULT {X0}: 1.9998195684962916\n",
            "THE NF RESULT {X1}: 208.02896314908074\n",
            "chisqds:  44956.00484899426\n",
            "BUT ARE WE SURE?: 9.186984781718313e-10\n"
          ],
          "name": "stdout"
        },
        {
          "output_type": "display_data",
          "data": {
            "image/png": "[encoded data removed]",
            "text/plain": [
              "<Figure size 432x288 with 1 Axes>"
            ]
          },
          "metadata": {
            "tags": [],
            "needs_background": "light"
          }
        },
        {
          "output_type": "stream",
          "text": [
            "highHIIIIGHHHHHH:  187.0\n",
            "rewaRD::  -100\n",
            "returned state: [153.]\n",
            "observation space:  (6,)\n",
            "obs= [[153.]] reward= [-100.] done= [False]\n",
            "Step 6\n",
            "Action:  [6]\n",
            "stepping:  0\n",
            "ACTION            :  6\n",
            "curtemp:  183.0\n",
            "Temperature:  [ 33.  63.  93. 123. 153. 183.]\n",
            "Intensity:  [3.27962977e+02 2.85397022e+02 1.70616372e+02 3.00000000e-01\n",
            " 3.00000000e-01 3.00000000e-01]\n",
            "ORDER PARAM RESULT (X2): 188.33204480340535\n",
            "THE JT RESULT {X0}: 1.9998971008231388\n",
            "THE NF RESULT {X1}: 180.87767986134907\n",
            "chisqds:  20098.24667773495\n",
            "BUT ARE WE SURE?: 1.0083972065377042e-09\n"
          ],
          "name": "stdout"
        },
        {
          "output_type": "display_data",
          "data": {
            "image/png": "[encoded data removed]",
            "text/plain": [
              "<Figure size 432x288 with 1 Axes>"
            ]
          },
          "metadata": {
            "tags": [],
            "needs_background": "light"
          }
        },
        {
          "output_type": "stream",
          "text": [
            "highHIIIIGHHHHHH:  157.0\n",
            "rewaRD::  -100\n",
            "returned state: [183.]\n",
            "observation space:  (7,)\n",
            "obs= [[183.]] reward= [-100.] done= [False]\n",
            "Step 7\n",
            "Action:  [6]\n",
            "stepping:  0\n",
            "ACTION            :  6\n",
            "curtemp:  213.0\n",
            "Temperature:  [ 33.  63.  93. 123. 153. 183. 213.]\n",
            "Intensity:  [3.27962977e+02 2.85397022e+02 1.70616372e+02 3.00000000e-01\n",
            " 3.00000000e-01 3.00000000e-01 3.00000000e-01]\n",
            "ORDER PARAM RESULT (X2): 184.94849482182028\n",
            "THE JT RESULT {X0}: 1.9998997563148362\n",
            "THE NF RESULT {X1}: 164.88919390070046\n",
            "chisqds:  11544.561551352775\n",
            "BUT ARE WE SURE?: 1.1204173860210967e-09\n"
          ],
          "name": "stdout"
        },
        {
          "output_type": "display_data",
          "data": {
            "image/png": "[encoded data removed]",
            "text/plain": [
              "<Figure size 432x288 with 1 Axes>"
            ]
          },
          "metadata": {
            "tags": [],
            "needs_background": "light"
          }
        },
        {
          "output_type": "stream",
          "text": [
            "highHIIIIGHHHHHH:  127.0\n",
            "rewaRD::  -100\n",
            "returned state: [213.]\n",
            "observation space:  (8,)\n",
            "obs= [[213.]] reward= [-100.] done= [False]\n",
            "Step 8\n",
            "Action:  [6]\n",
            "stepping:  0\n",
            "ACTION            :  6\n",
            "curtemp:  243.0\n",
            "Temperature:  [ 33.  63.  93. 123. 153. 183. 213. 243.]\n",
            "Intensity:  [3.27962977e+02 2.85397022e+02 1.70616372e+02 3.00000000e-01\n",
            " 3.00000000e-01 3.00000000e-01 3.00000000e-01 3.00000000e-01]\n",
            "ORDER PARAM RESULT (X2): 185.31066990291598\n",
            "THE JT RESULT {X0}: 1.999979768718032\n",
            "THE NF RESULT {X1}: 166.24816031603234\n",
            "chisqds:  9471.529763955488\n",
            "BUT ARE WE SURE?: 1.2325122562837503e-09\n"
          ],
          "name": "stdout"
        },
        {
          "output_type": "display_data",
          "data": {
            "image/png": "[encoded data removed]",
            "text/plain": [
              "<Figure size 432x288 with 1 Axes>"
            ]
          },
          "metadata": {
            "tags": [],
            "needs_background": "light"
          }
        },
        {
          "output_type": "stream",
          "text": [
            "highHIIIIGHHHHHH:  97.0\n",
            "rewaRD::  -100\n",
            "returned state: [243.]\n",
            "observation space:  (9,)\n",
            "obs= [[243.]] reward= [-100.] done= [False]\n",
            "Step 9\n",
            "Action:  [6]\n",
            "stepping:  0\n",
            "ACTION            :  6\n",
            "curtemp:  273.0\n",
            "Temperature:  [ 33.  63.  93. 123. 153. 183. 213. 243. 273.]\n",
            "Intensity:  [3.27962977e+02 2.85397022e+02 1.70616372e+02 3.00000000e-01\n",
            " 3.00000000e-01 3.00000000e-01 3.00000000e-01 3.00000000e-01\n",
            " 3.00000000e-01]\n",
            "ORDER PARAM RESULT (X2): 185.74768089888408\n",
            "THE JT RESULT {X0}: 1.9998208514679903\n",
            "THE NF RESULT {X1}: 166.83603221999175\n",
            "chisqds:  8034.672052109949\n",
            "BUT ARE WE SURE?: 1.3444545840426213e-09\n"
          ],
          "name": "stdout"
        },
        {
          "output_type": "display_data",
          "data": {
            "image/png": "[encoded data removed]",
            "text/plain": [
              "<Figure size 432x288 with 1 Axes>"
            ]
          },
          "metadata": {
            "tags": [],
            "needs_background": "light"
          }
        },
        {
          "output_type": "stream",
          "text": [
            "highHIIIIGHHHHHH:  67.0\n",
            "rewaRD::  -100\n",
            "returned state: [273.]\n",
            "observation space:  (10,)\n",
            "obs= [[273.]] reward= [-100.] done= [False]\n",
            "Step 10\n",
            "Action:  [6]\n",
            "stepping:  0\n",
            "ACTION            :  6\n",
            "curtemp:  303.0\n",
            "Temperature:  [ 33.  63.  93. 123. 153. 183. 213. 243. 273. 303.]\n",
            "Intensity:  [3.27962977e+02 2.85397022e+02 1.70616372e+02 3.00000000e-01\n",
            " 3.00000000e-01 3.00000000e-01 3.00000000e-01 3.00000000e-01\n",
            " 3.00000000e-01 3.00000000e-01]\n",
            "ORDER PARAM RESULT (X2): 188.7119717296185\n",
            "THE JT RESULT {X0}: 1.9998618094339464\n",
            "THE NF RESULT {X1}: 180.27324899384286\n",
            "chisqds:  8635.093209972392\n",
            "BUT ARE WE SURE?: 1.4565517655009615e-09\n"
          ],
          "name": "stdout"
        },
        {
          "output_type": "display_data",
          "data": {
            "image/png": "[encoded data removed]",
            "text/plain": [
              "<Figure size 432x288 with 1 Axes>"
            ]
          },
          "metadata": {
            "tags": [],
            "needs_background": "light"
          }
        },
        {
          "output_type": "stream",
          "text": [
            "highHIIIIGHHHHHH:  37.0\n",
            "rewaRD::  -100\n",
            "returned state: [303.]\n",
            "observation space:  (11,)\n",
            "obs= [[303.]] reward= [-100.] done= [False]\n",
            "Step 11\n",
            "Action:  [6]\n",
            "stepping:  0\n",
            "ACTION            :  6\n",
            "curtemp:  333.0\n",
            "Temperature:  [ 33.  63.  93. 123. 153. 183. 213. 243. 273. 303. 333.]\n",
            "Intensity:  [3.27962977e+02 2.85397022e+02 1.70616372e+02 3.00000000e-01\n",
            " 3.00000000e-01 3.00000000e-01 3.00000000e-01 3.00000000e-01\n",
            " 3.00000000e-01 3.00000000e-01 3.00000000e-01]\n",
            "ORDER PARAM RESULT (X2): 191.36486757693177\n",
            "THE JT RESULT {X0}: 1.9999287725631785\n",
            "THE NF RESULT {X1}: 191.36149621948562\n",
            "chisqds:  9062.296261267866\n",
            "BUT ARE WE SURE?: 1.5686764153984565e-09\n"
          ],
          "name": "stdout"
        },
        {
          "output_type": "display_data",
          "data": {
            "image/png": "[encoded data removed]",
            "text/plain": [
              "<Figure size 432x288 with 1 Axes>"
            ]
          },
          "metadata": {
            "tags": [],
            "needs_background": "light"
          }
        },
        {
          "output_type": "stream",
          "text": [
            "highHIIIIGHHHHHH:  7.0\n",
            "rewaRD::  -100\n",
            "returned state: [333.]\n",
            "observation space:  (12,)\n",
            "obs= [[333.]] reward= [-100.] done= [False]\n",
            "Step 12\n",
            "Action:  [6]\n",
            "stepping:  0\n",
            "ACTION            :  6\n",
            "curtemp:  363.0\n",
            "Temperature:  [ 33.  63.  93. 123. 153. 183. 213. 243. 273. 303. 333. 363.]\n",
            "Intensity:  [3.27962977e+02 2.85397022e+02 1.70616372e+02 3.00000000e-01\n",
            " 3.00000000e-01 3.00000000e-01 3.00000000e-01 3.00000000e-01\n",
            " 3.00000000e-01 3.00000000e-01 3.00000000e-01 3.00000000e-01]\n",
            "ORDER PARAM RESULT (X2): 180.37715243737694\n",
            "THE JT RESULT {X0}: 1.9998383056814333\n",
            "THE NF RESULT {X1}: 165.5795954975009\n",
            "chisqds:  4609.468626317281\n",
            "BUT ARE WE SURE?: 1.6912932116164295e-09\n"
          ],
          "name": "stdout"
        },
        {
          "output_type": "display_data",
          "data": {
            "image/png": "[encoded data removed]",
            "text/plain": [
              "<Figure size 432x288 with 1 Axes>"
            ]
          },
          "metadata": {
            "tags": [],
            "needs_background": "light"
          }
        },
        {
          "output_type": "stream",
          "text": [
            "highHIIIIGHHHHHH:  -23.0\n",
            "rewaRD::  -100\n",
            "terminated: over max temp\n",
            "returned state: [363.]\n",
            "observation space:  (13,)\n",
            "reset\n",
            "obs= [[3.]] reward= [-100.] done= [ True]\n",
            "second gettn:    180.37715243737694\n",
            "Goal reached! reward= [-100.]\n",
            "Fail for tn: 120\n",
            "reset\n",
            "Step 1\n",
            "Action:  [6]\n",
            "stepping:  0\n",
            "ACTION            :  6\n",
            "curtemp:  33.0\n",
            "Temperature:  [33.]\n",
            "highHIIIIGHHHHHH:  307.0\n",
            "rewaRD::  -100\n",
            "returned state: [33.]\n",
            "observation space:  (2,)\n",
            "obs= [[33.]] reward= [-100.] done= [False]\n",
            "Step 2\n",
            "Action:  [6]\n",
            "stepping:  0\n",
            "ACTION            :  6\n",
            "curtemp:  63.0\n",
            "Temperature:  [33. 63.]\n",
            "highHIIIIGHHHHHH:  277.0\n",
            "rewaRD::  -100\n",
            "returned state: [63.]\n",
            "observation space:  (3,)\n",
            "obs= [[63.]] reward= [-100.] done= [False]\n",
            "Step 3\n",
            "Action:  [6]\n",
            "stepping:  0\n",
            "ACTION            :  6\n",
            "curtemp:  93.0\n",
            "Temperature:  [33. 63. 93.]\n",
            "highHIIIIGHHHHHH:  247.0\n",
            "rewaRD::  -100\n",
            "returned state: [93.]\n",
            "observation space:  (4,)\n",
            "obs= [[93.]] reward= [-100.] done= [False]\n",
            "Step 4\n",
            "Action:  [6]\n",
            "stepping:  0\n",
            "ACTION            :  6\n",
            "curtemp:  123.0\n",
            "Temperature:  [ 33.  63.  93. 123.]\n",
            "Intensity:  [328.86777942 296.86886144 204.98226074  46.96162587]\n",
            "ORDER PARAM RESULT (X2): 173.42270375918326\n",
            "THE JT RESULT {X0}: 1.999886037412153\n",
            "THE NF RESULT {X1}: 217.5636314915484\n",
            "chisqds:  190.36528412932427\n",
            "BUT ARE WE SURE?: 2.6465822644300103e-09\n"
          ],
          "name": "stdout"
        },
        {
          "output_type": "display_data",
          "data": {
            "image/png": "[encoded data removed]",
            "text/plain": [
              "<Figure size 432x288 with 1 Axes>"
            ]
          },
          "metadata": {
            "tags": [],
            "needs_background": "light"
          }
        },
        {
          "output_type": "stream",
          "text": [
            "highHIIIIGHHHHHH:  217.0\n",
            "rewaRD::  -100\n",
            "returned state: [123.]\n",
            "observation space:  (5,)\n",
            "obs= [[123.]] reward= [-100.] done= [False]\n",
            "Step 5\n",
            "Action:  [6]\n",
            "stepping:  0\n",
            "ACTION            :  6\n",
            "curtemp:  153.0\n",
            "Temperature:  [ 33.  63.  93. 123. 153.]\n",
            "Intensity:  [3.28867779e+02 2.96868861e+02 2.04982261e+02 4.69616259e+01\n",
            " 3.00000000e-01]\n",
            "ORDER PARAM RESULT (X2): 192.39510086175576\n",
            "THE JT RESULT {X0}: 1.9998187823997151\n",
            "THE NF RESULT {X1}: 199.16583614563368\n",
            "chisqds:  11413.717650340699\n",
            "BUT ARE WE SURE?: 9.167439550870205e-10\n"
          ],
          "name": "stdout"
        },
        {
          "output_type": "display_data",
          "data": {
            "image/png": "[encoded data removed]",
            "text/plain": [
              "<Figure size 432x288 with 1 Axes>"
            ]
          },
          "metadata": {
            "tags": [],
            "needs_background": "light"
          }
        },
        {
          "output_type": "stream",
          "text": [
            "highHIIIIGHHHHHH:  187.0\n",
            "rewaRD::  -100\n",
            "returned state: [153.]\n",
            "observation space:  (6,)\n",
            "obs= [[153.]] reward= [-100.] done= [False]\n",
            "Step 6\n",
            "Action:  [6]\n",
            "stepping:  0\n",
            "ACTION            :  6\n",
            "curtemp:  183.0\n",
            "Temperature:  [ 33.  63.  93. 123. 153. 183.]\n",
            "Intensity:  [3.28867779e+02 2.96868861e+02 2.04982261e+02 4.69616259e+01\n",
            " 3.00000000e-01 3.00000000e-01]\n",
            "ORDER PARAM RESULT (X2): 189.91505406492016\n",
            "THE JT RESULT {X0}: 1.9999105871504934\n",
            "THE NF RESULT {X1}: 176.03724048948033\n",
            "chisqds:  5686.7667687608655\n",
            "BUT ARE WE SURE?: 8.980641105554531e-10\n"
          ],
          "name": "stdout"
        },
        {
          "output_type": "display_data",
          "data": {
            "image/png": "[encoded data removed]",
            "text/plain": [
              "<Figure size 432x288 with 1 Axes>"
            ]
          },
          "metadata": {
            "tags": [],
            "needs_background": "light"
          }
        },
        {
          "output_type": "stream",
          "text": [
            "highHIIIIGHHHHHH:  157.0\n",
            "rewaRD::  -100\n",
            "returned state: [183.]\n",
            "observation space:  (7,)\n",
            "obs= [[183.]] reward= [-100.] done= [False]\n",
            "Step 7\n",
            "Action:  [6]\n",
            "stepping:  0\n",
            "ACTION            :  6\n",
            "curtemp:  213.0\n",
            "Temperature:  [ 33.  63.  93. 123. 153. 183. 213.]\n",
            "Intensity:  [3.28867779e+02 2.96868861e+02 2.04982261e+02 4.69616259e+01\n",
            " 3.00000000e-01 3.00000000e-01 3.00000000e-01]\n",
            "ORDER PARAM RESULT (X2): 184.55095330974075\n",
            "THE JT RESULT {X0}: 1.999812555805569\n",
            "THE NF RESULT {X1}: 142.61184098360363\n",
            "chisqds:  2186.4522350662514\n",
            "BUT ARE WE SURE?: 9.977727852835065e-10\n"
          ],
          "name": "stdout"
        },
        {
          "output_type": "display_data",
          "data": {
            "image/png": "[encoded data removed]",
            "text/plain": [
              "<Figure size 432x288 with 1 Axes>"
            ]
          },
          "metadata": {
            "tags": [],
            "needs_background": "light"
          }
        },
        {
          "output_type": "stream",
          "text": [
            "highHIIIIGHHHHHH:  127.0\n",
            "rewaRD::  -100\n",
            "returned state: [213.]\n",
            "observation space:  (8,)\n",
            "obs= [[213.]] reward= [-100.] done= [False]\n",
            "Step 8\n",
            "Action:  [6]\n",
            "stepping:  0\n",
            "ACTION            :  6\n",
            "curtemp:  243.0\n",
            "Temperature:  [ 33.  63.  93. 123. 153. 183. 213. 243.]\n",
            "Intensity:  [3.28867779e+02 2.96868861e+02 2.04982261e+02 4.69616259e+01\n",
            " 3.00000000e-01 3.00000000e-01 3.00000000e-01 3.00000000e-01]\n",
            "ORDER PARAM RESULT (X2): 182.03310284159983\n",
            "THE JT RESULT {X0}: 1.9998282275591317\n",
            "THE NF RESULT {X1}: 124.33670351745567\n",
            "chisqds:  1197.0821933658158\n",
            "BUT ARE WE SURE?: 1.25998083712942e-09\n"
          ],
          "name": "stdout"
        },
        {
          "output_type": "display_data",
          "data": {
            "image/png": "[encoded data removed]",
            "text/plain": [
              "<Figure size 432x288 with 1 Axes>"
            ]
          },
          "metadata": {
            "tags": [],
            "needs_background": "light"
          }
        },
        {
          "output_type": "stream",
          "text": [
            "highHIIIIGHHHHHH:  97.0\n",
            "rewaRD::  -100\n",
            "returned state: [243.]\n",
            "observation space:  (9,)\n",
            "obs= [[243.]] reward= [-100.] done= [False]\n",
            "Step 9\n",
            "Action:  [6]\n",
            "stepping:  0\n",
            "ACTION            :  6\n",
            "curtemp:  273.0\n",
            "Temperature:  [ 33.  63.  93. 123. 153. 183. 213. 243. 273.]\n",
            "Intensity:  [3.28867779e+02 2.96868861e+02 2.04982261e+02 4.69616259e+01\n",
            " 3.00000000e-01 3.00000000e-01 3.00000000e-01 3.00000000e-01\n",
            " 3.00000000e-01]\n",
            "ORDER PARAM RESULT (X2): 185.84677457435126\n",
            "THE JT RESULT {X0}: 1.9999112639534782\n",
            "THE NF RESULT {X1}: 149.36338960312787\n",
            "chisqds:  1696.822297162966\n",
            "BUT ARE WE SURE?: 1.197394630156313e-09\n"
          ],
          "name": "stdout"
        },
        {
          "output_type": "display_data",
          "data": {
            "image/png": "[encoded data removed]",
            "text/plain": [
              "<Figure size 432x288 with 1 Axes>"
            ]
          },
          "metadata": {
            "tags": [],
            "needs_background": "light"
          }
        },
        {
          "output_type": "stream",
          "text": [
            "highHIIIIGHHHHHH:  67.0\n",
            "rewaRD::  -100\n",
            "returned state: [273.]\n",
            "observation space:  (10,)\n",
            "obs= [[273.]] reward= [-100.] done= [False]\n",
            "Step 10\n",
            "Action:  [6]\n",
            "stepping:  0\n",
            "ACTION            :  6\n",
            "curtemp:  303.0\n",
            "Temperature:  [ 33.  63.  93. 123. 153. 183. 213. 243. 273. 303.]\n",
            "Intensity:  [3.28867779e+02 2.96868861e+02 2.04982261e+02 4.69616259e+01\n",
            " 3.00000000e-01 3.00000000e-01 3.00000000e-01 3.00000000e-01\n",
            " 3.00000000e-01 3.00000000e-01]\n",
            "ORDER PARAM RESULT (X2): 185.30445938126326\n",
            "THE JT RESULT {X0}: 1.9999668244755526\n",
            "THE NF RESULT {X1}: 144.60683160477996\n",
            "chisqds:  1331.0032804014934\n",
            "BUT ARE WE SURE?: 1.2972118725202125e-09\n"
          ],
          "name": "stdout"
        },
        {
          "output_type": "display_data",
          "data": {
            "image/png": "[encoded data removed]",
            "text/plain": [
              "<Figure size 432x288 with 1 Axes>"
            ]
          },
          "metadata": {
            "tags": [],
            "needs_background": "light"
          }
        },
        {
          "output_type": "stream",
          "text": [
            "highHIIIIGHHHHHH:  37.0\n",
            "rewaRD::  -100\n",
            "returned state: [303.]\n",
            "observation space:  (11,)\n",
            "obs= [[303.]] reward= [-100.] done= [False]\n",
            "Step 11\n",
            "Action:  [6]\n",
            "stepping:  0\n",
            "ACTION            :  6\n",
            "curtemp:  333.0\n",
            "Temperature:  [ 33.  63.  93. 123. 153. 183. 213. 243. 273. 303. 333.]\n",
            "Intensity:  [3.28867779e+02 2.96868861e+02 2.04982261e+02 4.69616259e+01\n",
            " 3.00000000e-01 3.00000000e-01 3.00000000e-01 3.00000000e-01\n",
            " 3.00000000e-01 3.00000000e-01 3.00000000e-01]\n",
            "ORDER PARAM RESULT (X2): 190.19690156674756\n",
            "THE JT RESULT {X0}: 1.9999126516198926\n",
            "THE NF RESULT {X1}: 174.0445909947214\n",
            "chisqds:  2113.0537772301695\n",
            "BUT ARE WE SURE?: 1.396993708744602e-09\n"
          ],
          "name": "stdout"
        },
        {
          "output_type": "display_data",
          "data": {
            "image/png": "[encoded data removed]",
            "text/plain": [
              "<Figure size 432x288 with 1 Axes>"
            ]
          },
          "metadata": {
            "tags": [],
            "needs_background": "light"
          }
        },
        {
          "output_type": "stream",
          "text": [
            "highHIIIIGHHHHHH:  7.0\n",
            "rewaRD::  -100\n",
            "returned state: [333.]\n",
            "observation space:  (12,)\n",
            "obs= [[333.]] reward= [-100.] done= [False]\n",
            "Step 12\n",
            "Action:  [6]\n",
            "stepping:  0\n",
            "ACTION            :  6\n",
            "curtemp:  363.0\n",
            "Temperature:  [ 33.  63.  93. 123. 153. 183. 213. 243. 273. 303. 333. 363.]\n",
            "Intensity:  [3.28867779e+02 2.96868861e+02 2.04982261e+02 4.69616259e+01\n",
            " 3.00000000e-01 3.00000000e-01 3.00000000e-01 3.00000000e-01\n",
            " 3.00000000e-01 3.00000000e-01 3.00000000e-01 3.00000000e-01]\n",
            "ORDER PARAM RESULT (X2): 192.5762238651771\n",
            "THE JT RESULT {X0}: 1.9999706193203604\n",
            "THE NF RESULT {X1}: 186.94696709982645\n",
            "chisqds:  2411.5309943541774\n",
            "BUT ARE WE SURE?: 1.496842561339262e-09\n"
          ],
          "name": "stdout"
        },
        {
          "output_type": "display_data",
          "data": {
            "image/png": "[encoded data removed]",
            "text/plain": [
              "<Figure size 432x288 with 1 Axes>"
            ]
          },
          "metadata": {
            "tags": [],
            "needs_background": "light"
          }
        },
        {
          "output_type": "stream",
          "text": [
            "highHIIIIGHHHHHH:  -23.0\n",
            "rewaRD::  -100\n",
            "terminated: over max temp\n",
            "returned state: [363.]\n",
            "observation space:  (13,)\n",
            "reset\n",
            "obs= [[3.]] reward= [-100.] done= [ True]\n",
            "second gettn:    192.5762238651771\n",
            "Goal reached! reward= [-100.]\n",
            "Fail for tn: 130\n",
            "reset\n",
            "Step 1\n",
            "Action:  [6]\n",
            "stepping:  0\n",
            "ACTION            :  6\n",
            "curtemp:  33.0\n",
            "Temperature:  [33.]\n",
            "highHIIIIGHHHHHH:  307.0\n",
            "rewaRD::  -100\n",
            "returned state: [33.]\n",
            "observation space:  (2,)\n",
            "obs= [[33.]] reward= [-100.] done= [False]\n",
            "Step 2\n",
            "Action:  [6]\n",
            "stepping:  0\n",
            "ACTION            :  6\n",
            "curtemp:  63.0\n",
            "Temperature:  [33. 63.]\n",
            "highHIIIIGHHHHHH:  277.0\n",
            "rewaRD::  -100\n",
            "returned state: [63.]\n",
            "observation space:  (3,)\n",
            "obs= [[63.]] reward= [-100.] done= [False]\n",
            "Step 3\n",
            "Action:  [6]\n",
            "stepping:  0\n",
            "ACTION            :  6\n",
            "curtemp:  93.0\n",
            "Temperature:  [33. 63. 93.]\n",
            "highHIIIIGHHHHHH:  247.0\n",
            "rewaRD::  -100\n",
            "returned state: [93.]\n",
            "observation space:  (4,)\n",
            "obs= [[93.]] reward= [-100.] done= [False]\n",
            "Step 4\n",
            "Action:  [6]\n",
            "stepping:  0\n",
            "ACTION            :  6\n",
            "curtemp:  123.0\n",
            "Temperature:  [ 33.  63.  93. 123.]\n",
            "Intensity:  [329.42011067 305.20460064 230.91395987 100.2507817 ]\n",
            "ORDER PARAM RESULT (X2): 139.99999999999017\n",
            "THE JT RESULT {X0}: 0.8850000000000666\n",
            "THE NF RESULT {X1}: 329.9999999999997\n",
            "chisqds:  2.5332943892027492e-23\n",
            "BUT ARE WE SURE?: 0.818526614660501\n"
          ],
          "name": "stdout"
        },
        {
          "output_type": "display_data",
          "data": {
            "image/png": "[encoded data removed]",
            "text/plain": [
              "<Figure size 432x288 with 1 Axes>"
            ]
          },
          "metadata": {
            "tags": [],
            "needs_background": "light"
          }
        },
        {
          "output_type": "stream",
          "text": [
            "highHIIIIGHHHHHH:  217.0\n",
            "rewaRD::  0\n",
            "terminated: excellent conditions\n",
            "returned state: [123.]\n",
            "observation space:  (5,)\n",
            "reset\n",
            "obs= [[3.]] reward= [200.] done= [ True]\n",
            "second gettn:    139.99999999999017\n",
            "Goal reached! reward= [200.]\n",
            "Success for tn:  140\n",
            "reset\n",
            "Step 1\n",
            "Action:  [6]\n",
            "stepping:  0\n",
            "ACTION            :  6\n",
            "curtemp:  33.0\n",
            "Temperature:  [33.]\n",
            "highHIIIIGHHHHHH:  307.0\n",
            "rewaRD::  -100\n",
            "returned state: [33.]\n",
            "observation space:  (2,)\n",
            "obs= [[33.]] reward= [-100.] done= [False]\n",
            "Step 2\n",
            "Action:  [6]\n",
            "stepping:  0\n",
            "ACTION            :  6\n",
            "curtemp:  63.0\n",
            "Temperature:  [33. 63.]\n",
            "highHIIIIGHHHHHH:  277.0\n",
            "rewaRD::  -100\n",
            "returned state: [63.]\n",
            "observation space:  (3,)\n",
            "obs= [[63.]] reward= [-100.] done= [False]\n",
            "Step 3\n",
            "Action:  [6]\n",
            "stepping:  0\n",
            "ACTION            :  6\n",
            "curtemp:  93.0\n",
            "Temperature:  [33. 63. 93.]\n",
            "highHIIIIGHHHHHH:  247.0\n",
            "rewaRD::  -100\n",
            "returned state: [93.]\n",
            "observation space:  (4,)\n",
            "obs= [[93.]] reward= [-100.] done= [False]\n",
            "Step 4\n",
            "Action:  [6]\n",
            "stepping:  0\n",
            "ACTION            :  6\n",
            "curtemp:  123.0\n",
            "Temperature:  [ 33.  63.  93. 123.]\n",
            "Intensity:  [329.75854354 311.33787946 250.78505434 141.71504617]\n",
            "ORDER PARAM RESULT (X2): 150.00000000006222\n",
            "THE JT RESULT {X0}: 0.8850000000000234\n",
            "THE NF RESULT {X1}: 330.0000000000091\n",
            "chisqds:  4.348409181409788e-22\n",
            "BUT ARE WE SURE?: 0.983635410731639\n"
          ],
          "name": "stdout"
        },
        {
          "output_type": "display_data",
          "data": {
            "image/png": "[encoded data removed]",
            "text/plain": [
              "<Figure size 432x288 with 1 Axes>"
            ]
          },
          "metadata": {
            "tags": [],
            "needs_background": "light"
          }
        },
        {
          "output_type": "stream",
          "text": [
            "highHIIIIGHHHHHH:  217.0\n",
            "rewaRD::  0\n",
            "terminated: excellent conditions\n",
            "returned state: [123.]\n",
            "observation space:  (5,)\n",
            "reset\n",
            "obs= [[3.]] reward= [200.] done= [ True]\n",
            "second gettn:    150.00000000006222\n",
            "Goal reached! reward= [200.]\n",
            "Success for tn:  150\n",
            "reset\n",
            "Step 1\n",
            "Action:  [6]\n",
            "stepping:  0\n",
            "ACTION            :  6\n",
            "curtemp:  33.0\n",
            "Temperature:  [33.]\n",
            "highHIIIIGHHHHHH:  307.0\n",
            "rewaRD::  -100\n",
            "returned state: [33.]\n",
            "observation space:  (2,)\n",
            "obs= [[33.]] reward= [-100.] done= [False]\n",
            "Step 2\n",
            "Action:  [6]\n",
            "stepping:  0\n",
            "ACTION            :  6\n",
            "curtemp:  63.0\n",
            "Temperature:  [33. 63.]\n",
            "highHIIIIGHHHHHH:  277.0\n",
            "rewaRD::  -100\n",
            "returned state: [63.]\n",
            "observation space:  (3,)\n",
            "obs= [[63.]] reward= [-100.] done= [False]\n",
            "Step 3\n",
            "Action:  [6]\n",
            "stepping:  0\n",
            "ACTION            :  6\n",
            "curtemp:  93.0\n",
            "Temperature:  [33. 63. 93.]\n",
            "highHIIIIGHHHHHH:  247.0\n",
            "rewaRD::  -100\n",
            "returned state: [93.]\n",
            "observation space:  (4,)\n",
            "obs= [[93.]] reward= [-100.] done= [False]\n",
            "Step 4\n",
            "Action:  [6]\n",
            "stepping:  0\n",
            "ACTION            :  6\n",
            "curtemp:  123.0\n",
            "Temperature:  [ 33.  63.  93. 123.]\n",
            "Intensity:  [329.96643649 315.89652018 266.21196364 174.42840034]\n",
            "ORDER PARAM RESULT (X2): 200.1287738848727\n",
            "THE JT RESULT {X0}: 0.40000015380590886\n",
            "THE NF RESULT {X1}: 217.07910621742334\n",
            "chisqds:  83.67700659513446\n",
            "BUT ARE WE SURE?: 4.028941858211034\n"
          ],
          "name": "stdout"
        },
        {
          "output_type": "display_data",
          "data": {
            "image/png": "[encoded data removed]",
            "text/plain": [
              "<Figure size 432x288 with 1 Axes>"
            ]
          },
          "metadata": {
            "tags": [],
            "needs_background": "light"
          }
        },
        {
          "output_type": "stream",
          "text": [
            "highHIIIIGHHHHHH:  217.0\n",
            "rewaRD::  -100\n",
            "returned state: [123.]\n",
            "observation space:  (5,)\n",
            "obs= [[123.]] reward= [-100.] done= [False]\n",
            "Step 5\n",
            "Action:  [6]\n",
            "stepping:  0\n",
            "ACTION            :  6\n",
            "curtemp:  153.0\n",
            "Temperature:  [ 33.  63.  93. 123. 153.]\n",
            "Intensity:  [329.96643649 315.89652018 266.21196364 174.42840034  38.49727682]\n",
            "ORDER PARAM RESULT (X2): 159.99999999999278\n",
            "THE JT RESULT {X0}: 0.8850000000000318\n",
            "THE NF RESULT {X1}: 329.9999999999997\n",
            "chisqds:  1.8039423773416034e-23\n",
            "BUT ARE WE SURE?: 0.5676192224990027\n"
          ],
          "name": "stdout"
        },
        {
          "output_type": "display_data",
          "data": {
            "image/png": "[encoded data removed]",
            "text/plain": [
              "<Figure size 432x288 with 1 Axes>"
            ]
          },
          "metadata": {
            "tags": [],
            "needs_background": "light"
          }
        },
        {
          "output_type": "stream",
          "text": [
            "highHIIIIGHHHHHH:  187.0\n",
            "rewaRD::  0\n",
            "terminated: excellent conditions\n",
            "returned state: [153.]\n",
            "observation space:  (6,)\n",
            "reset\n",
            "obs= [[3.]] reward= [200.] done= [ True]\n",
            "second gettn:    159.99999999999278\n",
            "Goal reached! reward= [200.]\n",
            "Success for tn:  160\n",
            "reset\n",
            "Step 1\n",
            "Action:  [6]\n",
            "stepping:  0\n",
            "ACTION            :  6\n",
            "curtemp:  33.0\n",
            "Temperature:  [33.]\n",
            "highHIIIIGHHHHHH:  307.0\n",
            "rewaRD::  -100\n",
            "returned state: [33.]\n",
            "observation space:  (2,)\n",
            "obs= [[33.]] reward= [-100.] done= [False]\n",
            "Step 2\n",
            "Action:  [6]\n",
            "stepping:  0\n",
            "ACTION            :  6\n",
            "curtemp:  63.0\n",
            "Temperature:  [33. 63.]\n",
            "highHIIIIGHHHHHH:  277.0\n",
            "rewaRD::  -100\n",
            "returned state: [63.]\n",
            "observation space:  (3,)\n",
            "obs= [[63.]] reward= [-100.] done= [False]\n",
            "Step 3\n",
            "Action:  [6]\n",
            "stepping:  0\n",
            "ACTION            :  6\n",
            "curtemp:  93.0\n",
            "Temperature:  [33. 63. 93.]\n",
            "highHIIIIGHHHHHH:  247.0\n",
            "rewaRD::  -100\n",
            "returned state: [93.]\n",
            "observation space:  (4,)\n",
            "obs= [[93.]] reward= [-100.] done= [False]\n",
            "Step 4\n",
            "Action:  [6]\n",
            "stepping:  0\n",
            "ACTION            :  6\n",
            "curtemp:  123.0\n",
            "Temperature:  [ 33.  63.  93. 123.]\n",
            "Intensity:  [330.09435768 319.31269441 278.32241044 200.54930063]\n",
            "ORDER PARAM RESULT (X2): 169.9999999999843\n",
            "THE JT RESULT {X0}: 0.8850000000001008\n",
            "THE NF RESULT {X1}: 329.9999999999998\n",
            "chisqds:  9.492758988068418e-24\n",
            "BUT ARE WE SURE?: 1.4071634429322704\n"
          ],
          "name": "stdout"
        },
        {
          "output_type": "display_data",
          "data": {
            "image/png": "[encoded data removed]",
            "text/plain": [
              "<Figure size 432x288 with 1 Axes>"
            ]
          },
          "metadata": {
            "tags": [],
            "needs_background": "light"
          }
        },
        {
          "output_type": "stream",
          "text": [
            "highHIIIIGHHHHHH:  217.0\n",
            "rewaRD::  0\n",
            "terminated: excellent conditions\n",
            "returned state: [123.]\n",
            "observation space:  (5,)\n",
            "reset\n",
            "obs= [[3.]] reward= [200.] done= [ True]\n",
            "second gettn:    169.9999999999843\n",
            "Goal reached! reward= [200.]\n",
            "Success for tn:  170\n",
            "reset\n",
            "Step 1\n",
            "Action:  [6]\n",
            "stepping:  0\n",
            "ACTION            :  6\n",
            "curtemp:  33.0\n",
            "Temperature:  [33.]\n",
            "highHIIIIGHHHHHH:  307.0\n",
            "rewaRD::  -100\n",
            "returned state: [33.]\n",
            "observation space:  (2,)\n",
            "obs= [[33.]] reward= [-100.] done= [False]\n",
            "Step 2\n",
            "Action:  [6]\n",
            "stepping:  0\n",
            "ACTION            :  6\n",
            "curtemp:  63.0\n",
            "Temperature:  [33. 63.]\n",
            "highHIIIIGHHHHHH:  277.0\n",
            "rewaRD::  -100\n",
            "returned state: [63.]\n",
            "observation space:  (3,)\n",
            "obs= [[63.]] reward= [-100.] done= [False]\n",
            "Step 3\n",
            "Action:  [6]\n",
            "stepping:  0\n",
            "ACTION            :  6\n",
            "curtemp:  93.0\n",
            "Temperature:  [33. 63. 93.]\n",
            "highHIIIIGHHHHHH:  247.0\n",
            "rewaRD::  -100\n",
            "returned state: [93.]\n",
            "observation space:  (4,)\n",
            "obs= [[93.]] reward= [-100.] done= [False]\n",
            "Step 4\n",
            "Action:  [6]\n",
            "stepping:  0\n",
            "ACTION            :  6\n",
            "curtemp:  123.0\n",
            "Temperature:  [ 33.  63.  93. 123.]\n",
            "Intensity:  [330.1731595  321.88983913 287.920235   221.62570085]\n",
            "ORDER PARAM RESULT (X2): 179.9999999999998\n",
            "THE JT RESULT {X0}: 0.8850000000000023\n",
            "THE NF RESULT {X1}: 329.9999999999999\n",
            "chisqds:  6.257336952922098e-28\n",
            "BUT ARE WE SURE?: 1.6794475604070245\n"
          ],
          "name": "stdout"
        },
        {
          "output_type": "display_data",
          "data": {
            "image/png": "[encoded data removed]",
            "text/plain": [
              "<Figure size 432x288 with 1 Axes>"
            ]
          },
          "metadata": {
            "tags": [],
            "needs_background": "light"
          }
        },
        {
          "output_type": "stream",
          "text": [
            "highHIIIIGHHHHHH:  217.0\n",
            "rewaRD::  0\n",
            "terminated: excellent conditions\n",
            "returned state: [123.]\n",
            "observation space:  (5,)\n",
            "reset\n",
            "obs= [[3.]] reward= [200.] done= [ True]\n",
            "second gettn:    179.9999999999998\n",
            "Goal reached! reward= [200.]\n",
            "Success for tn:  180\n",
            "reset\n",
            "Step 1\n",
            "Action:  [6]\n",
            "stepping:  0\n",
            "ACTION            :  6\n",
            "curtemp:  33.0\n",
            "Temperature:  [33.]\n",
            "highHIIIIGHHHHHH:  307.0\n",
            "rewaRD::  -100\n",
            "returned state: [33.]\n",
            "observation space:  (2,)\n",
            "obs= [[33.]] reward= [-100.] done= [False]\n",
            "Step 2\n",
            "Action:  [6]\n",
            "stepping:  0\n",
            "ACTION            :  6\n",
            "curtemp:  63.0\n",
            "Temperature:  [33. 63.]\n",
            "highHIIIIGHHHHHH:  277.0\n",
            "rewaRD::  -100\n",
            "returned state: [63.]\n",
            "observation space:  (3,)\n",
            "obs= [[63.]] reward= [-100.] done= [False]\n",
            "Step 3\n",
            "Action:  [6]\n",
            "stepping:  0\n",
            "ACTION            :  6\n",
            "curtemp:  93.0\n",
            "Temperature:  [33. 63. 93.]\n",
            "highHIIIIGHHHHHH:  247.0\n",
            "rewaRD::  -100\n",
            "returned state: [93.]\n",
            "observation space:  (4,)\n",
            "obs= [[93.]] reward= [-100.] done= [False]\n",
            "Step 4\n",
            "Action:  [6]\n",
            "stepping:  0\n",
            "ACTION            :  6\n",
            "curtemp:  123.0\n",
            "Temperature:  [ 33.  63.  93. 123.]\n",
            "Intensity:  [330.22173941 323.84459756 295.58912036 238.78855846]\n",
            "ORDER PARAM RESULT (X2): 224.04310097838808\n",
            "THE JT RESULT {X0}: 0.4000002094354922\n",
            "THE NF RESULT {X1}: 243.4899469560584\n",
            "chisqds:  56.72995424220518\n",
            "BUT ARE WE SURE?: 6.011973893292678\n"
          ],
          "name": "stdout"
        },
        {
          "output_type": "display_data",
          "data": {
            "image/png": "[encoded data removed]",
            "text/plain": [
              "<Figure size 432x288 with 1 Axes>"
            ]
          },
          "metadata": {
            "tags": [],
            "needs_background": "light"
          }
        },
        {
          "output_type": "stream",
          "text": [
            "highHIIIIGHHHHHH:  217.0\n",
            "rewaRD::  -100\n",
            "returned state: [123.]\n",
            "observation space:  (5,)\n",
            "obs= [[123.]] reward= [-100.] done= [False]\n",
            "Step 5\n",
            "Action:  [6]\n",
            "stepping:  0\n",
            "ACTION            :  6\n",
            "curtemp:  153.0\n",
            "Temperature:  [ 33.  63.  93. 123. 153.]\n",
            "Intensity:  [330.22173941 323.84459756 295.58912036 238.78855846 151.46162079]\n",
            "ORDER PARAM RESULT (X2): 200.52978351748624\n",
            "THE JT RESULT {X0}: 0.400000207050904\n",
            "THE NF RESULT {X1}: 217.49016652122208\n",
            "chisqds:  59.837324064950046\n",
            "BUT ARE WE SURE?: 1.608847384994354\n"
          ],
          "name": "stdout"
        },
        {
          "output_type": "display_data",
          "data": {
            "image/png": "[encoded data removed]",
            "text/plain": [
              "<Figure size 432x288 with 1 Axes>"
            ]
          },
          "metadata": {
            "tags": [],
            "needs_background": "light"
          }
        },
        {
          "output_type": "stream",
          "text": [
            "highHIIIIGHHHHHH:  187.0\n",
            "rewaRD::  -100\n",
            "returned state: [153.]\n",
            "observation space:  (6,)\n",
            "obs= [[153.]] reward= [-100.] done= [False]\n",
            "Step 6\n",
            "Action:  [6]\n",
            "stepping:  0\n",
            "ACTION            :  6\n",
            "curtemp:  183.0\n",
            "Temperature:  [ 33.  63.  93. 123. 153. 183.]\n",
            "Intensity:  [330.22173941 323.84459756 295.58912036 238.78855846 151.46162079\n",
            "  32.63021518]\n",
            "ORDER PARAM RESULT (X2): 190.00000000000048\n",
            "THE JT RESULT {X0}: 0.8850000000000428\n",
            "THE NF RESULT {X1}: 330.0000000000007\n",
            "chisqds:  3.185430420620838e-26\n",
            "BUT ARE WE SURE?: 0.49923991457001293\n"
          ],
          "name": "stdout"
        },
        {
          "output_type": "display_data",
          "data": {
            "image/png": "[encoded data removed]",
            "text/plain": [
              "<Figure size 432x288 with 1 Axes>"
            ]
          },
          "metadata": {
            "tags": [],
            "needs_background": "light"
          }
        },
        {
          "output_type": "stream",
          "text": [
            "highHIIIIGHHHHHH:  157.0\n",
            "rewaRD::  0\n",
            "terminated: excellent conditions\n",
            "returned state: [183.]\n",
            "observation space:  (7,)\n",
            "reset\n",
            "obs= [[3.]] reward= [200.] done= [ True]\n",
            "second gettn:    190.00000000000048\n",
            "Goal reached! reward= [200.]\n",
            "Success for tn:  190\n",
            "100  :  0\n",
            "110  :  0\n",
            "120  :  0\n",
            "130  :  0\n",
            "140  :  1\n",
            "150  :  1\n",
            "160  :  1\n",
            "170  :  1\n",
            "180  :  1\n",
            "190  :  1\n"
          ],
          "name": "stdout"
        }
      ]
    },
    {
      "cell_type": "markdown",
      "metadata": {
        "id": "ACw99Axl9X7l",
        "colab_type": "text"
      },
      "source": [
        "Graph the results of the training time."
      ]
    },
    {
      "cell_type": "code",
      "metadata": {
        "id": "dpnILpJsBZxX",
        "colab_type": "code",
        "colab": {
          "base_uri": "https://localhost:8080/"
        },
        "outputId": "8d6e32f6-48a0-42b2-cadb-e7f559bb3e49"
      },
      "source": [
        "numTrials = 1140\n",
        "\n",
        "endParams = [[] for i in range(numTrials)]\n",
        "data = [[] for i in range(numTrials)]\n",
        "chis = [[] for i in range(numTrials)]\n",
        "nfs = [[] for i in range(numTrials)]\n",
        "jts = [[] for i in range(numTrials)]\n",
        "endtns = []\n",
        "endnfs = []\n",
        "endjts = []\n",
        "tn = 160\n",
        "nf = 216\n",
        "jt = .2\n",
        "convergs_tn = []\n",
        "convergs_nf = []\n",
        "convergs_jt = []\n",
        "imagestore = \"logs/\"\n",
        "logstore = \"logs/\"\n",
        "\n",
        "for i in range(1,numTrials+1):\n",
        "    data[i-1] = np.loadtxt(logstore +  \"temps/tnLog-\" + str(i) + \".npy\")\n",
        "    chis[i-1] = np.loadtxt(logstore + \"chis/chiLog-\" + str(i) + \".npy\")\n",
        "    nfs[i-1] = np.loadtxt(logstore + \"nf/nfLog-\" + str(i) + \".npy\")\n",
        "    jts[i-1] = np.loadtxt(logstore + \"jt/jtLog-\" + str(i) + \".npy\")\n",
        "\n",
        "#plot each episode tn track, process ending values for plotting below\n",
        "for i in range (0, len(data)): \n",
        "    j = 0\n",
        "    try: \n",
        "      while j < len(data[i]) - 1 and data[i][j] > tn + 0.1 or data[i][j] < tn - 0.1:\n",
        "        j += 1\n",
        "    except: \n",
        "      j = 0\n",
        "    \n",
        "    w = 0\n",
        "    try: \n",
        "      while w < len(nfs[i]) - 1 and nfs[i][w] > nf + 0.1 or nfs[i][w] < nf - 0.1:\n",
        "        w += 1\n",
        "    except: \n",
        "      w = 0\n",
        "    \n",
        "    k = 0\n",
        "    try: \n",
        "      while k < len(jts[i]) - 1 and jts[i][k] > jt + 0.1 or jts[i][k] < jt - 0.1:\n",
        "        k += 1\n",
        "    except: \n",
        "      k = 0\n",
        "    \n",
        "    convergs_tn.append(j)\n",
        "    convergs_nf.append(w)\n",
        "    convergs_jt.append(k)\n",
        "\n",
        "    plt.plot(data[i], label = str(i))\n",
        "\n",
        "    try:\n",
        "      value = data[i][-1]\n",
        "    except:\n",
        "      value = data[i]\n",
        "    try:\n",
        "      nf = nfs[i][-1]\n",
        "    except:\n",
        "      nf = nfs[i]\n",
        "    try:\n",
        "      jt = jts[i][-1]\n",
        "    except:\n",
        "      jt = jts[i]\n",
        "\n",
        "    #print(value)\n",
        "    endtns.append(value)\n",
        "    endnfs.append(nf)\n",
        "    endjts.append(jt)\n",
        "    #print(endtns)\n",
        "\n",
        "plt.xlabel(\"measurement steps\")\n",
        "plt.ylabel(\"tn value\")\n",
        "plt.show()\n",
        "plt.savefig(imagestore + \"tns.png\")\n",
        "plt.close()\n",
        "\n",
        "print(\"convergence for tn\")\n",
        "plt.plot(convergs_tn, 'ro')\n",
        "plt.xlabel(\"episodes\")\n",
        "plt.ylabel(\"step at which convergence is reached\")\n",
        "plt.show()\n",
        "plt.savefig(imagestore + 'convergs_tn.png')\n",
        "\n",
        "print(\"convergence for nf\")\n",
        "plt.plot(convergs_nf, 'ro')\n",
        "plt.xlabel(\"episodes\")\n",
        "plt.ylabel(\"step at which convergence is reached\")\n",
        "plt.show()\n",
        "plt.savefig(imagestore + 'convergs_nf.png')\n",
        "\n",
        "print(\"convergence for jt\")\n",
        "plt.plot(convergs_jt, 'ro')\n",
        "plt.xlabel(\"episodes\")\n",
        "plt.ylabel(\"step at which convergence is reached\")\n",
        "plt.show()\n",
        "plt.savefig(imagestore + 'convergs_jt.png')\n",
        "\n",
        "#actually plot final tn values for each episode\n",
        "plt.plot(endtns, 'bo')\n",
        "plt.xlabel(\"episodes\")\n",
        "plt.ylabel(\"tn value\")\n",
        "plt.show()\n",
        "plt.savefig(imagestore + \"endtns.png\")\n",
        "plt.close()\n",
        "\n",
        "print(\"final nfs\")\n",
        "plt.plot(endnfs, 'go')\n",
        "plt.xlabel(\"episodes\")\n",
        "plt.ylabel(\"nf value\")\n",
        "plt.show()\n",
        "plt.savefig(imagestore + \"endnfs.png\")\n",
        "plt.close()\n",
        "\n",
        "print(\"final jts\")\n",
        "plt.plot(endjts, 'mo')\n",
        "plt.xlabel(\"episodes\")\n",
        "plt.ylabel(\"jt value\")\n",
        "plt.show()\n",
        "plt.savefig(imagestore + \"endjts.png\")\n",
        "plt.close()\n",
        "\n",
        "#track chisq values through the episode\n",
        "for i in range (0, len(chis)):\n",
        "  plt.plot(chis[i], label = str(i))\n",
        "\n",
        "plt.xlabel(\"steps\")\n",
        "plt.ylabel(\"chis\")\n",
        "plt.show()\n",
        "plt.close()\n",
        "\n",
        "\n",
        "print(\"rewards at the end of the episode\")\n",
        "rewards = np.loadtxt('logs/runrewards.npy')\n",
        "plt.plot(rewards, 'ro')\n",
        "plt.show()\n",
        "plt.close()\n"
      ],
      "execution_count": null,
      "outputs": [
        {
          "output_type": "display_data",
          "data": {
            "image/png": "[encoded data removed]",
            "text/plain": [
              "<Figure size 432x288 with 1 Axes>"
            ]
          },
          "metadata": {
            "tags": [],
            "needs_background": "light"
          }
        },
        {
          "output_type": "stream",
          "text": [
            "convergence for tn\n"
          ],
          "name": "stdout"
        },
        {
          "output_type": "display_data",
          "data": {
            "image/png": "[encoded data removed]",
            "text/plain": [
              "<Figure size 432x288 with 1 Axes>"
            ]
          },
          "metadata": {
            "tags": [],
            "needs_background": "light"
          }
        },
        {
          "output_type": "stream",
          "text": [
            "convergence for nf\n"
          ],
          "name": "stdout"
        },
        {
          "output_type": "display_data",
          "data": {
            "image/png": "[encoded data removed]",
            "text/plain": [
              "<Figure size 432x288 with 1 Axes>"
            ]
          },
          "metadata": {
            "tags": [],
            "needs_background": "light"
          }
        },
        {
          "output_type": "stream",
          "text": [
            "convergence for jt\n"
          ],
          "name": "stdout"
        },
        {
          "output_type": "display_data",
          "data": {
            "image/png": "[encoded data removed]",
            "text/plain": [
              "<Figure size 432x288 with 1 Axes>"
            ]
          },
          "metadata": {
            "tags": [],
            "needs_background": "light"
          }
        },
        {
          "output_type": "display_data",
          "data": {
            "image/png": "[encoded data removed]",
            "text/plain": [
              "<Figure size 432x288 with 1 Axes>"
            ]
          },
          "metadata": {
            "tags": [],
            "needs_background": "light"
          }
        },
        {
          "output_type": "stream",
          "text": [
            "final nfs\n"
          ],
          "name": "stdout"
        },
        {
          "output_type": "display_data",
          "data": {
            "image/png": "[encoded data removed]",
            "text/plain": [
              "<Figure size 432x288 with 1 Axes>"
            ]
          },
          "metadata": {
            "tags": [],
            "needs_background": "light"
          }
        },
        {
          "output_type": "stream",
          "text": [
            "final jts\n"
          ],
          "name": "stdout"
        },
        {
          "output_type": "display_data",
          "data": {
            "image/png": "[encoded data removed]",
            "text/plain": [
              "<Figure size 432x288 with 1 Axes>"
            ]
          },
          "metadata": {
            "tags": [],
            "needs_background": "light"
          }
        },
        {
          "output_type": "display_data",
          "data": {
            "image/png": "[encoded data removed]",
            "text/plain": [
              "<Figure size 432x288 with 1 Axes>"
            ]
          },
          "metadata": {
            "tags": [],
            "needs_background": "light"
          }
        },
        {
          "output_type": "stream",
          "text": [
            "rewards at the end of the episode\n"
          ],
          "name": "stdout"
        },
        {
          "output_type": "display_data",
          "data": {
            "image/png": "[encoded data removed]",
            "text/plain": [
              "<Figure size 432x288 with 1 Axes>"
            ]
          },
          "metadata": {
            "tags": [],
            "needs_background": "light"
          }
        }
      ]
    },
    {
      "cell_type": "markdown",
      "metadata": {
        "id": "SVeq1UGQ9dtA",
        "colab_type": "text"
      },
      "source": [
        "Test how a classical fitter works."
      ]
    },
    {
      "cell_type": "code",
      "metadata": {
        "id": "MhZfeon4W_UG",
        "colab_type": "code",
        "colab": {
          "base_uri": "https://localhost:8080/",
          "height": 704
        },
        "outputId": "0638f24a-7901-4964-ca39-2dd3ee34b0c9"
      },
      "source": [
        "p=[.885,330,.3]\n",
        "T=np.arange(3, 300, 4)\n",
        "#T = np.array([14.5, 15])\n",
        "print(\"temperature: \", T)\n",
        "#T=N.arange(10,300,2)\n",
        "I=[]\n",
        "error = []\n",
        "\n",
        "I=OrderMethods.orderparameter(T, 160,p[0],p[1],p[2])\n",
        "print(\"Intensity: \", I)\n",
        "error= np.sqrt(I)\n",
        "#print(error)\n",
        "\n",
        "M = Curve(OrderMethods.orderparameter, T, I, error, Jt = p[0], Nf = p[1], Bk = p[2])\n",
        "M.Tn.range(10,400)\n",
        "\n",
        "x, dx, chisq, params = OrderMethods.fit(M)\n",
        "print(x)\n",
        "\n",
        "fitI = OrderMethods.orderparameter(T, x, p[0],p[1],p[2])\n",
        "\n",
        "plt.errorbar(T, I, error)\n",
        "plt.plot(T, fitI,'ro', markersize = 2)\n",
        "plt.xlabel(\"Temperature\")\n",
        "plt.ylabel(\"Intensity\") \n",
        "plt.close()"
      ],
      "execution_count": null,
      "outputs": [
        {
          "output_type": "stream",
          "text": [
            "temperature:  [  3   7  11  15  19  23  27  31  35  39  43  47  51  55  59  63  67  71\n",
            "  75  79  83  87  91  95  99 103 107 111 115 119 123 127 131 135 139 143\n",
            " 147 151 155 159 163 167 171 175 179 183 187 191 195 199 203 207 211 215\n",
            " 219 223 227 231 235 239 243 247 251 255 259 263 267 271 275 279 283 287\n",
            " 291 295 299]\n",
            "Intensity:  [3.30300000e+02 3.30300000e+02 3.30300000e+02 3.30299968e+02\n",
            " 3.30298873e+02 3.30288400e+02 3.30240148e+02 3.30097540e+02\n",
            " 3.29780585e+02 3.29198527e+02 3.28262096e+02 3.26891299e+02\n",
            " 3.25018669e+02 3.22589434e+02 3.19560107e+02 3.15896520e+02\n",
            " 3.11571865e+02 3.06564979e+02 3.00858961e+02 2.94440090e+02\n",
            " 2.87297081e+02 2.79420348e+02 2.70801736e+02 2.61434116e+02\n",
            " 2.51311176e+02 2.40427213e+02 2.28777201e+02 2.16356427e+02\n",
            " 2.03160611e+02 1.89185814e+02 1.74428400e+02 1.58884980e+02\n",
            " 1.42552440e+02 1.25427847e+02 1.07508512e+02 8.87918924e+01\n",
            " 6.92756680e+01 4.89576161e+01 2.78357095e+01 5.90802675e+00\n",
            " 3.00000000e-01 3.00000000e-01 3.00000000e-01 3.00000000e-01\n",
            " 3.00000000e-01 3.00000000e-01 3.00000000e-01 3.00000000e-01\n",
            " 3.00000000e-01 3.00000000e-01 3.00000000e-01 3.00000000e-01\n",
            " 3.00000000e-01 3.00000000e-01 3.00000000e-01 3.00000000e-01\n",
            " 3.00000000e-01 3.00000000e-01 3.00000000e-01 3.00000000e-01\n",
            " 3.00000000e-01 3.00000000e-01 3.00000000e-01 3.00000000e-01\n",
            " 3.00000000e-01 3.00000000e-01 3.00000000e-01 3.00000000e-01\n",
            " 3.00000000e-01 3.00000000e-01 3.00000000e-01 3.00000000e-01\n",
            " 3.00000000e-01 3.00000000e-01 3.00000000e-01]\n"
          ],
          "name": "stdout"
        },
        {
          "output_type": "display_data",
          "data": {
            "image/png": "[encoded data removed]",
            "text/plain": [
              "<Figure size 432x288 with 1 Axes>"
            ]
          },
          "metadata": {
            "tags": [],
            "needs_background": "light"
          }
        },
        {
          "output_type": "stream",
          "text": [
            "[160.]\n"
          ],
          "name": "stdout"
        }
      ]
    },
    {
      "cell_type": "code",
      "metadata": {
        "id": "4aNGf79BzmZL",
        "colab_type": "code",
        "colab": {}
      },
      "source": [
        ""
      ],
      "execution_count": null,
      "outputs": []
    }
  ]
}