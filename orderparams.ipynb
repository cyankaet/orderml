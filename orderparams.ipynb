{
  "nbformat": 4,
  "nbformat_minor": 0,
  "metadata": {
    "colab": {
      "name": "orderparams.ipynb",
      "provenance": [],
      "collapsed_sections": [],
      "include_colab_link": true
    },
    "kernelspec": {
      "name": "python3",
      "display_name": "Python 3"
    }
  },
  "cells": [
    {
      "cell_type": "markdown",
      "metadata": {
        "id": "view-in-github",
        "colab_type": "text"
      },
      "source": [
        "<a href=\"https://colab.research.google.com/github/cyankaet/orderml/blob/master/orderparams.ipynb\" target=\"_parent\"><img src=\"https://colab.research.google.com/assets/colab-badge.svg\" alt=\"Open In Colab\"/></a>"
      ]
    },
    {
      "cell_type": "code",
      "metadata": {
        "id": "vhAwAv3mIqi6",
        "colab_type": "code",
        "colab": {
          "base_uri": "https://localhost:8080/",
          "height": 106
        },
        "outputId": "b4f83037-9861-4be1-bc6c-25b3c3bab9b2"
      },
      "source": [
        "from google.colab import drive\n",
        "drive.mount('/content/drive')"
      ],
      "execution_count": null,
      "outputs": [
        {
          "output_type": "stream",
          "text": [
            "Go to this URL in a browser: https://accounts.google.com/o/oauth2/auth?client_id=947318989803-6bn6qk8qdgf4n4g3pfee6491hc0brc4i.apps.googleusercontent.com&redirect_uri=urn%3aietf%3awg%3aoauth%3a2.0%3aoob&response_type=code&scope=email%20https%3a%2f%2fwww.googleapis.com%2fauth%2fdocs.test%20https%3a%2f%2fwww.googleapis.com%2fauth%2fdrive%20https%3a%2f%2fwww.googleapis.com%2fauth%2fdrive.photos.readonly%20https%3a%2f%2fwww.googleapis.com%2fauth%2fpeopleapi.readonly\n",
            "\n",
            "Enter your authorization code:\n",
            "··········\n"
          ],
          "name": "stdout"
        }
      ]
    },
    {
      "cell_type": "code",
      "metadata": {
        "id": "n01CukBTI5ap",
        "colab_type": "code",
        "colab": {
          "base_uri": "https://localhost:8080/",
          "height": 34
        },
        "outputId": "b8b91f8b-b4a9-47ef-bf81-8f7abf4595d4"
      },
      "source": [
        "cd /content/drive/My Drive/orderml"
      ],
      "execution_count": null,
      "outputs": [
        {
          "output_type": "stream",
          "text": [
            "/content/drive/My Drive/orderml\n"
          ],
          "name": "stdout"
        }
      ]
    },
    {
      "cell_type": "markdown",
      "metadata": {
        "id": "WJAddrOsKy5p",
        "colab_type": "text"
      },
      "source": [
        "Any other drive folder is, hint, probably not the correct one! Navigate to where your orderml folder is in your drive. This code should work for a top-level folder."
      ]
    },
    {
      "cell_type": "markdown",
      "metadata": {
        "id": "SzWecICK2xmS",
        "colab_type": "text"
      },
      "source": [
        "Check you're in the right folder.\n",
        "\n"
      ]
    },
    {
      "cell_type": "code",
      "metadata": {
        "id": "72eeojpzJ-4m",
        "colab_type": "code",
        "colab": {
          "base_uri": "https://localhost:8080/",
          "height": 34
        },
        "outputId": "6c9a6fc8-3044-46d9-fc82-88f44aaedfb6"
      },
      "source": [
        "ls"
      ],
      "execution_count": null,
      "outputs": [
        {
          "output_type": "stream",
          "text": [
            "\u001b[0m\u001b[01;34mlogs\u001b[0m/  orderparams.ipynb  problems.txt  \u001b[01;34m__pycache__\u001b[0m/  test.png\n"
          ],
          "name": "stdout"
        }
      ]
    },
    {
      "cell_type": "markdown",
      "metadata": {
        "id": "lHYd9d6T3NJd",
        "colab_type": "text"
      },
      "source": [
        "Install non-default packages here."
      ]
    },
    {
      "cell_type": "code",
      "metadata": {
        "id": "1R8OvQpoJ3BD",
        "colab_type": "code",
        "colab": {
          "base_uri": "https://localhost:8080/",
          "height": 493
        },
        "outputId": "15c9aeb3-1a04-42ec-bf4a-a93c07f51955"
      },
      "source": [
        "!pip install bumps\n",
        "!pip install gym\n",
        "%tensorflow_version 1.x\n",
        "!pip install stable-baselines[mpi]==2.10.0"
      ],
      "execution_count": null,
      "outputs": [
        {
          "output_type": "stream",
          "text": [
            "Requirement already satisfied: bumps in /usr/local/lib/python3.6/dist-packages (0.7.16)\n",
            "Requirement already satisfied: six in /usr/local/lib/python3.6/dist-packages (from bumps) (1.12.0)\n",
            "Requirement already satisfied: gym in /usr/local/lib/python3.6/dist-packages (0.17.2)\n",
            "Requirement already satisfied: numpy>=1.10.4 in /usr/local/lib/python3.6/dist-packages (from gym) (1.18.5)\n",
            "Requirement already satisfied: pyglet<=1.5.0,>=1.4.0 in /usr/local/lib/python3.6/dist-packages (from gym) (1.5.0)\n",
            "Requirement already satisfied: cloudpickle<1.4.0,>=1.2.0 in /usr/local/lib/python3.6/dist-packages (from gym) (1.3.0)\n",
            "Requirement already satisfied: scipy in /usr/local/lib/python3.6/dist-packages (from gym) (1.4.1)\n",
            "Requirement already satisfied: future in /usr/local/lib/python3.6/dist-packages (from pyglet<=1.5.0,>=1.4.0->gym) (0.16.0)\n",
            "Requirement already satisfied: stable-baselines[mpi]==2.10.0 in /usr/local/lib/python3.6/dist-packages (2.10.0)\n",
            "Requirement already satisfied: scipy in /usr/local/lib/python3.6/dist-packages (from stable-baselines[mpi]==2.10.0) (1.4.1)\n",
            "Requirement already satisfied: numpy in /usr/local/lib/python3.6/dist-packages (from stable-baselines[mpi]==2.10.0) (1.18.5)\n",
            "Requirement already satisfied: opencv-python in /usr/local/lib/python3.6/dist-packages (from stable-baselines[mpi]==2.10.0) (4.1.2.30)\n",
            "Requirement already satisfied: matplotlib in /usr/local/lib/python3.6/dist-packages (from stable-baselines[mpi]==2.10.0) (3.2.2)\n",
            "Requirement already satisfied: joblib in /usr/local/lib/python3.6/dist-packages (from stable-baselines[mpi]==2.10.0) (0.15.1)\n",
            "Requirement already satisfied: cloudpickle>=0.5.5 in /usr/local/lib/python3.6/dist-packages (from stable-baselines[mpi]==2.10.0) (1.3.0)\n",
            "Requirement already satisfied: gym[atari,classic_control]>=0.11 in /usr/local/lib/python3.6/dist-packages (from stable-baselines[mpi]==2.10.0) (0.17.2)\n",
            "Requirement already satisfied: pandas in /usr/local/lib/python3.6/dist-packages (from stable-baselines[mpi]==2.10.0) (1.0.5)\n",
            "Requirement already satisfied: mpi4py; extra == \"mpi\" in /tensorflow-1.15.2/python3.6 (from stable-baselines[mpi]==2.10.0) (3.0.3)\n",
            "Requirement already satisfied: kiwisolver>=1.0.1 in /usr/local/lib/python3.6/dist-packages (from matplotlib->stable-baselines[mpi]==2.10.0) (1.2.0)\n",
            "Requirement already satisfied: python-dateutil>=2.1 in /usr/local/lib/python3.6/dist-packages (from matplotlib->stable-baselines[mpi]==2.10.0) (2.8.1)\n",
            "Requirement already satisfied: pyparsing!=2.0.4,!=2.1.2,!=2.1.6,>=2.0.1 in /usr/local/lib/python3.6/dist-packages (from matplotlib->stable-baselines[mpi]==2.10.0) (2.4.7)\n",
            "Requirement already satisfied: cycler>=0.10 in /usr/local/lib/python3.6/dist-packages (from matplotlib->stable-baselines[mpi]==2.10.0) (0.10.0)\n",
            "Requirement already satisfied: pyglet<=1.5.0,>=1.4.0 in /usr/local/lib/python3.6/dist-packages (from gym[atari,classic_control]>=0.11->stable-baselines[mpi]==2.10.0) (1.5.0)\n",
            "Requirement already satisfied: atari-py~=0.2.0; extra == \"atari\" in /usr/local/lib/python3.6/dist-packages (from gym[atari,classic_control]>=0.11->stable-baselines[mpi]==2.10.0) (0.2.6)\n",
            "Requirement already satisfied: Pillow; extra == \"atari\" in /usr/local/lib/python3.6/dist-packages (from gym[atari,classic_control]>=0.11->stable-baselines[mpi]==2.10.0) (7.0.0)\n",
            "Requirement already satisfied: pytz>=2017.2 in /usr/local/lib/python3.6/dist-packages (from pandas->stable-baselines[mpi]==2.10.0) (2018.9)\n",
            "Requirement already satisfied: six>=1.5 in /usr/local/lib/python3.6/dist-packages (from python-dateutil>=2.1->matplotlib->stable-baselines[mpi]==2.10.0) (1.12.0)\n",
            "Requirement already satisfied: future in /usr/local/lib/python3.6/dist-packages (from pyglet<=1.5.0,>=1.4.0->gym[atari,classic_control]>=0.11->stable-baselines[mpi]==2.10.0) (0.16.0)\n"
          ],
          "name": "stdout"
        }
      ]
    },
    {
      "cell_type": "markdown",
      "metadata": {
        "id": "yEG6I1fe3Y3i",
        "colab_type": "text"
      },
      "source": [
        "\"Compile\" code."
      ]
    },
    {
      "cell_type": "code",
      "metadata": {
        "id": "G0YgXQgt2ubR",
        "colab_type": "code",
        "colab": {}
      },
      "source": [
        "class OrderMethods():\n",
        "\n",
        "    def getData(T, x, p):\n",
        "        Jt, Nf, Bk = p\n",
        "        return OrderMethods.orderparameter(T, x, Jt, Nf, Bk)\n",
        "\n",
        "    def bsol(temp,p):\n",
        "        Tn,Jt,Nf,Bk=p\n",
        "        t=4.0*(Jt/(Jt+1.0))*Tn/temp\n",
        "        #print t\n",
        "        if (Tn<=0) or (Jt<=0) or temp>=Tn:\n",
        "            xout=0.0\n",
        "        else:\n",
        "            xout=optimize.brentq(OrderMethods.bfun,0.0,t,args=(temp,p),xtol=1e-6)\n",
        "\n",
        "        return xout\n",
        "\n",
        "\n",
        "    def bfun(x,T,p):\n",
        "        Tn,Jt,Nf,Bk=p\n",
        "        if x==0.0:\n",
        "            B=-1.0 # so that it wont find solution at zero\n",
        "        else:\n",
        "            B=(x-3*OrderMethods.brill(Jt,x)*(Jt/(Jt+1))*(Tn/T))\n",
        "        return B\n",
        "\n",
        "    def brill(j,x):\n",
        "        temp=(2*j+1.0)/2/j\n",
        "        if x==0:\n",
        "            Br=0.0\n",
        "        else:\n",
        "            Br=temp/np.tanh(temp*x)-1.0/np.tanh(x/2/j)/2/j\n",
        "        return Br\n",
        "\n",
        "    def Intensity(T,p):\n",
        "        Tn,Jt,Nf,Bk=p\n",
        "        br=OrderMethods.brill(Jt,OrderMethods.bsol(T,p))\n",
        "        bout=Bk+Nf*br**2\n",
        "        return bout\n",
        "\n",
        "    def orderparameter(T, Tn, Jt, Nf, Bk):\n",
        "        p=[Tn, Jt, Nf, Bk]\n",
        "        I=[]\n",
        "        for t in T:\n",
        "            I.append(OrderMethods.Intensity(t,p))\n",
        "        return np.array(I)\n",
        "\n",
        "    def fit(model):\n",
        "        problem = FitProblem(model)\n",
        "        result = fitters.fit(problem, method='lm')\n",
        "        for p, v in zip(problem._parameters, result.dx):\n",
        "            p.dx = v\n",
        "        return result.x, result.dx, problem.chisq(), problem._parameters\n",
        "        "
      ],
      "execution_count": null,
      "outputs": []
    },
    {
      "cell_type": "markdown",
      "metadata": {
        "id": "O0brrG7g3dih",
        "colab_type": "text"
      },
      "source": [
        "Execute main class."
      ]
    },
    {
      "cell_type": "code",
      "metadata": {
        "id": "hFAYvmv4I6_F",
        "colab_type": "code",
        "colab": {}
      },
      "source": [
        "import sys\n",
        "import numpy as np\n",
        "import pylab as plt\n",
        "import scipy.optimize as optimize\n",
        "from bumps.names import *\n",
        "import bumps.fitters as fitters\n",
        "import gym.spaces as spaces\n",
        "import gym\n",
        "\n",
        "class OrderEnv(gym.Env): #add gym.env\n",
        "\n",
        "    def __init__(self):\n",
        "        self.reward_scale = 100\n",
        "        self.episodeNum = 0\n",
        "        self.steps = 0\n",
        "        self.T = np.array([])\n",
        "        self.startTn = 160\n",
        "        self.p = [.885,330,.3]\n",
        "        self.error = []\n",
        "        # self.M = Curve(orderparameter, T, I, error, Jt = self.p[0], Nf = self.p[1], Bk = self.p[2])\n",
        "        # self.M.Tn.range(self.startTn - 20 , self.startTn + 20)\n",
        "\n",
        "        self.observation_space = spaces.Box(low = np.array([3]), high = np.array([340]))\n",
        "        #self.action_space = spaces.Box(0, 337)\n",
        "        self.curTemp = 3\n",
        "        self.x = self.startTn\n",
        "\n",
        "        #logging arrays and vars\n",
        "        self.rewards = [] #interepisodic\n",
        "        self.chisqds = []\n",
        "        self.transTemps = []\n",
        "        self.totReward = 0 \n",
        "        self.info = {}     \n",
        "\n",
        "    def step(self, action): \n",
        "\n",
        "        print(\"stepping\")\n",
        "\n",
        "        self.curTemp += action\n",
        "        print(\"curtemp: \", self.curTemp)\n",
        "        self.curTemp = self.round_to(self.curTemp, 0.5)\n",
        "\n",
        "        self.steps += 1\n",
        "        reward = -self.reward_scale\n",
        "        self.T = np.append(self.T, self.curTemp)\n",
        "        print(\"Temperature: \", self.T)\n",
        "        \n",
        "        if self.steps > 1:\n",
        "            self.I = OrderMethods.getData(self.T, self.x, self.p)\n",
        "            print(\"Intensity: \", self.I)\n",
        "            self.error= np.sqrt(self.I)\n",
        "            M = Curve(OrderMethods.orderparameter, self.T, self.I, self.error, Jt = self.p[0], Nf = self.p[1], Bk = self.p[2])\n",
        "            M.Tn.range(self.x - 20 , self.x + 20)\n",
        "\n",
        "            self.x, dx, chisq, params = OrderMethods.fit(M)\n",
        "            self.x = self.x[0]\n",
        "\n",
        "            dx = params[0].dx\n",
        "\n",
        "            reward = 0\n",
        "\n",
        "            if chisq < 10:\n",
        "                reward += 1000\n",
        "\n",
        "                if dx < 2e-3:\n",
        "                    reward+=1/dx\n",
        "\n",
        "            self.chisqds.append(chisq)\n",
        "            self.transTemps.append(self.x)\n",
        "\n",
        "        self.totReward += reward\n",
        "        self.state = np.array([self.curTemp])\n",
        "        delta = abs(340 - curTemp)\n",
        "\n",
        "        if ((self.steps > 10 and chisq < 0.05) or delta < 0.5): #less than or equal to?\n",
        "            terminal = True\n",
        "            self.log()\n",
        "        elif (self.steps > 30):\n",
        "            terminal = True\n",
        "            self.log()\n",
        "        else:\n",
        "            terminal = False\n",
        "\n",
        "        return self.state, reward, terminal, self.info\n",
        "\n",
        "\n",
        "    def reset(self):\n",
        "        print(\"reset\")\n",
        "        self.steps = 0\n",
        "        self.T = np.array([])\n",
        "        self.I = []\n",
        "        self.chisqds = []\n",
        "        self.transTemps = []\n",
        "        self.totReward = 0\n",
        "        self.curTemp = 3\n",
        "        self.state = np.array([3])\n",
        "\n",
        "        return self.state #starting state\n",
        "\n",
        "    def log(self):\n",
        "        self.episodeNum += 1\n",
        "\n",
        "        filename = \"logs/chis/chiLog-\" + str(self.episodeNum) + \".txt\"\n",
        "        np.savetxt(filename, self.chisqds)\n",
        "\n",
        "        filename = \"logs/temps/tnLog-\" + str(self.episodeNum) + \".txt\"\n",
        "        np.savetxt(filename, self.transTemps)\n",
        "\n",
        "        self.rewards.append(self.totReward)\n",
        "        filename = \"logs/runrewards.txt\"\n",
        "        np.savetxt(filename, self.rewards)\n",
        "\n",
        "    @property\n",
        "    def action_space(self):\n",
        "        return spaces.Box(low = np.array([0]), high = np.array([340 - self.curTemp]))\n",
        "\n",
        "    def round_to(self, n, precision):\n",
        "        correction = 0.5 if n >= 0 else -0.5\n",
        "        return int( n/precision+correction ) * precision\n"
      ],
      "execution_count": 19,
      "outputs": []
    },
    {
      "cell_type": "code",
      "metadata": {
        "id": "cwwovwfwMiFL",
        "colab_type": "code",
        "colab": {
          "base_uri": "https://localhost:8080/",
          "height": 1000
        },
        "outputId": "da49d83e-1c4a-4052-ebe1-3b1b89eb92e3"
      },
      "source": [
        "from stable_baselines.common.env_checker import check_env\n",
        "env = OrderEnv()\n",
        "# If the environment don't follow the interface, an error will be thrown\n",
        "check_env(env, warn=True)"
      ],
      "execution_count": null,
      "outputs": [
        {
          "output_type": "stream",
          "text": [
            "WARNING:tensorflow:\n",
            "The TensorFlow contrib module will not be included in TensorFlow 2.0.\n",
            "For more information, please see:\n",
            "  * https://github.com/tensorflow/community/blob/master/rfcs/20180907-contrib-sunset.md\n",
            "  * https://github.com/tensorflow/addons\n",
            "  * https://github.com/tensorflow/io (for I/O related ops)\n",
            "If you depend on functionality not listed there, please file an issue.\n",
            "\n"
          ],
          "name": "stdout"
        },
        {
          "output_type": "stream",
          "text": [
            "/usr/local/lib/python3.6/dist-packages/gym/logger.py:30: UserWarning: \u001b[33mWARN: Box bound precision lowered by casting to float32\u001b[0m\n",
            "  warnings.warn(colorize('%s: %s'%('WARN', msg % args), 'yellow'))\n",
            "/usr/local/lib/python3.6/dist-packages/stable_baselines/common/env_checker.py:210: UserWarning: We recommend you to use a symmetric and normalized Box action space (range=[-1, 1]) cf https://stable-baselines.readthedocs.io/en/master/guide/rl_tips.html\n",
            "  warnings.warn(\"We recommend you to use a symmetric and normalized Box action space (range=[-1, 1]) \"\n"
          ],
          "name": "stderr"
        },
        {
          "output_type": "stream",
          "text": [
            "reset\n",
            "stepping\n",
            "curtemp:  [76.566666]\n",
            "Temperature:  [76.5]\n",
            "stepping\n",
            "curtemp:  [77.46032]\n",
            "Temperature:  [76.5 77.5]\n",
            "Intensity:  [298.53607885 296.93147492]\n",
            "stepping\n",
            "curtemp:  [227.49098]\n",
            "Temperature:  [ 76.5  77.5 227.5]\n",
            "Intensity:  [298.53607885 296.93147492   0.3       ]\n",
            "stepping\n",
            "curtemp:  [305.25183]\n",
            "Temperature:  [ 76.5  77.5 227.5 305.5]\n",
            "Intensity:  [298.53607885 296.93147492   0.3          0.3       ]\n",
            "stepping\n",
            "curtemp:  [324.0914]\n",
            "Temperature:  [ 76.5  77.5 227.5 305.5 324. ]\n",
            "Intensity:  [298.53607885 296.93147492   0.3          0.3          0.3       ]\n",
            "stepping\n",
            "curtemp:  [330.63077]\n",
            "Temperature:  [ 76.5  77.5 227.5 305.5 324.  330.5]\n",
            "Intensity:  [278.53254427 276.1233568    0.3          0.3          0.3\n",
            "   0.3       ]\n",
            "stepping\n",
            "curtemp:  [337.94357]\n",
            "Temperature:  [ 76.5  77.5 227.5 305.5 324.  330.5 338. ]\n",
            "Intensity:  [278.53254427 276.1233568    0.3          0.3          0.3\n",
            "   0.3          0.3       ]\n",
            "stepping\n",
            "curtemp:  [339.47354]\n",
            "Temperature:  [ 76.5  77.5 227.5 305.5 324.  330.5 338.  339.5]\n",
            "Intensity:  [278.53254427 276.1233568    0.3          0.3          0.3\n",
            "   0.3          0.3          0.3       ]\n",
            "stepping\n",
            "curtemp:  [339.7114]\n",
            "Temperature:  [ 76.5  77.5 227.5 305.5 324.  330.5 338.  339.5 339.5]\n",
            "Intensity:  [278.53254427 276.1233568    0.3          0.3          0.3\n",
            "   0.3          0.3          0.3          0.3       ]\n",
            "stepping\n",
            "curtemp:  [339.85513]\n",
            "Temperature:  [ 76.5  77.5 227.5 305.5 324.  330.5 338.  339.5 339.5 340. ]\n",
            "Intensity:  [278.53254427 276.1233568    0.3          0.3          0.3\n",
            "   0.3          0.3          0.3          0.3          0.3       ]\n",
            "stepping\n",
            "curtemp:  [340.]\n",
            "Temperature:  [ 76.5  77.5 227.5 305.5 324.  330.5 338.  339.5 339.5 340.  340. ]\n",
            "Intensity:  [278.53254427 276.1233568    0.3          0.3          0.3\n",
            "   0.3          0.3          0.3          0.3          0.3\n",
            "   0.3       ]\n"
          ],
          "name": "stdout"
        }
      ]
    },
    {
      "cell_type": "code",
      "metadata": {
        "id": "PQfLBE28SNDr",
        "colab_type": "code",
        "colab": {
          "base_uri": "https://localhost:8080/",
          "height": 51
        },
        "outputId": "b8927114-d25d-400c-8f53-4b95dd1dcfa9"
      },
      "source": [
        "from stable_baselines import DQN, PPO2, A2C, ACKTR\n",
        "from stable_baselines.common.cmd_util import make_vec_env\n",
        "\n",
        "# Instantiate the env\n",
        "env = OrderEnv()\n",
        "# wrap it\n",
        "env = make_vec_env(lambda: env, n_envs=1) #retrieve?"
      ],
      "execution_count": null,
      "outputs": [
        {
          "output_type": "stream",
          "text": [
            "/usr/local/lib/python3.6/dist-packages/gym/logger.py:30: UserWarning: \u001b[33mWARN: Box bound precision lowered by casting to float32\u001b[0m\n",
            "  warnings.warn(colorize('%s: %s'%('WARN', msg % args), 'yellow'))\n"
          ],
          "name": "stderr"
        }
      ]
    },
    {
      "cell_type": "code",
      "metadata": {
        "id": "zRV4Q7FVUKB6",
        "colab_type": "code",
        "colab": {}
      },
      "source": [
        "# Train the agent\n",
        "model = A2C('MlpPolicy', env, verbose=1).learn(5000)"
      ],
      "execution_count": null,
      "outputs": []
    },
    {
      "cell_type": "code",
      "metadata": {
        "id": "BJbeiF0RUN-p",
        "colab_type": "code",
        "colab": {}
      },
      "source": [
        "# Test the trained agent\n",
        "obs = env.reset()\n",
        "n_steps = 20\n",
        "for step in range(n_steps):\n",
        "  action, _ = model.predict(obs, deterministic=True)\n",
        "  print(\"Step {}\".format(step + 1))\n",
        "  print(\"Action: \", action)\n",
        "  obs, reward, done, info = env.step(action)\n",
        "  print('obs=', obs, 'reward=', reward, 'done=', done)\n",
        "  env.render(mode='console')\n",
        "  if done:\n",
        "    # Note that the VecEnv resets automatically\n",
        "    # when a done signal is encountered\n",
        "    print(\"Goal reached!\", \"reward=\", reward)\n",
        "    break"
      ],
      "execution_count": null,
      "outputs": []
    },
    {
      "cell_type": "code",
      "metadata": {
        "id": "dpnILpJsBZxX",
        "colab_type": "code",
        "colab": {
          "base_uri": "https://localhost:8080/",
          "height": 817
        },
        "outputId": "2b5ea8cd-3ce0-4adb-9368-3e2eaab851ec"
      },
      "source": [
        "numTrials = 100\n",
        "\n",
        "endParams = [[] for i in range(numTrials)]\n",
        "data = [[] for i in range(numTrials)]\n",
        "chis = [[] for i in range(numTrials)]\n",
        "endtns = []\n",
        "imagestore = \"logs/\"\n",
        "logstore = \"logs/\"\n",
        "\n",
        "for i in range(1,numTrials+1):\n",
        "    data[i-1] = np.loadtxt(logstore +  \"temps/tnLog-\" + str(i) + \".txt\")\n",
        "    chis[i-1] = np.loadtxt(logstore + \"chis/chiLog-\" + str(i) + \".txt\")\n",
        "\n",
        "for i in range (1, len(data)): \n",
        "    plt.plot(data[i], label = str(i))\n",
        "    endtns.append(data[i][-1])\n",
        "plt.xlabel(\"measurement steps\")\n",
        "plt.ylabel(\"tn value\")\n",
        "plt.show()\n",
        "plt.savefig(imagestore + \"tns.png\")\n",
        "plt.close()\n",
        "\n",
        "for i in range (1, len(endtns)):\n",
        "    plt.plot(endtns[i], 'bo')\n",
        "    plt.xlabel(\"episodes\")\n",
        "    plt.ylabel(\"tn value\")\n",
        "plt.show()\n",
        "plt.savefig(imagestore + \"endtns.png\")\n",
        "plt.close()\n",
        "\n",
        "rewards = np.loadtxt('logs/runrewards.txt')\n",
        "plt.plot(rewards, 'ro')\n"
      ],
      "execution_count": 16,
      "outputs": [
        {
          "output_type": "display_data",
          "data": {
            "image/png": "[encoded data removed]",
            "text/plain": [
              "<Figure size 432x288 with 1 Axes>"
            ]
          },
          "metadata": {
            "tags": [],
            "needs_background": "light"
          }
        },
        {
          "output_type": "display_data",
          "data": {
            "image/png": "[encoded data removed]",
            "text/plain": [
              "<Figure size 432x288 with 1 Axes>"
            ]
          },
          "metadata": {
            "tags": [],
            "needs_background": "light"
          }
        },
        {
          "output_type": "execute_result",
          "data": {
            "text/plain": [
              "[<matplotlib.lines.Line2D at 0x7f4af2c3a160>]"
            ]
          },
          "metadata": {
            "tags": []
          },
          "execution_count": 16
        },
        {
          "output_type": "display_data",
          "data": {
            "image/png": "[encoded data removed]",
            "text/plain": [
              "<Figure size 432x288 with 1 Axes>"
            ]
          },
          "metadata": {
            "tags": [],
            "needs_background": "light"
          }
        }
      ]
    },
    {
      "cell_type": "code",
      "metadata": {
        "id": "MhZfeon4W_UG",
        "colab_type": "code",
        "colab": {
          "base_uri": "https://localhost:8080/",
          "height": 330
        },
        "outputId": "fb90de46-49e1-490c-8436-c75d2021e2c4"
      },
      "source": [
        "p=[.885,330,.3]\n",
        "T=np.arange(50, 300, 50)\n",
        "print(\"temperature: \", T)\n",
        "#T=N.arange(10,300,2)\n",
        "I=[]\n",
        "error = []\n",
        "\n",
        "I=OrderMethods.orderparameter(T, 160,p[0],p[1],p[2])\n",
        "print(\"Intensity: \", I)\n",
        "error= np.sqrt(I)\n",
        "#print(error)\n",
        "\n",
        "M = Curve(OrderMethods.orderparameter, T, I, error, Jt = p[0], Nf = p[1], Bk = p[2])\n",
        "M.Tn.range(10,400)\n",
        "\n",
        "x, dx, chisq, params = OrderMethods.fit(M)\n",
        "#print(x)\n",
        "\n",
        "fitI = OrderMethods.orderparameter(T, x, p[0],p[1],p[2])\n",
        "\n",
        "plt.errorbar(T, I, error)\n",
        "plt.plot(T, fitI,'ro', markersize = 2)\n",
        "plt.xlabel(\"Temperature\")\n",
        "plt.ylabel(\"Intensity\") \n",
        "plt.show()\n",
        "plt.savefig(\"test\")\n",
        "plt.close()"
      ],
      "execution_count": null,
      "outputs": [
        {
          "output_type": "stream",
          "text": [
            "temperature:  [ 50 100 150 200 250]\n",
            "Intensity:  [3.25537076e+02 2.48661702e+02 5.41124126e+01 3.00000000e-01\n",
            " 3.00000000e-01]\n"
          ],
          "name": "stdout"
        },
        {
          "output_type": "display_data",
          "data": {
            "image/png": "[encoded data removed]",
            "text/plain": [
              "<Figure size 432x288 with 1 Axes>"
            ]
          },
          "metadata": {
            "tags": [],
            "needs_background": "light"
          }
        }
      ]
    }
  ]
}