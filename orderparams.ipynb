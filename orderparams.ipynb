{
  "nbformat": 4,
  "nbformat_minor": 0,
  "metadata": {
    "colab": {
      "name": "orderparams.ipynb",
      "provenance": [],
      "collapsed_sections": [],
      "include_colab_link": true
    },
    "kernelspec": {
      "name": "python3",
      "display_name": "Python 3"
    }
  },
  "cells": [
    {
      "cell_type": "markdown",
      "metadata": {
        "id": "view-in-github",
        "colab_type": "text"
      },
      "source": [
        "<a href=\"https://colab.research.google.com/github/cyankaet/orderml/blob/master/orderparams.ipynb\" target=\"_parent\"><img src=\"https://colab.research.google.com/assets/colab-badge.svg\" alt=\"Open In Colab\"/></a>"
      ]
    },
    {
      "cell_type": "markdown",
      "metadata": {
        "id": "_YY9KAAEKgc-",
        "colab_type": "text"
      },
      "source": [
        "Don't remount unless necessary"
      ]
    },
    {
      "cell_type": "code",
      "metadata": {
        "id": "vhAwAv3mIqi6",
        "colab_type": "code",
        "colab": {
          "base_uri": "https://localhost:8080/",
          "height": 122
        },
        "outputId": "79d64ad4-95dd-41d0-b0f6-896a9578e174"
      },
      "source": [
        "from google.colab import drive\n",
        "drive.mount('/content/drive')"
      ],
      "execution_count": 7,
      "outputs": [
        {
          "output_type": "stream",
          "text": [
            "Go to this URL in a browser: https://accounts.google.com/o/oauth2/auth?client_id=947318989803-6bn6qk8qdgf4n4g3pfee6491hc0brc4i.apps.googleusercontent.com&redirect_uri=urn%3aietf%3awg%3aoauth%3a2.0%3aoob&response_type=code&scope=email%20https%3a%2f%2fwww.googleapis.com%2fauth%2fdocs.test%20https%3a%2f%2fwww.googleapis.com%2fauth%2fdrive%20https%3a%2f%2fwww.googleapis.com%2fauth%2fdrive.photos.readonly%20https%3a%2f%2fwww.googleapis.com%2fauth%2fpeopleapi.readonly\n",
            "\n",
            "Enter your authorization code:\n",
            "··········\n",
            "Mounted at /content/drive\n"
          ],
          "name": "stdout"
        }
      ]
    },
    {
      "cell_type": "code",
      "metadata": {
        "id": "n01CukBTI5ap",
        "colab_type": "code",
        "colab": {
          "base_uri": "https://localhost:8080/",
          "height": 34
        },
        "outputId": "04da93c4-4ce1-45bd-9516-5fdf9a17a3e1"
      },
      "source": [
        "cd /content/drive/My Drive/orderml"
      ],
      "execution_count": 18,
      "outputs": [
        {
          "output_type": "stream",
          "text": [
            "/content/drive/My Drive/orderml\n"
          ],
          "name": "stdout"
        }
      ]
    },
    {
      "cell_type": "markdown",
      "metadata": {
        "id": "WJAddrOsKy5p",
        "colab_type": "text"
      },
      "source": [
        "Any other drive folder is, hint, probably not the correct one! "
      ]
    },
    {
      "cell_type": "code",
      "metadata": {
        "id": "72eeojpzJ-4m",
        "colab_type": "code",
        "colab": {
          "base_uri": "https://localhost:8080/",
          "height": 34
        },
        "outputId": "eabe4bfb-f286-4ce8-ba2b-13877a0e6300"
      },
      "source": [
        "ls"
      ],
      "execution_count": 19,
      "outputs": [
        {
          "output_type": "stream",
          "text": [
            "problems.txt  TheGreatestTest.ipynb\n"
          ],
          "name": "stdout"
        }
      ]
    },
    {
      "cell_type": "code",
      "metadata": {
        "id": "nF-9KMOpKCAN",
        "colab_type": "code",
        "colab": {
          "base_uri": "https://localhost:8080/",
          "height": 34
        },
        "outputId": "fe0551ed-8a04-4757-ecc6-da3bc2911e3e"
      },
      "source": [
        "f = open('problems.txt', 'r')\n",
        "print(f.read())\n",
        "f.close()"
      ],
      "execution_count": 23,
      "outputs": [
        {
          "output_type": "stream",
          "text": [
            "perpetual problems have no perceived solutions\n"
          ],
          "name": "stdout"
        }
      ]
    },
    {
      "cell_type": "code",
      "metadata": {
        "id": "PKhzPyG4Wk3o",
        "colab_type": "code",
        "colab": {}
      },
      "source": [
        "import numpy as N\n",
        "import  pylab\n",
        "import scipy.optimize as optimize\n",
        " \n",
        " \n",
        "def bsol(temp,p):\n",
        "    Tn,Jt,Nf,Bk=p\n",
        "    t=4.0*(Jt/(Jt+1.0))*Tn/temp\n",
        "    #print t\n",
        "    if (Tn<=0) or (Jt<=0) or temp>=Tn:\n",
        "        xout=0.0\n",
        "    else:\n",
        "        xout=optimize.brentq(bfun,0.0,t,args=(temp,p),xtol=1e-6)\n",
        " \n",
        "    return xout\n",
        " \n",
        "def bfun(x,T,p):\n",
        "    Tn,Jt,Nf,Bk=p\n",
        "    if x==0.0:\n",
        "        B=-1.0#   /* so that it wont find solution at zero */\n",
        "    else:\n",
        "        B=(x-3*brill(Jt,x)*(Jt/(Jt+1))*(Tn/T))\n",
        "    return B\n",
        " \n",
        "def brill(j,x):\n",
        "    temp=(2*j+1.0)/2/j\n",
        "    if x==0:\n",
        "        Br=0.0\n",
        "    else:\n",
        "        Br=temp/N.tanh(temp*x)-1.0/N.tanh(x/2/j)/2/j\n",
        "    return Br\n",
        " \n",
        "def Intensity(T,p):\n",
        "    Tn,Jt,Nf,Bk=p\n",
        "    br=brill(Jt,bsol(T,p))\n",
        "    bout=Bk+Nf*br**2\n",
        "    return bout\n",
        " \n",
        "def orderparameter(p,T):\n",
        "    I=[]\n",
        "    for t in T:\n",
        "        I.append(Intensity(t,p))\n",
        "    return N.array(I)"
      ],
      "execution_count": 0,
      "outputs": []
    },
    {
      "cell_type": "code",
      "metadata": {
        "id": "MhZfeon4W_UG",
        "colab_type": "code",
        "outputId": "9a1be702-df91-461c-fd39-6f7fe8698655",
        "colab": {
          "base_uri": "https://localhost:8080/",
          "height": 265
        }
      },
      "source": [
        "if __name__=='__main__':\n",
        " \n",
        "    p=[50.0,0.5,100.0,0.0]\n",
        "    p=[243,.885,330,.3 ]\n",
        "    T=N.arange(300.0)\n",
        "    T=N.arange(10,300,2)\n",
        "    I=[]\n",
        "    M=[]\n",
        " \n",
        "    I=orderparameter(p,T)\n",
        " \n",
        "    if 1:\n",
        "        pylab.plot(T,I,'bo')\n",
        "        pylab.show()"
      ],
      "execution_count": 3,
      "outputs": [
        {
          "output_type": "display_data",
          "data": {
            "image/png": "[encoded data removed]",
            "text/plain": [
              "<Figure size 432x288 with 1 Axes>"
            ]
          },
          "metadata": {
            "tags": [],
            "needs_background": "light"
          }
        }
      ]
    }
  ]
}