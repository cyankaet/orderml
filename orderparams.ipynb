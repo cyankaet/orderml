{
  "nbformat": 4,
  "nbformat_minor": 0,
  "metadata": {
    "colab": {
      "name": "orderparams.ipynb",
      "provenance": [],
      "collapsed_sections": [],
      "include_colab_link": true
    },
    "kernelspec": {
      "name": "python3",
      "display_name": "Python 3"
    }
  },
  "cells": [
    {
      "cell_type": "markdown",
      "metadata": {
        "id": "view-in-github",
        "colab_type": "text"
      },
      "source": [
        "<a href=\"https://colab.research.google.com/github/cyankaet/orderml/blob/master/orderparams.ipynb\" target=\"_parent\"><img src=\"https://colab.research.google.com/assets/colab-badge.svg\" alt=\"Open In Colab\"/></a>"
      ]
    },
    {
      "cell_type": "markdown",
      "metadata": {
        "id": "_YY9KAAEKgc-",
        "colab_type": "text"
      },
      "source": [
        "Mount drive only when ls test fails\n"
      ]
    },
    {
      "cell_type": "code",
      "metadata": {
        "id": "vhAwAv3mIqi6",
        "colab_type": "code",
        "colab": {
          "base_uri": "https://localhost:8080/",
          "height": 122
        },
        "outputId": "43eec23a-8dfc-4460-847f-901a667d0c79"
      },
      "source": [
        "from google.colab import drive\n",
        "drive.mount('/content/drive')"
      ],
      "execution_count": null,
      "outputs": [
        {
          "output_type": "stream",
          "text": [
            "Go to this URL in a browser: https://accounts.google.com/o/oauth2/auth?client_id=947318989803-6bn6qk8qdgf4n4g3pfee6491hc0brc4i.apps.googleusercontent.com&redirect_uri=urn%3aietf%3awg%3aoauth%3a2.0%3aoob&response_type=code&scope=email%20https%3a%2f%2fwww.googleapis.com%2fauth%2fdocs.test%20https%3a%2f%2fwww.googleapis.com%2fauth%2fdrive%20https%3a%2f%2fwww.googleapis.com%2fauth%2fdrive.photos.readonly%20https%3a%2f%2fwww.googleapis.com%2fauth%2fpeopleapi.readonly\n",
            "\n",
            "Enter your authorization code:\n",
            "··········\n",
            "Mounted at /content/drive\n"
          ],
          "name": "stdout"
        }
      ]
    },
    {
      "cell_type": "code",
      "metadata": {
        "id": "n01CukBTI5ap",
        "colab_type": "code",
        "colab": {
          "base_uri": "https://localhost:8080/",
          "height": 34
        },
        "outputId": "6616af72-8cdd-4e5c-a61e-35c30f1470f5"
      },
      "source": [
        "cd /content/drive/My Drive/orderml"
      ],
      "execution_count": null,
      "outputs": [
        {
          "output_type": "stream",
          "text": [
            "/content/drive/My Drive/orderml\n"
          ],
          "name": "stdout"
        }
      ]
    },
    {
      "cell_type": "markdown",
      "metadata": {
        "id": "WJAddrOsKy5p",
        "colab_type": "text"
      },
      "source": [
        "Any other drive folder is, hint, probably not the correct one! Navigate to where your orderml folder is in your drive. This code should work for a top-level folder."
      ]
    },
    {
      "cell_type": "markdown",
      "metadata": {
        "id": "SzWecICK2xmS",
        "colab_type": "text"
      },
      "source": [
        "Check you're in the right folder. (\"ls test\")\n"
      ]
    },
    {
      "cell_type": "code",
      "metadata": {
        "id": "72eeojpzJ-4m",
        "colab_type": "code",
        "colab": {
          "base_uri": "https://localhost:8080/",
          "height": 34
        },
        "outputId": "5e569d7c-5181-48db-b5c5-82036a97267f"
      },
      "source": [
        "ls"
      ],
      "execution_count": null,
      "outputs": [
        {
          "output_type": "stream",
          "text": [
            "\u001b[0m\u001b[01;34mlogs\u001b[0m/  orderparams.ipynb  problems.txt  \u001b[01;34m__pycache__\u001b[0m/  test.png\n"
          ],
          "name": "stdout"
        }
      ]
    },
    {
      "cell_type": "markdown",
      "metadata": {
        "id": "lHYd9d6T3NJd",
        "colab_type": "text"
      },
      "source": [
        "Install non-default packages here."
      ]
    },
    {
      "cell_type": "code",
      "metadata": {
        "id": "1R8OvQpoJ3BD",
        "colab_type": "code",
        "colab": {
          "base_uri": "https://localhost:8080/",
          "height": 306
        },
        "outputId": "5959d2f0-b04c-4759-e904-58874be85452"
      },
      "source": [
        "!pip install bumps\n",
        "!pip install gym"
      ],
      "execution_count": null,
      "outputs": [
        {
          "output_type": "stream",
          "text": [
            "Collecting bumps\n",
            "\u001b[?25l  Downloading https://files.pythonhosted.org/packages/08/ec/a0f67cabd2c1b354382030c88b50b123b68c0bb8784726cae9171d6dead9/bumps-0.7.16.tar.gz (515kB)\n",
            "\u001b[K     |████████████████████████████████| 522kB 2.8MB/s \n",
            "\u001b[?25hRequirement already satisfied: six in /usr/local/lib/python3.6/dist-packages (from bumps) (1.12.0)\n",
            "Building wheels for collected packages: bumps\n",
            "  Building wheel for bumps (setup.py) ... \u001b[?25l\u001b[?25hdone\n",
            "  Created wheel for bumps: filename=bumps-0.7.16-cp36-none-any.whl size=546174 sha256=0c028fdb2cfe52b3db2beb6fad487ddeae7bc7a3f9448ff78d6555f7d6064a0b\n",
            "  Stored in directory: /root/.cache/pip/wheels/41/f7/17/a898c85754ad1c6d7de087e28809af7989b81f14f200547de3\n",
            "Successfully built bumps\n",
            "Installing collected packages: bumps\n",
            "Successfully installed bumps-0.7.16\n",
            "Requirement already satisfied: gym in /usr/local/lib/python3.6/dist-packages (0.17.2)\n",
            "Requirement already satisfied: scipy in /usr/local/lib/python3.6/dist-packages (from gym) (1.4.1)\n",
            "Requirement already satisfied: numpy>=1.10.4 in /usr/local/lib/python3.6/dist-packages (from gym) (1.18.5)\n",
            "Requirement already satisfied: cloudpickle<1.4.0,>=1.2.0 in /usr/local/lib/python3.6/dist-packages (from gym) (1.3.0)\n",
            "Requirement already satisfied: pyglet<=1.5.0,>=1.4.0 in /usr/local/lib/python3.6/dist-packages (from gym) (1.5.0)\n",
            "Requirement already satisfied: future in /usr/local/lib/python3.6/dist-packages (from pyglet<=1.5.0,>=1.4.0->gym) (0.16.0)\n"
          ],
          "name": "stdout"
        }
      ]
    },
    {
      "cell_type": "markdown",
      "metadata": {
        "id": "yEG6I1fe3Y3i",
        "colab_type": "text"
      },
      "source": [
        "\"Compile\" code."
      ]
    },
    {
      "cell_type": "code",
      "metadata": {
        "id": "PKhzPyG4Wk3o",
        "colab_type": "code",
        "colab": {}
      },
      "source": [
        "import sys\n",
        "import numpy as N\n",
        "import pylab as plt\n",
        "import scipy.optimize as optimize\n",
        "from bumps.names import *\n",
        "import bumps.fitters as fitters\n",
        "\n",
        " \n",
        "def bsol(temp,p):\n",
        "    Tn,Jt,Nf,Bk=p\n",
        "    t=4.0*(Jt/(Jt+1.0))*Tn/temp\n",
        "    #print t\n",
        "    if (Tn<=0) or (Jt<=0) or temp>=Tn:\n",
        "        xout=0.0\n",
        "    else:\n",
        "        xout=optimize.brentq(bfun,0.0,t,args=(temp,p),xtol=1e-6)\n",
        " \n",
        "    return xout\n",
        " \n",
        "def bfun(x,T,p):\n",
        "    Tn,Jt,Nf,Bk=p\n",
        "    if x==0.0:\n",
        "        B=-1.0 # so that it wont find solution at zero\n",
        "    else:\n",
        "        B=(x-3*brill(Jt,x)*(Jt/(Jt+1))*(Tn/T))\n",
        "    return B\n",
        " \n",
        "def brill(j,x):\n",
        "    temp=(2*j+1.0)/2/j\n",
        "    if x==0:\n",
        "        Br=0.0\n",
        "    else:\n",
        "        Br=temp/N.tanh(temp*x)-1.0/N.tanh(x/2/j)/2/j\n",
        "    return Br\n",
        " \n",
        "def Intensity(T,p):\n",
        "    Tn,Jt,Nf,Bk=p\n",
        "    br=brill(Jt,bsol(T,p))\n",
        "    bout=Bk+Nf*br**2\n",
        "    return bout\n",
        "\n",
        "def orderparameter(T, Tn, Jt, Nf, Bk):\n",
        "    p=[Tn, Jt, Nf, Bk]\n",
        "    I=[]\n",
        "    for t in T:\n",
        "        I.append(Intensity(t,p))\n",
        "    return N.array(I)\n",
        "\n",
        "def fit(model):\n",
        "    problem = FitProblem(model)\n",
        "    result = fitters.fit(problem, method='lm')\n",
        "    for p, v in zip(problem._parameters, result.dx):\n",
        "        p.dx = v\n",
        "    return result.x, result.dx, problem.chisq(), problem._parameters\n"
      ],
      "execution_count": null,
      "outputs": []
    },
    {
      "cell_type": "markdown",
      "metadata": {
        "id": "O0brrG7g3dih",
        "colab_type": "text"
      },
      "source": [
        "Execute main class."
      ]
    },
    {
      "cell_type": "code",
      "metadata": {
        "id": "MhZfeon4W_UG",
        "colab_type": "code",
        "colab": {
          "base_uri": "https://localhost:8080/",
          "height": 296
        },
        "outputId": "039fa842-5074-4c22-dc82-8955d1e2913b"
      },
      "source": [
        "if __name__=='__main__':\n",
        " \n",
        "    #p=[50.0,0.5,100.0,0.0]\n",
        "    p=[150,.885,330,.3 ]\n",
        "    #p = [300, .786, 150, .9]\n",
        "    T=N.arange(5,300.0,2)\n",
        "    #T=N.arange(10,300,2)\n",
        "    I=[]\n",
        "    error = []\n",
        "\n",
        "    I=orderparameter(T, p[0],p[1],p[2],p[3])\n",
        "    error= N.sqrt(I)\n",
        "    #print(error)\n",
        "    \n",
        "    M = Curve(orderparameter, T, I, error, Jt = p[1], Nf = p[2], Bk = p[3])\n",
        "    M.Tn.range(10,400)\n",
        "\n",
        "    x, dx, chisq, params = fit(M)\n",
        "    print(x)\n",
        "\n",
        "    fitI = orderparameter(T, x, p[1],p[2],p[3])\n",
        "\n",
        "    plt.errorbar(T, I, error)\n",
        "    plt.plot(T, fitI,'ro', markersize = 2)\n",
        "    plt.xlabel(\"Temperature\")\n",
        "    plt.ylabel(\"Intensity\") \n",
        "    plt.show()\n",
        "    plt.savefig(\"test\")\n",
        "    plt.close()"
      ],
      "execution_count": null,
      "outputs": [
        {
          "output_type": "stream",
          "text": [
            "[150.]\n"
          ],
          "name": "stdout"
        },
        {
          "output_type": "display_data",
          "data": {
            "image/png": "[encoded data removed]",
            "text/plain": [
              "<Figure size 432x288 with 1 Axes>"
            ]
          },
          "metadata": {
            "tags": [],
            "needs_background": "light"
          }
        }
      ]
    },
    {
      "cell_type": "code",
      "metadata": {
        "id": "hFAYvmv4I6_F",
        "colab_type": "code",
        "colab": {}
      },
      "source": [
        "import gym.spaces as spaces\n",
        "\n",
        "class OrderEnv(): #add gym.env\n",
        "\n",
        "    def __init__(self):\n",
        "        self.reward_scale = 100\n",
        "        self.episodeNum = 0\n",
        "        self.steps = 0\n",
        "        self.T = []\n",
        "        self.startTn = 160\n",
        "        self.p = [.885,330,.3]\n",
        "        # self.M = Curve(orderparameter, T, I, error, Jt = self.p[0], Nf = self.p[1], Bk = self.p[2])\n",
        "        # self.M.Tn.range(self.startTn - 20 , self.startTn + 20)\n",
        "\n",
        "        self.observation_space = spaces.Box(3, 340)\n",
        "        #self.action_space = spaces.Box(0, 337)\n",
        "        self.curTemp = 3\n",
        "        self.x = self.startTn\n",
        "\n",
        "        #logging arrays and vars\n",
        "        self.rewards = [] #interepisodic\n",
        "        self.chisqds = []\n",
        "        self.transTemps = []\n",
        "        self.totReward = 0      \n",
        "\n",
        "    def step(self, action): \n",
        "\n",
        "        self.curTemp += action\n",
        "        self.curTemp = round_to(self.curTemp, 0.5)\n",
        "\n",
        "        self.steps += 1\n",
        "        reward = -self.reward_scale\n",
        "\n",
        "        if self.steps > 1:\n",
        "            self.T.append(self.curTemp)\n",
        "            self.I = getData(self.T, self.x)\n",
        "            self.M = Curve(orderparameter, T, self.I, error, Jt = self.p[0], Nf = self.p[1], Bk = self.p[2])\n",
        "            self.M.Tn.range(self.x - 20 , self.x + 20)\n",
        "\n",
        "            self.x, dx, chisq, params = fit(self.M)\n",
        "\n",
        "            dx = params[0].dx\n",
        "\n",
        "            if chisq < 10:\n",
        "                reward += 1000\n",
        "\n",
        "                if dz < 2e-3:\n",
        "                    reward+=1/dz\n",
        "\n",
        "            self.chisqds.append(chisq)\n",
        "            self.transTemps.append(self.x)\n",
        "\n",
        "        self.totReward += reward\n",
        "\n",
        "        if (self.steps > 10 and chisq < 0.05):\n",
        "            terminal = True\n",
        "            self.log()\n",
        "        if (self.steps > 30):\n",
        "            terminal = True\n",
        "            self.log()\n",
        "        else:\n",
        "            terminal = False\n",
        "\n",
        "        return self.state, reward, terminal #missing state\n",
        "\n",
        "\n",
        "    def reset(self):\n",
        "        self.steps = 0\n",
        "        self.chisqds = []\n",
        "        self.transTemps = []\n",
        "        self.totReward = 0\n",
        "\n",
        "\n",
        "    def fit(model):\n",
        "        problem = FitProblem(model)\n",
        "        result = fitters.fit(problem, method='lm')\n",
        "        for p, v in zip(problem._parameters, result.dx):\n",
        "            p.dx = v\n",
        "        return result.x, result.dx, problem.chisq(), problem._parameters\n",
        "\n",
        "\n",
        "    def log(self): #not required but for us\n",
        "        self.episodeNum += 1\n",
        "\n",
        "        filename = \"logs/chis/chiLog-\" + str(self.episodeNum) + \".txt\"\n",
        "        np.savetxt(filename, self.chisds)\n",
        "\n",
        "        filename = \"logs/temps/tnLog-\" + str(self.episodeNum) + \".txt\"\n",
        "        np.savetxt(filename, self.transTemps)\n",
        "\n",
        "        self.rewards.append(self.totReward)\n",
        "        filename = \"logs/runrewards.txt\"\n",
        "        np.savetxt(filename, self.rewards)\n",
        "\n",
        "    @property\n",
        "    def action_space(self):\n",
        "        return spaces.Box(0, 340 - self.curTemp)\n",
        "\n",
        "    def round_to(n, precision):\n",
        "        correction = 0.5 if n >= 0 else -0.5\n",
        "        return int( n/precision+correction ) * precision\n",
        "\n",
        "    def getData(self, T, x, Jt = self.p[0], Nf = self.p[1], Bk = self.p[2]):\n",
        "        return orderparameter(T, x, Jt, Nf, Bk)"
      ],
      "execution_count": null,
      "outputs": []
    },
    {
      "cell_type": "code",
      "metadata": {
        "id": "EuhpoHfGZ-24",
        "colab_type": "code",
        "colab": {
          "base_uri": "https://localhost:8080/",
          "height": 34
        },
        "outputId": "196946d3-e2f5-412b-9faf-c4a62c0b46e0"
      },
      "source": [
        "def round_to(n, precision):\n",
        "    correction = 0.5 if n >= 0 else -0.5\n",
        "    return int( n/precision+correction ) * precision\n",
        "\n",
        "round_to(1.75, 0.5)"
      ],
      "execution_count": null,
      "outputs": [
        {
          "output_type": "execute_result",
          "data": {
            "text/plain": [
              "2.0"
            ]
          },
          "metadata": {
            "tags": []
          },
          "execution_count": 10
        }
      ]
    }
  ]
}