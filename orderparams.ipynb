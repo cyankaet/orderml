{
  "nbformat": 4,
  "nbformat_minor": 0,
  "metadata": {
    "colab": {
      "name": "orderparams.ipynb",
      "provenance": [],
      "collapsed_sections": [],
      "include_colab_link": true
    },
    "kernelspec": {
      "name": "python3",
      "display_name": "Python 3"
    }
  },
  "cells": [
    {
      "cell_type": "markdown",
      "metadata": {
        "id": "view-in-github",
        "colab_type": "text"
      },
      "source": [
        "<a href=\"https://colab.research.google.com/github/cyankaet/orderml/blob/master/orderparams.ipynb\" target=\"_parent\"><img src=\"https://colab.research.google.com/assets/colab-badge.svg\" alt=\"Open In Colab\"/></a>"
      ]
    },
    {
      "cell_type": "markdown",
      "metadata": {
        "id": "_YY9KAAEKgc-",
        "colab_type": "text"
      },
      "source": [
        "Mount drive only when ls test fails\n"
      ]
    },
    {
      "cell_type": "code",
      "metadata": {
        "id": "vhAwAv3mIqi6",
        "colab_type": "code",
        "outputId": "518f771c-1fb2-418b-8f29-6e0b03058a26",
        "colab": {
          "base_uri": "https://localhost:8080/",
          "height": 123
        }
      },
      "source": [
        "from google.colab import drive\n",
        "drive.mount('/content/drive')"
      ],
      "execution_count": 0,
      "outputs": [
        {
          "output_type": "stream",
          "text": [
            "Go to this URL in a browser: https://accounts.google.com/o/oauth2/auth?client_id=947318989803-6bn6qk8qdgf4n4g3pfee6491hc0brc4i.apps.googleusercontent.com&redirect_uri=urn%3aietf%3awg%3aoauth%3a2.0%3aoob&response_type=code&scope=email%20https%3a%2f%2fwww.googleapis.com%2fauth%2fdocs.test%20https%3a%2f%2fwww.googleapis.com%2fauth%2fdrive%20https%3a%2f%2fwww.googleapis.com%2fauth%2fdrive.photos.readonly%20https%3a%2f%2fwww.googleapis.com%2fauth%2fpeopleapi.readonly\n",
            "\n",
            "Enter your authorization code:\n",
            "··········\n",
            "Mounted at /content/drive\n"
          ],
          "name": "stdout"
        }
      ]
    },
    {
      "cell_type": "code",
      "metadata": {
        "id": "n01CukBTI5ap",
        "colab_type": "code",
        "outputId": "ef0e0c78-e6e3-47de-84b5-b7b577a57f06",
        "colab": {
          "base_uri": "https://localhost:8080/",
          "height": 34
        }
      },
      "source": [
        "cd /content/drive/My Drive/orderml"
      ],
      "execution_count": 0,
      "outputs": [
        {
          "output_type": "stream",
          "text": [
            "/content/drive/My Drive/orderml\n"
          ],
          "name": "stdout"
        }
      ]
    },
    {
      "cell_type": "markdown",
      "metadata": {
        "id": "WJAddrOsKy5p",
        "colab_type": "text"
      },
      "source": [
        "Any other drive folder is, hint, probably not the correct one! Navigate to where your orderml folder is in your drive. This code should work for a top-level folder."
      ]
    },
    {
      "cell_type": "markdown",
      "metadata": {
        "id": "SzWecICK2xmS",
        "colab_type": "text"
      },
      "source": [
        "Check you're in the right folder. (\"ls test\")\n"
      ]
    },
    {
      "cell_type": "code",
      "metadata": {
        "id": "72eeojpzJ-4m",
        "colab_type": "code",
        "outputId": "e1be6d6a-161d-404b-dc9a-487306a5d1f2",
        "colab": {
          "base_uri": "https://localhost:8080/",
          "height": 34
        }
      },
      "source": [
        "ls"
      ],
      "execution_count": 0,
      "outputs": [
        {
          "output_type": "stream",
          "text": [
            "orderparameter.py  orderparams.ipynb  problems.txt\n"
          ],
          "name": "stdout"
        }
      ]
    },
    {
      "cell_type": "code",
      "metadata": {
        "id": "PhY3jYgj6-eW",
        "colab_type": "code",
        "outputId": "852dd9e1-d16a-44e8-dde7-32b6f9786c8d",
        "colab": {
          "base_uri": "https://localhost:8080/",
          "height": 34
        }
      },
      "source": [
        "f = open('problems.txt', 'r')\n",
        "print(f.read())\n",
        "f.close()"
      ],
      "execution_count": 0,
      "outputs": [
        {
          "output_type": "stream",
          "text": [
            "perpetual problems have no perceived solutions\n"
          ],
          "name": "stdout"
        }
      ]
    },
    {
      "cell_type": "markdown",
      "metadata": {
        "id": "lHYd9d6T3NJd",
        "colab_type": "text"
      },
      "source": [
        "Install non-default packages here."
      ]
    },
    {
      "cell_type": "code",
      "metadata": {
        "id": "1R8OvQpoJ3BD",
        "colab_type": "code",
        "outputId": "a5ae3d8f-65b4-4828-8324-06cddd1138a9",
        "colab": {
          "base_uri": "https://localhost:8080/",
          "height": 207
        }
      },
      "source": [
        "!pip install bumps"
      ],
      "execution_count": 0,
      "outputs": [
        {
          "output_type": "stream",
          "text": [
            "Collecting bumps\n",
            "\u001b[?25l  Downloading https://files.pythonhosted.org/packages/08/ec/a0f67cabd2c1b354382030c88b50b123b68c0bb8784726cae9171d6dead9/bumps-0.7.16.tar.gz (515kB)\n",
            "\r\u001b[K     |▋                               | 10kB 14.8MB/s eta 0:00:01\r\u001b[K     |█▎                              | 20kB 3.1MB/s eta 0:00:01\r\u001b[K     |██                              | 30kB 3.9MB/s eta 0:00:01\r\u001b[K     |██▌                             | 40kB 4.2MB/s eta 0:00:01\r\u001b[K     |███▏                            | 51kB 3.6MB/s eta 0:00:01\r\u001b[K     |███▉                            | 61kB 4.0MB/s eta 0:00:01\r\u001b[K     |████▌                           | 71kB 4.3MB/s eta 0:00:01\r\u001b[K     |█████                           | 81kB 4.6MB/s eta 0:00:01\r\u001b[K     |█████▊                          | 92kB 5.1MB/s eta 0:00:01\r\u001b[K     |██████▍                         | 102kB 4.8MB/s eta 0:00:01\r\u001b[K     |███████                         | 112kB 4.8MB/s eta 0:00:01\r\u001b[K     |███████▋                        | 122kB 4.8MB/s eta 0:00:01\r\u001b[K     |████████▎                       | 133kB 4.8MB/s eta 0:00:01\r\u001b[K     |█████████                       | 143kB 4.8MB/s eta 0:00:01\r\u001b[K     |█████████▌                      | 153kB 4.8MB/s eta 0:00:01\r\u001b[K     |██████████▏                     | 163kB 4.8MB/s eta 0:00:01\r\u001b[K     |██████████▉                     | 174kB 4.8MB/s eta 0:00:01\r\u001b[K     |███████████▍                    | 184kB 4.8MB/s eta 0:00:01\r\u001b[K     |████████████                    | 194kB 4.8MB/s eta 0:00:01\r\u001b[K     |████████████▊                   | 204kB 4.8MB/s eta 0:00:01\r\u001b[K     |█████████████▍                  | 215kB 4.8MB/s eta 0:00:01\r\u001b[K     |██████████████                  | 225kB 4.8MB/s eta 0:00:01\r\u001b[K     |██████████████▋                 | 235kB 4.8MB/s eta 0:00:01\r\u001b[K     |███████████████▎                | 245kB 4.8MB/s eta 0:00:01\r\u001b[K     |███████████████▉                | 256kB 4.8MB/s eta 0:00:01\r\u001b[K     |████████████████▌               | 266kB 4.8MB/s eta 0:00:01\r\u001b[K     |█████████████████▏              | 276kB 4.8MB/s eta 0:00:01\r\u001b[K     |█████████████████▉              | 286kB 4.8MB/s eta 0:00:01\r\u001b[K     |██████████████████▍             | 296kB 4.8MB/s eta 0:00:01\r\u001b[K     |███████████████████             | 307kB 4.8MB/s eta 0:00:01\r\u001b[K     |███████████████████▊            | 317kB 4.8MB/s eta 0:00:01\r\u001b[K     |████████████████████▎           | 327kB 4.8MB/s eta 0:00:01\r\u001b[K     |█████████████████████           | 337kB 4.8MB/s eta 0:00:01\r\u001b[K     |█████████████████████▋          | 348kB 4.8MB/s eta 0:00:01\r\u001b[K     |██████████████████████▎         | 358kB 4.8MB/s eta 0:00:01\r\u001b[K     |██████████████████████▉         | 368kB 4.8MB/s eta 0:00:01\r\u001b[K     |███████████████████████▌        | 378kB 4.8MB/s eta 0:00:01\r\u001b[K     |████████████████████████▏       | 389kB 4.8MB/s eta 0:00:01\r\u001b[K     |████████████████████████▊       | 399kB 4.8MB/s eta 0:00:01\r\u001b[K     |█████████████████████████▍      | 409kB 4.8MB/s eta 0:00:01\r\u001b[K     |██████████████████████████      | 419kB 4.8MB/s eta 0:00:01\r\u001b[K     |██████████████████████████▊     | 430kB 4.8MB/s eta 0:00:01\r\u001b[K     |███████████████████████████▎    | 440kB 4.8MB/s eta 0:00:01\r\u001b[K     |████████████████████████████    | 450kB 4.8MB/s eta 0:00:01\r\u001b[K     |████████████████████████████▋   | 460kB 4.8MB/s eta 0:00:01\r\u001b[K     |█████████████████████████████▏  | 471kB 4.8MB/s eta 0:00:01\r\u001b[K     |█████████████████████████████▉  | 481kB 4.8MB/s eta 0:00:01\r\u001b[K     |██████████████████████████████▌ | 491kB 4.8MB/s eta 0:00:01\r\u001b[K     |███████████████████████████████▏| 501kB 4.8MB/s eta 0:00:01\r\u001b[K     |███████████████████████████████▊| 512kB 4.8MB/s eta 0:00:01\r\u001b[K     |████████████████████████████████| 522kB 4.8MB/s \n",
            "\u001b[?25hRequirement already satisfied: six in /usr/local/lib/python3.6/dist-packages (from bumps) (1.12.0)\n",
            "Building wheels for collected packages: bumps\n",
            "  Building wheel for bumps (setup.py) ... \u001b[?25l\u001b[?25hdone\n",
            "  Created wheel for bumps: filename=bumps-0.7.16-cp36-none-any.whl size=546174 sha256=2e0afd46b31fcd8a594eb7fc2cd0b283d9ede23bb69ee6eb0cd38e3237fd63a3\n",
            "  Stored in directory: /root/.cache/pip/wheels/41/f7/17/a898c85754ad1c6d7de087e28809af7989b81f14f200547de3\n",
            "Successfully built bumps\n",
            "Installing collected packages: bumps\n",
            "Successfully installed bumps-0.7.16\n"
          ],
          "name": "stdout"
        }
      ]
    },
    {
      "cell_type": "markdown",
      "metadata": {
        "id": "yEG6I1fe3Y3i",
        "colab_type": "text"
      },
      "source": [
        "\"Compile\" code."
      ]
    },
    {
      "cell_type": "code",
      "metadata": {
        "id": "PKhzPyG4Wk3o",
        "colab_type": "code",
        "colab": {}
      },
      "source": [
        "import sys\n",
        "import numpy as N\n",
        "import pylab\n",
        "import scipy.optimize as optimize\n",
        "from bumps.names import *\n",
        "import bumps.fitters as fitters\n",
        "\n",
        " \n",
        "def bsol(temp,p):\n",
        "    Tn,Jt,Nf,Bk=p\n",
        "    t=4.0*(Jt/(Jt+1.0))*Tn/temp\n",
        "    #print t\n",
        "    if (Tn<=0) or (Jt<=0) or temp>=Tn:\n",
        "        xout=0.0\n",
        "    else:\n",
        "        xout=optimize.brentq(bfun,0.0,t,args=(temp,p),xtol=1e-6)\n",
        " \n",
        "    return xout\n",
        " \n",
        "def bfun(x,T,p):\n",
        "    Tn,Jt,Nf,Bk=p\n",
        "    if x==0.0:\n",
        "        B=-1.0 # so that it wont find solution at zero\n",
        "    else:\n",
        "        B=(x-3*brill(Jt,x)*(Jt/(Jt+1))*(Tn/T))\n",
        "    return B\n",
        " \n",
        "def brill(j,x):\n",
        "    temp=(2*j+1.0)/2/j\n",
        "    if x==0:\n",
        "        Br=0.0\n",
        "    else:\n",
        "        Br=temp/N.tanh(temp*x)-1.0/N.tanh(x/2/j)/2/j\n",
        "    return Br\n",
        " \n",
        "def Intensity(T,p):\n",
        "    Tn,Jt,Nf,Bk=p\n",
        "    br=brill(Jt,bsol(T,p))\n",
        "    bout=Bk+Nf*br**2\n",
        "    return bout\n",
        "\n",
        "def orderparameter(T, Tn, Jt, Nf, Bk):\n",
        "    p=[Tn, Jt, Nf, Bk]\n",
        "    I=[]\n",
        "    for t in T:\n",
        "        I.append(Intensity(t,p))\n",
        "    return N.array(I)\n",
        "\n",
        "def fit(model):\n",
        "    problem = FitProblem(model)\n",
        "    result = fitters.fit(problem, method='lm')\n",
        "    for p, v in zip(problem._parameters, result.dx):\n",
        "        p.dx = v\n",
        "    return result.x, result.dx, problem.chisq(), problem._parameters"
      ],
      "execution_count": 0,
      "outputs": []
    },
    {
      "cell_type": "markdown",
      "metadata": {
        "id": "O0brrG7g3dih",
        "colab_type": "text"
      },
      "source": [
        "Execute main class."
      ]
    },
    {
      "cell_type": "code",
      "metadata": {
        "id": "MhZfeon4W_UG",
        "colab_type": "code",
        "outputId": "a07641df-6c8a-4d6e-cbdf-9ee3b7ae91f8",
        "colab": {
          "base_uri": "https://localhost:8080/",
          "height": 299
        }
      },
      "source": [
        "if __name__=='__main__':\n",
        " \n",
        "    #p=[50.0,0.5,100.0,0.0]\n",
        "    p=[243,.885,330,.3 ]\n",
        "    #p = [300, .786, 150, .9]\n",
        "    T=N.arange(0.0001,300.0,2)\n",
        "    #T=N.arange(10,300,2)\n",
        "    I=[]\n",
        "    error = []\n",
        "\n",
        "    I=orderparameter(T, p[0],p[1],p[2],p[3])\n",
        "    error= N.sqrt(I)\n",
        "    #print(error)\n",
        "    \n",
        "    M = Curve(orderparameter, T, I, error, Jt = p[1], Nf = p[2], Bk = p[3])\n",
        "    M.Tn.range(10,600)\n",
        "\n",
        "    x, dx, chisq, params = fit(M)\n",
        "    print(x)\n",
        "    print(params)\n",
        "\n",
        "    fitI = orderparameter(T, x, p[1],p[2],p[3])\n",
        "\n",
        "    pylab.errorbar(T, I, error)\n",
        "    pylab.plot(T, fitI,'ro', markersize = 2)\n",
        "    pylab.show()"
      ],
      "execution_count": 0,
      "outputs": [
        {
          "output_type": "stream",
          "text": [
            "[243.]\n",
            "[Parameter(Tn)]\n"
          ],
          "name": "stdout"
        },
        {
          "output_type": "display_data",
          "data": {
            "image/png": "[encoded data removed]",
            "text/plain": [
              "<Figure size 432x288 with 1 Axes>"
            ]
          },
          "metadata": {
            "tags": [],
            "needs_background": "light"
          }
        }
      ]
    },
    {
      "cell_type": "code",
      "metadata": {
        "id": "hFAYvmv4I6_F",
        "colab_type": "code",
        "colab": {}
      },
      "source": [
        ""
      ],
      "execution_count": 0,
      "outputs": []
    }
  ]
}