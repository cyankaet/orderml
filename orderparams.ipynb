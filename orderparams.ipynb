{
  "nbformat": 4,
  "nbformat_minor": 0,
  "metadata": {
    "colab": {
      "name": "orderparams.ipynb",
      "provenance": [],
      "collapsed_sections": [],
      "include_colab_link": true
    },
    "kernelspec": {
      "name": "python3",
      "display_name": "Python 3"
    }
  },
  "cells": [
    {
      "cell_type": "markdown",
      "metadata": {
        "id": "view-in-github",
        "colab_type": "text"
      },
      "source": [
        "<a href=\"https://colab.research.google.com/github/cyankaet/orderml/blob/master/orderparams.ipynb\" target=\"_parent\"><img src=\"https://colab.research.google.com/assets/colab-badge.svg\" alt=\"Open In Colab\"/></a>"
      ]
    },
    {
      "cell_type": "code",
      "metadata": {
        "id": "vhAwAv3mIqi6",
        "colab_type": "code",
        "colab": {
          "base_uri": "https://localhost:8080/",
          "height": 121
        },
        "outputId": "d33c9290-9838-49e3-ed03-29067784aa10"
      },
      "source": [
        "from google.colab import drive\n",
        "drive.mount('/content/drive')"
      ],
      "execution_count": 1,
      "outputs": [
        {
          "output_type": "stream",
          "text": [
            "Go to this URL in a browser: https://accounts.google.com/o/oauth2/auth?client_id=947318989803-6bn6qk8qdgf4n4g3pfee6491hc0brc4i.apps.googleusercontent.com&redirect_uri=urn%3aietf%3awg%3aoauth%3a2.0%3aoob&response_type=code&scope=email%20https%3a%2f%2fwww.googleapis.com%2fauth%2fdocs.test%20https%3a%2f%2fwww.googleapis.com%2fauth%2fdrive%20https%3a%2f%2fwww.googleapis.com%2fauth%2fdrive.photos.readonly%20https%3a%2f%2fwww.googleapis.com%2fauth%2fpeopleapi.readonly\n",
            "\n",
            "Enter your authorization code:\n",
            "··········\n",
            "Mounted at /content/drive\n"
          ],
          "name": "stdout"
        }
      ]
    },
    {
      "cell_type": "code",
      "metadata": {
        "id": "n01CukBTI5ap",
        "colab_type": "code",
        "colab": {
          "base_uri": "https://localhost:8080/",
          "height": 34
        },
        "outputId": "7f14f5b2-df2f-4a48-b09b-d94b171aafaf"
      },
      "source": [
        "cd /content/drive/My Drive/orderml"
      ],
      "execution_count": 2,
      "outputs": [
        {
          "output_type": "stream",
          "text": [
            "/content/drive/My Drive/orderml\n"
          ],
          "name": "stdout"
        }
      ]
    },
    {
      "cell_type": "markdown",
      "metadata": {
        "id": "WJAddrOsKy5p",
        "colab_type": "text"
      },
      "source": [
        "Any other drive folder is, hint, probably not the correct one! Navigate to where your orderml folder is in your drive. This code should work for a top-level folder."
      ]
    },
    {
      "cell_type": "markdown",
      "metadata": {
        "id": "SzWecICK2xmS",
        "colab_type": "text"
      },
      "source": [
        "Check you're in the right folder.\n",
        "\n"
      ]
    },
    {
      "cell_type": "code",
      "metadata": {
        "id": "72eeojpzJ-4m",
        "colab_type": "code",
        "colab": {
          "base_uri": "https://localhost:8080/",
          "height": 34
        },
        "outputId": "ff36ad16-e83f-4e9e-d5d4-c8b7408d730c"
      },
      "source": [
        "ls"
      ],
      "execution_count": null,
      "outputs": [
        {
          "output_type": "stream",
          "text": [
            "\u001b[0m\u001b[01;34mlogs\u001b[0m/  \u001b[01;34mmodels\u001b[0m/  orderparams.ipynb  OrderPresentation.gslides\n"
          ],
          "name": "stdout"
        }
      ]
    },
    {
      "cell_type": "markdown",
      "metadata": {
        "id": "lHYd9d6T3NJd",
        "colab_type": "text"
      },
      "source": [
        "Install non-default packages here."
      ]
    },
    {
      "cell_type": "code",
      "metadata": {
        "id": "1R8OvQpoJ3BD",
        "colab_type": "code",
        "colab": {
          "base_uri": "https://localhost:8080/",
          "height": 793
        },
        "outputId": "b2a65bc2-6276-4a56-8687-e76d12ed15aa"
      },
      "source": [
        "!pip install bumps\n",
        "!pip install gym\n",
        "%tensorflow_version 1.x\n",
        "!pip install stable-baselines[mpi]==2.10.0"
      ],
      "execution_count": 3,
      "outputs": [
        {
          "output_type": "stream",
          "text": [
            "Collecting bumps\n",
            "\u001b[?25l  Downloading https://files.pythonhosted.org/packages/08/ec/a0f67cabd2c1b354382030c88b50b123b68c0bb8784726cae9171d6dead9/bumps-0.7.16.tar.gz (515kB)\n",
            "\r\u001b[K     |▋                               | 10kB 18.3MB/s eta 0:00:01\r\u001b[K     |█▎                              | 20kB 1.7MB/s eta 0:00:01\r\u001b[K     |██                              | 30kB 2.2MB/s eta 0:00:01\r\u001b[K     |██▌                             | 40kB 2.5MB/s eta 0:00:01\r\u001b[K     |███▏                            | 51kB 2.0MB/s eta 0:00:01\r\u001b[K     |███▉                            | 61kB 2.2MB/s eta 0:00:01\r\u001b[K     |████▌                           | 71kB 2.4MB/s eta 0:00:01\r\u001b[K     |█████                           | 81kB 2.7MB/s eta 0:00:01\r\u001b[K     |█████▊                          | 92kB 2.9MB/s eta 0:00:01\r\u001b[K     |██████▍                         | 102kB 2.8MB/s eta 0:00:01\r\u001b[K     |███████                         | 112kB 2.8MB/s eta 0:00:01\r\u001b[K     |███████▋                        | 122kB 2.8MB/s eta 0:00:01\r\u001b[K     |████████▎                       | 133kB 2.8MB/s eta 0:00:01\r\u001b[K     |█████████                       | 143kB 2.8MB/s eta 0:00:01\r\u001b[K     |█████████▌                      | 153kB 2.8MB/s eta 0:00:01\r\u001b[K     |██████████▏                     | 163kB 2.8MB/s eta 0:00:01\r\u001b[K     |██████████▉                     | 174kB 2.8MB/s eta 0:00:01\r\u001b[K     |███████████▍                    | 184kB 2.8MB/s eta 0:00:01\r\u001b[K     |████████████                    | 194kB 2.8MB/s eta 0:00:01\r\u001b[K     |████████████▊                   | 204kB 2.8MB/s eta 0:00:01\r\u001b[K     |█████████████▍                  | 215kB 2.8MB/s eta 0:00:01\r\u001b[K     |██████████████                  | 225kB 2.8MB/s eta 0:00:01\r\u001b[K     |██████████████▋                 | 235kB 2.8MB/s eta 0:00:01\r\u001b[K     |███████████████▎                | 245kB 2.8MB/s eta 0:00:01\r\u001b[K     |███████████████▉                | 256kB 2.8MB/s eta 0:00:01\r\u001b[K     |████████████████▌               | 266kB 2.8MB/s eta 0:00:01\r\u001b[K     |█████████████████▏              | 276kB 2.8MB/s eta 0:00:01\r\u001b[K     |█████████████████▉              | 286kB 2.8MB/s eta 0:00:01\r\u001b[K     |██████████████████▍             | 296kB 2.8MB/s eta 0:00:01\r\u001b[K     |███████████████████             | 307kB 2.8MB/s eta 0:00:01\r\u001b[K     |███████████████████▊            | 317kB 2.8MB/s eta 0:00:01\r\u001b[K     |████████████████████▎           | 327kB 2.8MB/s eta 0:00:01\r\u001b[K     |█████████████████████           | 337kB 2.8MB/s eta 0:00:01\r\u001b[K     |█████████████████████▋          | 348kB 2.8MB/s eta 0:00:01\r\u001b[K     |██████████████████████▎         | 358kB 2.8MB/s eta 0:00:01\r\u001b[K     |██████████████████████▉         | 368kB 2.8MB/s eta 0:00:01\r\u001b[K     |███████████████████████▌        | 378kB 2.8MB/s eta 0:00:01\r\u001b[K     |████████████████████████▏       | 389kB 2.8MB/s eta 0:00:01\r\u001b[K     |████████████████████████▊       | 399kB 2.8MB/s eta 0:00:01\r\u001b[K     |█████████████████████████▍      | 409kB 2.8MB/s eta 0:00:01\r\u001b[K     |██████████████████████████      | 419kB 2.8MB/s eta 0:00:01\r\u001b[K     |██████████████████████████▊     | 430kB 2.8MB/s eta 0:00:01\r\u001b[K     |███████████████████████████▎    | 440kB 2.8MB/s eta 0:00:01\r\u001b[K     |████████████████████████████    | 450kB 2.8MB/s eta 0:00:01\r\u001b[K     |████████████████████████████▋   | 460kB 2.8MB/s eta 0:00:01\r\u001b[K     |█████████████████████████████▏  | 471kB 2.8MB/s eta 0:00:01\r\u001b[K     |█████████████████████████████▉  | 481kB 2.8MB/s eta 0:00:01\r\u001b[K     |██████████████████████████████▌ | 491kB 2.8MB/s eta 0:00:01\r\u001b[K     |███████████████████████████████▏| 501kB 2.8MB/s eta 0:00:01\r\u001b[K     |███████████████████████████████▊| 512kB 2.8MB/s eta 0:00:01\r\u001b[K     |████████████████████████████████| 522kB 2.8MB/s \n",
            "\u001b[?25hRequirement already satisfied: six in /usr/local/lib/python3.6/dist-packages (from bumps) (1.15.0)\n",
            "Building wheels for collected packages: bumps\n",
            "  Building wheel for bumps (setup.py) ... \u001b[?25l\u001b[?25hdone\n",
            "  Created wheel for bumps: filename=bumps-0.7.16-cp36-none-any.whl size=546174 sha256=86155fccefe512b390a7ff0f3bad442cb6c5b44ac6300ea99ed7351c89c3222e\n",
            "  Stored in directory: /root/.cache/pip/wheels/41/f7/17/a898c85754ad1c6d7de087e28809af7989b81f14f200547de3\n",
            "Successfully built bumps\n",
            "Installing collected packages: bumps\n",
            "Successfully installed bumps-0.7.16\n",
            "Requirement already satisfied: gym in /usr/local/lib/python3.6/dist-packages (0.17.2)\n",
            "Requirement already satisfied: pyglet<=1.5.0,>=1.4.0 in /usr/local/lib/python3.6/dist-packages (from gym) (1.5.0)\n",
            "Requirement already satisfied: numpy>=1.10.4 in /usr/local/lib/python3.6/dist-packages (from gym) (1.18.5)\n",
            "Requirement already satisfied: scipy in /usr/local/lib/python3.6/dist-packages (from gym) (1.4.1)\n",
            "Requirement already satisfied: cloudpickle<1.4.0,>=1.2.0 in /usr/local/lib/python3.6/dist-packages (from gym) (1.3.0)\n",
            "Requirement already satisfied: future in /usr/local/lib/python3.6/dist-packages (from pyglet<=1.5.0,>=1.4.0->gym) (0.16.0)\n",
            "TensorFlow 1.x selected.\n",
            "Collecting stable-baselines[mpi]==2.10.0\n",
            "\u001b[?25l  Downloading https://files.pythonhosted.org/packages/e5/fe/db8159d4d79109c6c8942abe77c7ba6b6e008c32ae55870a35e73fa10db3/stable_baselines-2.10.0-py3-none-any.whl (248kB)\n",
            "\u001b[K     |████████████████████████████████| 256kB 2.7MB/s \n",
            "\u001b[?25hRequirement already satisfied: matplotlib in /usr/local/lib/python3.6/dist-packages (from stable-baselines[mpi]==2.10.0) (3.2.2)\n",
            "Requirement already satisfied: pandas in /usr/local/lib/python3.6/dist-packages (from stable-baselines[mpi]==2.10.0) (1.0.5)\n",
            "Requirement already satisfied: joblib in /usr/local/lib/python3.6/dist-packages (from stable-baselines[mpi]==2.10.0) (0.16.0)\n",
            "Requirement already satisfied: opencv-python in /usr/local/lib/python3.6/dist-packages (from stable-baselines[mpi]==2.10.0) (4.1.2.30)\n",
            "Requirement already satisfied: cloudpickle>=0.5.5 in /usr/local/lib/python3.6/dist-packages (from stable-baselines[mpi]==2.10.0) (1.3.0)\n",
            "Requirement already satisfied: numpy in /usr/local/lib/python3.6/dist-packages (from stable-baselines[mpi]==2.10.0) (1.18.5)\n",
            "Requirement already satisfied: scipy in /usr/local/lib/python3.6/dist-packages (from stable-baselines[mpi]==2.10.0) (1.4.1)\n",
            "Requirement already satisfied: gym[atari,classic_control]>=0.11 in /usr/local/lib/python3.6/dist-packages (from stable-baselines[mpi]==2.10.0) (0.17.2)\n",
            "Requirement already satisfied: mpi4py; extra == \"mpi\" in /tensorflow-1.15.2/python3.6 (from stable-baselines[mpi]==2.10.0) (3.0.3)\n",
            "Requirement already satisfied: pyparsing!=2.0.4,!=2.1.2,!=2.1.6,>=2.0.1 in /usr/local/lib/python3.6/dist-packages (from matplotlib->stable-baselines[mpi]==2.10.0) (2.4.7)\n",
            "Requirement already satisfied: kiwisolver>=1.0.1 in /usr/local/lib/python3.6/dist-packages (from matplotlib->stable-baselines[mpi]==2.10.0) (1.2.0)\n",
            "Requirement already satisfied: python-dateutil>=2.1 in /usr/local/lib/python3.6/dist-packages (from matplotlib->stable-baselines[mpi]==2.10.0) (2.8.1)\n",
            "Requirement already satisfied: cycler>=0.10 in /usr/local/lib/python3.6/dist-packages (from matplotlib->stable-baselines[mpi]==2.10.0) (0.10.0)\n",
            "Requirement already satisfied: pytz>=2017.2 in /usr/local/lib/python3.6/dist-packages (from pandas->stable-baselines[mpi]==2.10.0) (2018.9)\n",
            "Requirement already satisfied: pyglet<=1.5.0,>=1.4.0 in /usr/local/lib/python3.6/dist-packages (from gym[atari,classic_control]>=0.11->stable-baselines[mpi]==2.10.0) (1.5.0)\n",
            "Requirement already satisfied: atari-py~=0.2.0; extra == \"atari\" in /usr/local/lib/python3.6/dist-packages (from gym[atari,classic_control]>=0.11->stable-baselines[mpi]==2.10.0) (0.2.6)\n",
            "Requirement already satisfied: Pillow; extra == \"atari\" in /usr/local/lib/python3.6/dist-packages (from gym[atari,classic_control]>=0.11->stable-baselines[mpi]==2.10.0) (7.0.0)\n",
            "Requirement already satisfied: six>=1.5 in /usr/local/lib/python3.6/dist-packages (from python-dateutil>=2.1->matplotlib->stable-baselines[mpi]==2.10.0) (1.15.0)\n",
            "Requirement already satisfied: future in /usr/local/lib/python3.6/dist-packages (from pyglet<=1.5.0,>=1.4.0->gym[atari,classic_control]>=0.11->stable-baselines[mpi]==2.10.0) (0.16.0)\n",
            "Installing collected packages: stable-baselines\n",
            "  Found existing installation: stable-baselines 2.2.1\n",
            "    Uninstalling stable-baselines-2.2.1:\n",
            "      Successfully uninstalled stable-baselines-2.2.1\n",
            "Successfully installed stable-baselines-2.10.0\n"
          ],
          "name": "stdout"
        }
      ]
    },
    {
      "cell_type": "markdown",
      "metadata": {
        "id": "yEG6I1fe3Y3i",
        "colab_type": "text"
      },
      "source": [
        "\"Compile\" important methods."
      ]
    },
    {
      "cell_type": "code",
      "metadata": {
        "id": "G0YgXQgt2ubR",
        "colab_type": "code",
        "colab": {}
      },
      "source": [
        "class OrderMethods():\n",
        "\n",
        "    def bsol(temp,p):\n",
        "        Tn,Jt,Nf,Bk=p\n",
        "        t=4.0*(Jt/(Jt+1.0))*Tn/temp\n",
        "        if (Tn<=0) or (Jt<=0) or temp>=Tn:\n",
        "            xout=0.0\n",
        "        else:\n",
        "            xout=optimize.brentq(OrderMethods.bfun,0.0,t,args=(temp,p),xtol=1e-6)\n",
        "\n",
        "        return xout\n",
        "\n",
        "\n",
        "    def bfun(x,T,p):\n",
        "        Tn,Jt,Nf,Bk=p\n",
        "        if x==0.0:\n",
        "            B=-1.0 # so that it wont find solution at zero\n",
        "        else:\n",
        "            B=(x-3*OrderMethods.brill(Jt,x)*(Jt/(Jt+1))*(Tn/T))\n",
        "        return B\n",
        "\n",
        "    def brill(j,x):\n",
        "        temp=(2*j+1.0)/2/j\n",
        "        if x==0:\n",
        "            Br=0.0\n",
        "        else:\n",
        "            Br=temp/np.tanh(temp*x)-1.0/np.tanh(x/2/j)/2/j\n",
        "        return Br\n",
        "\n",
        "    def Intensity(T,p):\n",
        "        Tn,Jt,Nf,Bk=p\n",
        "        br=OrderMethods.brill(Jt,OrderMethods.bsol(T,p))\n",
        "        bout=Bk+Nf*br**2\n",
        "        return bout\n",
        "\n",
        "    def orderparameter(T, Tn, Jt, Nf, Bk):\n",
        "        p=[Tn, Jt, Nf, Bk]\n",
        "        I=[]\n",
        "        for t in T:\n",
        "            I.append(OrderMethods.Intensity(t,p))\n",
        "        return np.array(I)\n",
        "\n",
        "    def fit(model):\n",
        "        nllfs = []\n",
        "        zin = []\n",
        "        for tns in np.arange(50,200, 5):\n",
        "            #print(\"zs\", zs)\n",
        "            model.Tn.value = tns\n",
        "            model.update()\n",
        "            schi=model.nllf()\n",
        "            nllfs.append(schi)\n",
        "            zin.append(tns)\n",
        "        plt.scatter(zin, nllfs)\n",
        "        plt.xlabel(\"tn in\")\n",
        "        plt.ylabel(\"chi\") \n",
        "        plt.show()\n",
        "        plt.close()\n",
        "\n",
        "        problem = FitProblem(model)\n",
        "        result = fitters.fit(problem, method='lm')\n",
        "        for p, v in zip(problem._parameters, result.dx):\n",
        "            p.dx = v\n",
        "        return result.x, result.dx, problem.chisq(), problem._parameters\n",
        "        "
      ],
      "execution_count": 9,
      "outputs": []
    },
    {
      "cell_type": "markdown",
      "metadata": {
        "id": "O0brrG7g3dih",
        "colab_type": "text"
      },
      "source": [
        "Execute main class."
      ]
    },
    {
      "cell_type": "code",
      "metadata": {
        "id": "hFAYvmv4I6_F",
        "colab_type": "code",
        "colab": {}
      },
      "source": [
        "import sys\n",
        "import numpy as np\n",
        "import pylab as plt\n",
        "import scipy.optimize as optimize\n",
        "from bumps.names import *\n",
        "import bumps.fitters as fitters\n",
        "import gym.spaces as spaces\n",
        "import gym\n",
        "\n",
        "class OrderEnv(gym.Env):\n",
        "\n",
        "    def __init__(self):\n",
        "        self.reward_scale = 100\n",
        "        self.episodeNum = 0\n",
        "        self.steps = 0\n",
        "        self.T = np.array([])\n",
        "        self.Bk = .3\n",
        "        self.error = []\n",
        "\n",
        "        self.fixedTn = 160\n",
        "        self.fixedNf = 330\n",
        "        self.fixedJt = .885\n",
        "\n",
        "        # self.observation_space = spaces.Box(low = np.array([3]), high = np.array([340]))\n",
        "        # self.action_space = spaces.Box(low = np.array([3]), high = np.array([340]))\n",
        "        self.action_space = spaces.Discrete(7)\n",
        "        self.action_options = [1, 5, 10, 15, 20, 25, 30]\n",
        "        self.curTemp = 3\n",
        "        self.x = 150 #startTn value\n",
        "\n",
        "        #logging arrays and vars\n",
        "        self.rewards = [] #interepisodic\n",
        "        self.chisqds = []\n",
        "        self.transTemps = []\n",
        "        self.Jts = []\n",
        "        self.Nfs = []\n",
        "        self.totReward = 0 \n",
        "        self.info = {}     \n",
        "\n",
        "    def step(self, action): \n",
        "        \n",
        "        print(\"stepping: \", self.episodeNum)\n",
        "        print(\"ACTION            : \", action)\n",
        "\n",
        "        self.curTemp += self.action_options[action]\n",
        "        #self.curTemp = action\n",
        "        self.curTemp = self.round_to(self.curTemp, 0.5)\n",
        "        print(\"curtemp: \", self.curTemp)\n",
        "\n",
        "        self.steps += 1\n",
        "        reward = -self.reward_scale\n",
        "        self.T = np.append(self.T, self.curTemp)\n",
        "        print(\"Temperature: \", self.T)\n",
        "        \n",
        "        if self.steps > 3:\n",
        "            self.I = self.getData(self.T, self.Bk)\n",
        "            #self.I = OrderMethods.getData(self.T, self.Bk)\n",
        "            print(\"Intensity: \", self.I)\n",
        "            self.error= np.sqrt(self.I)\n",
        "            M = Curve(OrderMethods.orderparameter, self.T, self.I, self.error, Tn = 200 Jt = .2, Nf = 216, Bk = self.Bk)\n",
        "            M.Tn.range(10, 400)\n",
        "            M.Jt.range(0.4, 2)\n",
        "            M.Nf.range(100,500)\n",
        "\n",
        "            #this is all for the chi surface graph\n",
        "            # Mcopy = Curve(OrderMethods.orderparameter, self.T, self.I, self.error, Jt = .2, Nf = 216, Bk = self.Bk)\n",
        "            # Mcopy.Tn.range(10, 400)\n",
        "            # Mcopy.Jt.range(0.4, 2)\n",
        "            # Mcopy.Nf.range(100,500)\n",
        "            # nllfs = []\n",
        "            # zin = []\n",
        "            # for tns in np.arange(50,200, 5):\n",
        "            #     #print(\"zs\", zs)\n",
        "            #     Mcopy.Tn.value = tns\n",
        "            #     Mcopy.update()\n",
        "            #     schi=Mcopy.nllf()\n",
        "            #     nllfs.append(schi)\n",
        "            #     zin.append(tns)\n",
        "            # plt.scatter(zin, nllfs)\n",
        "            # plt.xlabel(\"tn in\")\n",
        "            # plt.ylabel(\"chi\") \n",
        "            # plt.show()\n",
        "            # plt.close()\n",
        "\n",
        "            self.x, dx, chisq, params = OrderMethods.fit(M)\n",
        "            self.Nf = self.x[1]\n",
        "            self.Jt = self.x[0]\n",
        "            self.x = self.x[2]\n",
        "            print(\"ORDER PARAM RESULT (X2):\", self.x)\n",
        "            print(\"THE JT RESULT {X0}:\", self.Jt)\n",
        "            print(\"THE NF RESULT {X1}:\", self.Nf)\n",
        "\n",
        "            dx = params[0].dx\n",
        "\n",
        "            print(\"chisqds: \", chisq)\n",
        "            print(\"BUT ARE WE SURE?:\", dx)\n",
        "\n",
        "            plt.plot(self.T, self.I, 'ro')\n",
        "            plt.show()\n",
        "            plt.close()\n",
        "\n",
        "            # if(action > 0.5):\n",
        "            #   reward += 1000\n",
        "\n",
        "            if chisq < 2 :\n",
        "                  reward += 100\n",
        "\n",
        "            self.chisqds.append(chisq)\n",
        "            self.transTemps.append(self.x)\n",
        "            self.Jts.append(self.Jt)\n",
        "            self.Nfs.append(self.Nf)\n",
        "\n",
        "        print(\"highHIIIIGHHHHHH: \", (340-self.curTemp))\n",
        "        print(\"rewaRD:: \", reward)\n",
        "\n",
        "        self.totReward += reward\n",
        "        self.state = np.array([self.curTemp])\n",
        "        delta = abs(340 - self.curTemp)\n",
        "\n",
        "        if (self.steps > 3 and chisq < 0.05 and dx < 10000000): #less than or equal to?\n",
        "            reward += 200\n",
        "            print(\"terminated: excellent conditions\")\n",
        "            terminal = True\n",
        "            self.log()\n",
        "\n",
        "        elif (self.curTemp >= 340):\n",
        "            print(\"terminated: over max temp\")\n",
        "            terminal = True\n",
        "            self.log()\n",
        "        elif (self.steps > 100):\n",
        "            print(\"terminated: too long\")\n",
        "            terminal = True\n",
        "            self.log()\n",
        "        else:\n",
        "            terminal = False\n",
        "        \n",
        "        print(\"returned state:\", self.state)\n",
        "        o = self.observation_space \n",
        "        print(\"observation space: \", o.shape)\n",
        "        return self.state, reward, terminal, self.info\n",
        "\n",
        "\n",
        "    def reset(self):\n",
        "        print(\"reset\")\n",
        "        self.steps = 0\n",
        "        self.T = np.array([])\n",
        "        self.I = []\n",
        "        self.chisqds = []\n",
        "        self.transTemps = []\n",
        "        self.Jts = []\n",
        "        self.Nfs = []\n",
        "        self.totReward = 0\n",
        "        self.curTemp = 3\n",
        "        self.state = np.array([self.curTemp])\n",
        "\n",
        "        return self.state #starting state\n",
        "\n",
        "    def log(self):\n",
        "        self.episodeNum += 1\n",
        "\n",
        "        filename = \"logs/chis/chiLog-\" + str(self.episodeNum) + \".npy\"\n",
        "        np.savetxt(filename, self.chisqds)\n",
        "\n",
        "        filename = \"logs/temps/tnLog-\" + str(self.episodeNum) + \".npy\"\n",
        "        np.savetxt(filename, self.transTemps)\n",
        "\n",
        "        filename = \"logs/jt/jtLog-\" + str(self.episodeNum) + \".npy\"\n",
        "        np.savetxt(filename, self.Jts)\n",
        "\n",
        "        filename = \"logs/nf/nfLog-\" + str(self.episodeNum) + \".npy\"\n",
        "        np.savetxt(filename, self.Nfs)\n",
        "\n",
        "        self.rewards.append(self.totReward)\n",
        "        filename = \"logs/runrewards.npy\"\n",
        "        np.savetxt(filename, self.rewards)\n",
        "\n",
        "    # @property\n",
        "    # def action_space(self):\n",
        "    #     return spaces.Box(low = np.array([0.5]), high = np.array([340 - self.curTemp]))\n",
        "    #     # return spaces.Box(low = np.array([self.curTemp + 0.5]), high = np.array([340]))\n",
        "\n",
        "    @property \n",
        "    def observation_space(self):\n",
        "        return spaces.Box(low=3.0, high=340.0, shape=(self.steps + 1,), dtype=np.float32)\n",
        "\n",
        "    def round_to(self, n, precision):\n",
        "        correction = 0.5 if n >= 0 else -0.5\n",
        "        return int( n/precision+correction ) * precision\n",
        "\n",
        "    def getData(self, T, Bk):\n",
        "        return OrderMethods.orderparameter(T, self.fixedTn, self.fixedJt, self.fixedNf, Bk)\n",
        "\n",
        "    def setTn(self, Tn):\n",
        "        self.fixedTn = Tn\n",
        "    \n",
        "    def setNf(self, Nf):\n",
        "        self.fixedNf = Nf\n",
        "\n",
        "    def setJt(self, Jt):\n",
        "        self.fixedJt = Jt"
      ],
      "execution_count": 6,
      "outputs": []
    },
    {
      "cell_type": "code",
      "metadata": {
        "id": "cwwovwfwMiFL",
        "colab_type": "code",
        "colab": {
          "base_uri": "https://localhost:8080/",
          "height": 1000
        },
        "outputId": "298eb877-5211-4b64-dc93-2c255f26762a"
      },
      "source": [
        "from stable_baselines.common.env_checker import check_env\n",
        "env = OrderEnv()\n",
        "# If the environment don't follow the interface, an error will be thrown\n",
        "check_env(env, warn=True)"
      ],
      "execution_count": 8,
      "outputs": [
        {
          "output_type": "stream",
          "text": [
            "WARNING:tensorflow:\n",
            "The TensorFlow contrib module will not be included in TensorFlow 2.0.\n",
            "For more information, please see:\n",
            "  * https://github.com/tensorflow/community/blob/master/rfcs/20180907-contrib-sunset.md\n",
            "  * https://github.com/tensorflow/addons\n",
            "  * https://github.com/tensorflow/io (for I/O related ops)\n",
            "If you depend on functionality not listed there, please file an issue.\n",
            "\n",
            "reset\n",
            "stepping:  0\n",
            "ACTION            :  6\n",
            "curtemp:  33.0\n",
            "Temperature:  [33.]\n",
            "highHIIIIGHHHHHH:  307.0\n",
            "rewaRD::  -100\n",
            "returned state: [33.]\n",
            "observation space:  (2,)\n",
            "stepping:  0\n",
            "ACTION            :  3\n",
            "curtemp:  48.0\n",
            "Temperature:  [33. 48.]\n",
            "highHIIIIGHHHHHH:  292.0\n",
            "rewaRD::  -100\n",
            "returned state: [48.]\n",
            "observation space:  (3,)\n",
            "stepping:  0\n",
            "ACTION            :  3\n",
            "curtemp:  63.0\n",
            "Temperature:  [33. 48. 63.]\n",
            "highHIIIIGHHHHHH:  277.0\n",
            "rewaRD::  -100\n",
            "returned state: [63.]\n",
            "observation space:  (4,)\n",
            "stepping:  0\n",
            "ACTION            :  5\n",
            "curtemp:  88.0\n",
            "Temperature:  [33. 48. 63. 88.]\n",
            "Intensity:  [329.96643649 326.47253736 315.89652018 277.33554063]\n",
            "ORDER PARAM RESULT (X2): 168.7537167933528\n",
            "THE JT RESULT {X0}: 0.4000012393511291\n",
            "THE NF RESULT {X1}: 236.02739294223878\n",
            "chisqds:  88.02035665974702\n",
            "BUT ARE WE SURE?: 9.312454111446126\n"
          ],
          "name": "stdout"
        },
        {
          "output_type": "display_data",
          "data": {
            "image/png": "[encoded data removed]",
            "text/plain": [
              "<Figure size 432x288 with 1 Axes>"
            ]
          },
          "metadata": {
            "tags": [],
            "needs_background": "light"
          }
        },
        {
          "output_type": "stream",
          "text": [
            "highHIIIIGHHHHHH:  252.0\n",
            "rewaRD::  -100\n",
            "returned state: [88.]\n",
            "observation space:  (5,)\n",
            "stepping:  0\n",
            "ACTION            :  5\n",
            "curtemp:  113.0\n",
            "Temperature:  [ 33.  48.  63.  88. 113.]\n",
            "Intensity:  [329.96643649 326.47253736 315.89652018 277.33554063 209.85565285]\n",
            "ORDER PARAM RESULT (X2): 150.15638332160427\n",
            "THE JT RESULT {X0}: 0.4000004129617499\n",
            "THE NF RESULT {X1}: 216.32836109202563\n",
            "chisqds:  86.48123781874942\n",
            "BUT ARE WE SURE?: 1.8955101243159882\n"
          ],
          "name": "stdout"
        },
        {
          "output_type": "display_data",
          "data": {
            "image/png": "[encoded data removed]",
            "text/plain": [
              "<Figure size 432x288 with 1 Axes>"
            ]
          },
          "metadata": {
            "tags": [],
            "needs_background": "light"
          }
        },
        {
          "output_type": "stream",
          "text": [
            "highHIIIIGHHHHHH:  227.0\n",
            "rewaRD::  -100\n",
            "returned state: [113.]\n",
            "observation space:  (6,)\n",
            "stepping:  0\n",
            "ACTION            :  6\n",
            "curtemp:  143.0\n",
            "Temperature:  [ 33.  48.  63.  88. 113. 143.]\n",
            "Intensity:  [329.96643649 326.47253736 315.89652018 277.33554063 209.85565285\n",
            "  88.79189244]\n",
            "ORDER PARAM RESULT (X2): 151.228751826278\n",
            "THE JT RESULT {X0}: 0.40000084420339077\n",
            "THE NF RESULT {X1}: 223.7281176104805\n",
            "chisqds:  60.03910370214968\n",
            "BUT ARE WE SURE?: 0.7376558182026108\n"
          ],
          "name": "stdout"
        },
        {
          "output_type": "display_data",
          "data": {
            "image/png": "[encoded data removed]",
            "text/plain": [
              "<Figure size 432x288 with 1 Axes>"
            ]
          },
          "metadata": {
            "tags": [],
            "needs_background": "light"
          }
        },
        {
          "output_type": "stream",
          "text": [
            "highHIIIIGHHHHHH:  197.0\n",
            "rewaRD::  -100\n",
            "returned state: [143.]\n",
            "observation space:  (7,)\n",
            "stepping:  0\n",
            "ACTION            :  3\n",
            "curtemp:  158.0\n",
            "Temperature:  [ 33.  48.  63.  88. 113. 143. 158.]\n",
            "Intensity:  [329.96643649 326.47253736 315.89652018 277.33554063 209.85565285\n",
            "  88.79189244  11.46559061]\n",
            "ORDER PARAM RESULT (X2): 151.1796535429428\n",
            "THE JT RESULT {X0}: 0.4000013194248588\n",
            "THE NF RESULT {X1}: 223.40929939312684\n",
            "chisqds:  48.07202918442545\n",
            "BUT ARE WE SURE?: 0.738077841709117\n"
          ],
          "name": "stdout"
        },
        {
          "output_type": "display_data",
          "data": {
            "image/png": "[encoded data removed]",
            "text/plain": [
              "<Figure size 432x288 with 1 Axes>"
            ]
          },
          "metadata": {
            "tags": [],
            "needs_background": "light"
          }
        },
        {
          "output_type": "stream",
          "text": [
            "highHIIIIGHHHHHH:  182.0\n",
            "rewaRD::  -100\n",
            "returned state: [158.]\n",
            "observation space:  (8,)\n",
            "stepping:  0\n",
            "ACTION            :  4\n",
            "curtemp:  178.0\n",
            "Temperature:  [ 33.  48.  63.  88. 113. 143. 158. 178.]\n",
            "Intensity:  [3.29966436e+02 3.26472537e+02 3.15896520e+02 2.77335541e+02\n",
            " 2.09855653e+02 8.87918924e+01 1.14655906e+01 3.00000000e-01]\n",
            "ORDER PARAM RESULT (X2): 151.35324635345148\n",
            "THE JT RESULT {X0}: 0.40000010791400037\n",
            "THE NF RESULT {X1}: 224.51403790957585\n",
            "chisqds:  37.557530376663706\n",
            "BUT ARE WE SURE?: 0.7366670822321268\n"
          ],
          "name": "stdout"
        },
        {
          "output_type": "display_data",
          "data": {
            "image/png": "[encoded data removed]",
            "text/plain": [
              "<Figure size 432x288 with 1 Axes>"
            ]
          },
          "metadata": {
            "tags": [],
            "needs_background": "light"
          }
        },
        {
          "output_type": "stream",
          "text": [
            "highHIIIIGHHHHHH:  162.0\n",
            "rewaRD::  -100\n",
            "returned state: [178.]\n",
            "observation space:  (9,)\n",
            "stepping:  0\n",
            "ACTION            :  2\n",
            "curtemp:  188.0\n",
            "Temperature:  [ 33.  48.  63.  88. 113. 143. 158. 178. 188.]\n",
            "Intensity:  [3.29966436e+02 3.26472537e+02 3.15896520e+02 2.77335541e+02\n",
            " 2.09855653e+02 8.87918924e+01 1.14655906e+01 3.00000000e-01\n",
            " 3.00000000e-01]\n",
            "ORDER PARAM RESULT (X2): 151.53484276642882\n",
            "THE JT RESULT {X0}: 0.4000003955649994\n",
            "THE NF RESULT {X1}: 225.66438868419678\n",
            "chisqds:  30.52521570271971\n",
            "BUT ARE WE SURE?: 0.7352299773249413\n"
          ],
          "name": "stdout"
        },
        {
          "output_type": "display_data",
          "data": {
            "image/png": "[encoded data removed]",
            "text/plain": [
              "<Figure size 432x288 with 1 Axes>"
            ]
          },
          "metadata": {
            "tags": [],
            "needs_background": "light"
          }
        },
        {
          "output_type": "stream",
          "text": [
            "highHIIIIGHHHHHH:  152.0\n",
            "rewaRD::  -100\n",
            "returned state: [188.]\n",
            "observation space:  (10,)\n",
            "stepping:  0\n",
            "ACTION            :  2\n",
            "curtemp:  198.0\n",
            "Temperature:  [ 33.  48.  63.  88. 113. 143. 158. 178. 188. 198.]\n",
            "Intensity:  [3.29966436e+02 3.26472537e+02 3.15896520e+02 2.77335541e+02\n",
            " 2.09855653e+02 8.87918924e+01 1.14655906e+01 3.00000000e-01\n",
            " 3.00000000e-01 3.00000000e-01]\n",
            "ORDER PARAM RESULT (X2): 151.70726100401285\n",
            "THE JT RESULT {X0}: 0.4000002686932967\n",
            "THE NF RESULT {X1}: 226.79311146556637\n",
            "chisqds:  25.527843182941968\n",
            "BUT ARE WE SURE?: 0.7337674449304853\n"
          ],
          "name": "stdout"
        },
        {
          "output_type": "display_data",
          "data": {
            "image/png": "[encoded data removed]",
            "text/plain": [
              "<Figure size 432x288 with 1 Axes>"
            ]
          },
          "metadata": {
            "tags": [],
            "needs_background": "light"
          }
        },
        {
          "output_type": "stream",
          "text": [
            "highHIIIIGHHHHHH:  142.0\n",
            "rewaRD::  -100\n",
            "returned state: [198.]\n",
            "observation space:  (11,)\n",
            "stepping:  0\n",
            "ACTION            :  3\n",
            "curtemp:  213.0\n",
            "Temperature:  [ 33.  48.  63.  88. 113. 143. 158. 178. 188. 198. 213.]\n",
            "Intensity:  [3.29966436e+02 3.26472537e+02 3.15896520e+02 2.77335541e+02\n",
            " 2.09855653e+02 8.87918924e+01 1.14655906e+01 3.00000000e-01\n",
            " 3.00000000e-01 3.00000000e-01 3.00000000e-01]\n",
            "ORDER PARAM RESULT (X2): 151.8800898898078\n",
            "THE JT RESULT {X0}: 0.4000014308452705\n",
            "THE NF RESULT {X1}: 227.88874064846243\n",
            "chisqds:  21.798255927830773\n",
            "BUT ARE WE SURE?: 0.732437022272869\n"
          ],
          "name": "stdout"
        },
        {
          "output_type": "display_data",
          "data": {
            "image/png": "[encoded data removed]",
            "text/plain": [
              "<Figure size 432x288 with 1 Axes>"
            ]
          },
          "metadata": {
            "tags": [],
            "needs_background": "light"
          }
        },
        {
          "output_type": "stream",
          "text": [
            "highHIIIIGHHHHHH:  127.0\n",
            "rewaRD::  -100\n",
            "returned state: [213.]\n",
            "observation space:  (12,)\n"
          ],
          "name": "stdout"
        }
      ]
    },
    {
      "cell_type": "code",
      "metadata": {
        "id": "PQfLBE28SNDr",
        "colab_type": "code",
        "colab": {}
      },
      "source": [
        "from stable_baselines import PPO2, A2C\n",
        "from stable_baselines.common.cmd_util import make_vec_env\n",
        "\n",
        "# Instantiate the env\n",
        "env = OrderEnv()\n",
        "# wrap it\n",
        "env = make_vec_env(lambda: env, n_envs=1) #retrieve?"
      ],
      "execution_count": null,
      "outputs": []
    },
    {
      "cell_type": "markdown",
      "metadata": {
        "id": "K_NZ1QplARNn",
        "colab_type": "text"
      },
      "source": [
        "Train a new model."
      ]
    },
    {
      "cell_type": "code",
      "metadata": {
        "id": "zRV4Q7FVUKB6",
        "colab_type": "code",
        "colab": {}
      },
      "source": [
        "model = PPO2('MlpPolicy', env, verbose=1).learn(15000)"
      ],
      "execution_count": null,
      "outputs": []
    },
    {
      "cell_type": "code",
      "metadata": {
        "id": "BCW6SORy7AI_",
        "colab_type": "code",
        "colab": {}
      },
      "source": [
        "model.save(\"models/\")"
      ],
      "execution_count": null,
      "outputs": []
    },
    {
      "cell_type": "markdown",
      "metadata": {
        "id": "_h0b0sT39MV5",
        "colab_type": "text"
      },
      "source": [
        "Restart the training from a saved model."
      ]
    },
    {
      "cell_type": "code",
      "metadata": {
        "id": "6pdu1hWT8cv-",
        "colab_type": "code",
        "colab": {}
      },
      "source": [
        "model = PPO2.load(\"models/3245_first_attempt\", env)  #if needed, instatiate env above\n",
        "model = model.learn(500)"
      ],
      "execution_count": null,
      "outputs": []
    },
    {
      "cell_type": "markdown",
      "metadata": {
        "id": "H9wIsWk99FGq",
        "colab_type": "text"
      },
      "source": [
        "Test the trained agent."
      ]
    },
    {
      "cell_type": "code",
      "metadata": {
        "id": "BJbeiF0RUN-p",
        "colab_type": "code",
        "colab": {}
      },
      "source": [
        "from stable_baselines import PPO2, A2C\n",
        "from stable_baselines.common.cmd_util import make_vec_env\n",
        "\n",
        "model = PPO2.load(\"models/3245_first_attempt\") #if you're 'playing' a saved model\n",
        "\n",
        "env = OrderEnv() \n",
        "env.setTn(130)\n",
        "# wrap it\n",
        "env = make_vec_env(lambda: env, n_envs=1) \n",
        "\n",
        "obs = env.reset()\n",
        "n_steps = 20\n",
        "for step in range(n_steps):\n",
        "  action, _ = model.predict(obs, deterministic=True)\n",
        "  print(\"Step {}\".format(step + 1))\n",
        "  print(\"Action: \", action)\n",
        "  obs, reward, done, info = env.step(action)\n",
        "  print('obs=', obs, 'reward=', reward, 'done=', done)\n",
        "  if done:\n",
        "    print(\"Goal reached!\", \"reward=\", reward)\n",
        "    break"
      ],
      "execution_count": null,
      "outputs": []
    },
    {
      "cell_type": "markdown",
      "metadata": {
        "id": "ACw99Axl9X7l",
        "colab_type": "text"
      },
      "source": [
        "Graph the results of the training time."
      ]
    },
    {
      "cell_type": "code",
      "metadata": {
        "id": "dpnILpJsBZxX",
        "colab_type": "code",
        "colab": {
          "base_uri": "https://localhost:8080/"
        },
        "outputId": "8d6e32f6-48a0-42b2-cadb-e7f559bb3e49"
      },
      "source": [
        "numTrials = 1140\n",
        "\n",
        "endParams = [[] for i in range(numTrials)]\n",
        "data = [[] for i in range(numTrials)]\n",
        "chis = [[] for i in range(numTrials)]\n",
        "nfs = [[] for i in range(numTrials)]\n",
        "jts = [[] for i in range(numTrials)]\n",
        "endtns = []\n",
        "endnfs = []\n",
        "endjts = []\n",
        "tn = 160\n",
        "nf = 216\n",
        "jt = .2\n",
        "convergs_tn = []\n",
        "convergs_nf = []\n",
        "convergs_jt = []\n",
        "imagestore = \"logs/\"\n",
        "logstore = \"logs/\"\n",
        "\n",
        "for i in range(1,numTrials+1):\n",
        "    data[i-1] = np.loadtxt(logstore +  \"temps/tnLog-\" + str(i) + \".npy\")\n",
        "    chis[i-1] = np.loadtxt(logstore + \"chis/chiLog-\" + str(i) + \".npy\")\n",
        "    nfs[i-1] = np.loadtxt(logstore + \"nf/nfLog-\" + str(i) + \".npy\")\n",
        "    jts[i-1] = np.loadtxt(logstore + \"jt/jtLog-\" + str(i) + \".npy\")\n",
        "\n",
        "#plot each episode tn track, process ending values for plotting below\n",
        "for i in range (0, len(data)): \n",
        "    j = 0\n",
        "    try: \n",
        "      while j < len(data[i]) - 1 and data[i][j] > tn + 0.1 or data[i][j] < tn - 0.1:\n",
        "        j += 1\n",
        "    except: \n",
        "      j = 0\n",
        "    \n",
        "    w = 0\n",
        "    try: \n",
        "      while w < len(nfs[i]) - 1 and nfs[i][w] > nf + 0.1 or nfs[i][w] < nf - 0.1:\n",
        "        w += 1\n",
        "    except: \n",
        "      w = 0\n",
        "    \n",
        "    k = 0\n",
        "    try: \n",
        "      while k < len(jts[i]) - 1 and jts[i][k] > jt + 0.1 or jts[i][k] < jt - 0.1:\n",
        "        k += 1\n",
        "    except: \n",
        "      k = 0\n",
        "    \n",
        "    convergs_tn.append(j)\n",
        "    convergs_nf.append(w)\n",
        "    convergs_jt.append(k)\n",
        "\n",
        "    plt.plot(data[i], label = str(i))\n",
        "\n",
        "    try:\n",
        "      value = data[i][-1]\n",
        "    except:\n",
        "      value = data[i]\n",
        "    try:\n",
        "      nf = nfs[i][-1]\n",
        "    except:\n",
        "      nf = nfs[i]\n",
        "    try:\n",
        "      jt = jts[i][-1]\n",
        "    except:\n",
        "      jt = jts[i]\n",
        "\n",
        "    #print(value)\n",
        "    endtns.append(value)\n",
        "    endnfs.append(nf)\n",
        "    endjts.append(jt)\n",
        "    #print(endtns)\n",
        "\n",
        "plt.xlabel(\"measurement steps\")\n",
        "plt.ylabel(\"tn value\")\n",
        "plt.show()\n",
        "plt.savefig(imagestore + \"tns.png\")\n",
        "plt.close()\n",
        "\n",
        "print(\"convergence for tn\")\n",
        "plt.plot(convergs_tn, 'ro')\n",
        "plt.xlabel(\"episodes\")\n",
        "plt.ylabel(\"step at which convergence is reached\")\n",
        "plt.show()\n",
        "plt.savefig(imagestore + 'convergs_tn.png')\n",
        "\n",
        "print(\"convergence for nf\")\n",
        "plt.plot(convergs_nf, 'ro')\n",
        "plt.xlabel(\"episodes\")\n",
        "plt.ylabel(\"step at which convergence is reached\")\n",
        "plt.show()\n",
        "plt.savefig(imagestore + 'convergs_nf.png')\n",
        "\n",
        "print(\"convergence for jt\")\n",
        "plt.plot(convergs_jt, 'ro')\n",
        "plt.xlabel(\"episodes\")\n",
        "plt.ylabel(\"step at which convergence is reached\")\n",
        "plt.show()\n",
        "plt.savefig(imagestore + 'convergs_jt.png')\n",
        "\n",
        "#actually plot final tn values for each episode\n",
        "plt.plot(endtns, 'bo')\n",
        "plt.xlabel(\"episodes\")\n",
        "plt.ylabel(\"tn value\")\n",
        "plt.show()\n",
        "plt.savefig(imagestore + \"endtns.png\")\n",
        "plt.close()\n",
        "\n",
        "print(\"final nfs\")\n",
        "plt.plot(endnfs, 'go')\n",
        "plt.xlabel(\"episodes\")\n",
        "plt.ylabel(\"nf value\")\n",
        "plt.show()\n",
        "plt.savefig(imagestore + \"endnfs.png\")\n",
        "plt.close()\n",
        "\n",
        "print(\"final jts\")\n",
        "plt.plot(endjts, 'mo')\n",
        "plt.xlabel(\"episodes\")\n",
        "plt.ylabel(\"jt value\")\n",
        "plt.show()\n",
        "plt.savefig(imagestore + \"endjts.png\")\n",
        "plt.close()\n",
        "\n",
        "#track chisq values through the episode\n",
        "for i in range (0, len(chis)):\n",
        "  plt.plot(chis[i], label = str(i))\n",
        "\n",
        "plt.xlabel(\"steps\")\n",
        "plt.ylabel(\"chis\")\n",
        "plt.show()\n",
        "plt.close()\n",
        "\n",
        "\n",
        "print(\"rewards at the end of the episode\")\n",
        "rewards = np.loadtxt('logs/runrewards.npy')\n",
        "plt.plot(rewards, 'ro')\n",
        "plt.show()\n",
        "plt.close()\n"
      ],
      "execution_count": null,
      "outputs": [
        {
          "output_type": "display_data",
          "data": {
            "image/png": "[encoded data removed]",
            "text/plain": [
              "<Figure size 432x288 with 1 Axes>"
            ]
          },
          "metadata": {
            "tags": [],
            "needs_background": "light"
          }
        },
        {
          "output_type": "stream",
          "text": [
            "convergence for tn\n"
          ],
          "name": "stdout"
        },
        {
          "output_type": "display_data",
          "data": {
            "image/png": "[encoded data removed]",
            "text/plain": [
              "<Figure size 432x288 with 1 Axes>"
            ]
          },
          "metadata": {
            "tags": [],
            "needs_background": "light"
          }
        },
        {
          "output_type": "stream",
          "text": [
            "convergence for nf\n"
          ],
          "name": "stdout"
        },
        {
          "output_type": "display_data",
          "data": {
            "image/png": "[encoded data removed]",
            "text/plain": [
              "<Figure size 432x288 with 1 Axes>"
            ]
          },
          "metadata": {
            "tags": [],
            "needs_background": "light"
          }
        },
        {
          "output_type": "stream",
          "text": [
            "convergence for jt\n"
          ],
          "name": "stdout"
        },
        {
          "output_type": "display_data",
          "data": {
            "image/png": "[encoded data removed]",
            "text/plain": [
              "<Figure size 432x288 with 1 Axes>"
            ]
          },
          "metadata": {
            "tags": [],
            "needs_background": "light"
          }
        },
        {
          "output_type": "display_data",
          "data": {
            "image/png": "[encoded data removed]",
            "text/plain": [
              "<Figure size 432x288 with 1 Axes>"
            ]
          },
          "metadata": {
            "tags": [],
            "needs_background": "light"
          }
        },
        {
          "output_type": "stream",
          "text": [
            "final nfs\n"
          ],
          "name": "stdout"
        },
        {
          "output_type": "display_data",
          "data": {
            "image/png": "[encoded data removed]",
            "text/plain": [
              "<Figure size 432x288 with 1 Axes>"
            ]
          },
          "metadata": {
            "tags": [],
            "needs_background": "light"
          }
        },
        {
          "output_type": "stream",
          "text": [
            "final jts\n"
          ],
          "name": "stdout"
        },
        {
          "output_type": "display_data",
          "data": {
            "image/png": "[encoded data removed]",
            "text/plain": [
              "<Figure size 432x288 with 1 Axes>"
            ]
          },
          "metadata": {
            "tags": [],
            "needs_background": "light"
          }
        },
        {
          "output_type": "display_data",
          "data": {
            "image/png": "[encoded data removed]",
            "text/plain": [
              "<Figure size 432x288 with 1 Axes>"
            ]
          },
          "metadata": {
            "tags": [],
            "needs_background": "light"
          }
        },
        {
          "output_type": "stream",
          "text": [
            "rewards at the end of the episode\n"
          ],
          "name": "stdout"
        },
        {
          "output_type": "display_data",
          "data": {
            "image/png": "[encoded data removed]",
            "text/plain": [
              "<Figure size 432x288 with 1 Axes>"
            ]
          },
          "metadata": {
            "tags": [],
            "needs_background": "light"
          }
        }
      ]
    },
    {
      "cell_type": "markdown",
      "metadata": {
        "id": "SVeq1UGQ9dtA",
        "colab_type": "text"
      },
      "source": [
        "Test how a classical fitter works."
      ]
    },
    {
      "cell_type": "code",
      "metadata": {
        "id": "MhZfeon4W_UG",
        "colab_type": "code",
        "colab": {
          "base_uri": "https://localhost:8080/",
          "height": 704
        },
        "outputId": "0638f24a-7901-4964-ca39-2dd3ee34b0c9"
      },
      "source": [
        "p=[.885,330,.3]\n",
        "T=np.arange(3, 300, 4)\n",
        "#T = np.array([14.5, 15])\n",
        "print(\"temperature: \", T)\n",
        "#T=N.arange(10,300,2)\n",
        "I=[]\n",
        "error = []\n",
        "\n",
        "I=OrderMethods.orderparameter(T, 160,p[0],p[1],p[2])\n",
        "print(\"Intensity: \", I)\n",
        "error= np.sqrt(I)\n",
        "#print(error)\n",
        "\n",
        "M = Curve(OrderMethods.orderparameter, T, I, error, Jt = p[0], Nf = p[1], Bk = p[2])\n",
        "M.Tn.range(10,400)\n",
        "\n",
        "x, dx, chisq, params = OrderMethods.fit(M)\n",
        "print(x)\n",
        "\n",
        "fitI = OrderMethods.orderparameter(T, x, p[0],p[1],p[2])\n",
        "\n",
        "plt.errorbar(T, I, error)\n",
        "plt.plot(T, fitI,'ro', markersize = 2)\n",
        "plt.xlabel(\"Temperature\")\n",
        "plt.ylabel(\"Intensity\") \n",
        "plt.close()"
      ],
      "execution_count": null,
      "outputs": [
        {
          "output_type": "stream",
          "text": [
            "temperature:  [  3   7  11  15  19  23  27  31  35  39  43  47  51  55  59  63  67  71\n",
            "  75  79  83  87  91  95  99 103 107 111 115 119 123 127 131 135 139 143\n",
            " 147 151 155 159 163 167 171 175 179 183 187 191 195 199 203 207 211 215\n",
            " 219 223 227 231 235 239 243 247 251 255 259 263 267 271 275 279 283 287\n",
            " 291 295 299]\n",
            "Intensity:  [3.30300000e+02 3.30300000e+02 3.30300000e+02 3.30299968e+02\n",
            " 3.30298873e+02 3.30288400e+02 3.30240148e+02 3.30097540e+02\n",
            " 3.29780585e+02 3.29198527e+02 3.28262096e+02 3.26891299e+02\n",
            " 3.25018669e+02 3.22589434e+02 3.19560107e+02 3.15896520e+02\n",
            " 3.11571865e+02 3.06564979e+02 3.00858961e+02 2.94440090e+02\n",
            " 2.87297081e+02 2.79420348e+02 2.70801736e+02 2.61434116e+02\n",
            " 2.51311176e+02 2.40427213e+02 2.28777201e+02 2.16356427e+02\n",
            " 2.03160611e+02 1.89185814e+02 1.74428400e+02 1.58884980e+02\n",
            " 1.42552440e+02 1.25427847e+02 1.07508512e+02 8.87918924e+01\n",
            " 6.92756680e+01 4.89576161e+01 2.78357095e+01 5.90802675e+00\n",
            " 3.00000000e-01 3.00000000e-01 3.00000000e-01 3.00000000e-01\n",
            " 3.00000000e-01 3.00000000e-01 3.00000000e-01 3.00000000e-01\n",
            " 3.00000000e-01 3.00000000e-01 3.00000000e-01 3.00000000e-01\n",
            " 3.00000000e-01 3.00000000e-01 3.00000000e-01 3.00000000e-01\n",
            " 3.00000000e-01 3.00000000e-01 3.00000000e-01 3.00000000e-01\n",
            " 3.00000000e-01 3.00000000e-01 3.00000000e-01 3.00000000e-01\n",
            " 3.00000000e-01 3.00000000e-01 3.00000000e-01 3.00000000e-01\n",
            " 3.00000000e-01 3.00000000e-01 3.00000000e-01 3.00000000e-01\n",
            " 3.00000000e-01 3.00000000e-01 3.00000000e-01]\n"
          ],
          "name": "stdout"
        },
        {
          "output_type": "display_data",
          "data": {
            "image/png": "[encoded data removed]",
            "text/plain": [
              "<Figure size 432x288 with 1 Axes>"
            ]
          },
          "metadata": {
            "tags": [],
            "needs_background": "light"
          }
        },
        {
          "output_type": "stream",
          "text": [
            "[160.]\n"
          ],
          "name": "stdout"
        }
      ]
    },
    {
      "cell_type": "code",
      "metadata": {
        "id": "4aNGf79BzmZL",
        "colab_type": "code",
        "colab": {}
      },
      "source": [
        ""
      ],
      "execution_count": null,
      "outputs": []
    }
  ]
}